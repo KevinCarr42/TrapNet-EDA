{
 "cells": [
  {
   "cell_type": "code",
   "execution_count": 1,
   "id": "1ffe74b9",
   "metadata": {},
   "outputs": [
    {
     "data": {
      "text/html": [
       "<style>.container { width:100% !important; }</style>"
      ],
      "text/plain": [
       "<IPython.core.display.HTML object>"
      ]
     },
     "metadata": {},
     "output_type": "display_data"
    },
    {
     "data": {
      "text/html": [
       "<style>.dataframe td { white-space: nowrap; }</style>"
      ],
      "text/plain": [
       "<IPython.core.display.HTML object>"
      ]
     },
     "metadata": {},
     "output_type": "display_data"
    }
   ],
   "source": [
    "import numpy as np\n",
    "import pandas as pd\n",
    "import matplotlib.pyplot as plt\n",
    "import matplotlib as mpl\n",
    "import seaborn as sns\n",
    "\n",
    "sns.set_theme()\n",
    "\n",
    "# jupyter notebook full-width display\n",
    "from IPython.core.display import display, HTML\n",
    "display(HTML(\"<style>.container { width:100% !important; }</style>\"))\n",
    "\n",
    "# no text wrapping\n",
    "display(HTML(\"<style>.dataframe td { white-space: nowrap; }</style>\"))\n",
    "\n",
    "# pandas formatting\n",
    "pd.set_option('display.float_format', '{:.3f}'.format)\n",
    "pd.set_option('display.max_columns', None)\n",
    "pd.set_option('display.max_rows', 300)\n",
    "pd.set_option('display.max_colwidth', 200)"
   ]
  },
  {
   "cell_type": "code",
   "execution_count": 2,
   "id": "95a2f2ee",
   "metadata": {},
   "outputs": [],
   "source": [
    "df_hist = pd.read_csv(r'.\\csv\\trapnet_biologicaldetailing_202302231329.csv', low_memory=False)\n",
    "df_spec = pd.read_csv(r'.\\csv\\trapnet_specimen_202302231329.csv', low_memory=False)\n",
    "\n",
    "# historical data without trivial fields (fields with only one entry)\n",
    "unmatchable_hist = ['created_at', 'updated_at']\n",
    "df_hist = df_hist.drop(unmatchable_hist, axis=1).loc[:, df_hist.nunique() > 1]\n",
    "hist_sample_id_list = sorted(list(df_hist.sample_id.unique()))\n",
    "\n",
    "# all species in historical data are 79 (atlantic salmon)\n",
    "unmatchable_spec = ['created_at', 'updated_at', 'created_by_id', 'updated_by_id']\n",
    "df_spec = df_spec[(df_spec.species_id==79) & (df_spec.sample_id.isin(hist_sample_id_list))].reset_index(drop=True)\n",
    "df_spec = df_spec.drop(unmatchable_spec, axis=1).loc[:, df_spec.nunique() > 1]"
   ]
  },
  {
   "cell_type": "code",
   "execution_count": 3,
   "id": "c3156359",
   "metadata": {},
   "outputs": [],
   "source": [
    "# cast to int where appropriate\n",
    "df_hist[['fork_length', 'sex_id']] = df_hist[['fork_length', 'sex_id']].astype('Int64')\n",
    "df_spec[['fork_length', 'sex_id']] = df_spec[['fork_length', 'sex_id']].astype('Int64')"
   ]
  },
  {
   "cell_type": "code",
   "execution_count": 4,
   "id": "61341ae2",
   "metadata": {},
   "outputs": [],
   "source": [
    "# archived fish data\n",
    "df_archive = pd.read_csv(r'.\\csv\\fish_data.csv', low_memory=False)\n",
    "df_archive['DATETIME'] = pd.to_datetime(df_archive['SITE_EVENT_DATE'].str.split(' ', expand=True)[0], format='%d/%m/%Y')\n",
    "df_archive['old_id'] = 'GD_' + df_archive['GD_ID'].astype(str)\n",
    "df_archive = df_archive[['old_id', 'DATETIME'] + [x for x in df_archive.columns if x not in ['SITE_EVENT_DATE', 'DATETIME', 'old_id']]]"
   ]
  },
  {
   "cell_type": "code",
   "execution_count": 5,
   "id": "25415f2d",
   "metadata": {},
   "outputs": [],
   "source": [
    "# matching id\n",
    "\n",
    "df_hist['matching_id'] = df_hist['sample_id'].astype(str) + df_hist['fork_length'].astype(str) + df_hist['weight'].fillna(0).astype(str) + df_hist['sex_id'].fillna(0).astype(str)\n",
    "df_hist['matching_id'] = df_hist['matching_id'].str.replace('.', '_', regex=False)\n",
    "df_hist['distinct'] = ~df_hist.matching_id.isin(df_hist[df_hist.matching_id.duplicated()].matching_id.unique())\n",
    "\n",
    "df_spec['matching_id'] = df_spec['sample_id'].astype(str) + df_spec['fork_length'].astype(str) + df_spec['weight'].fillna(0).astype(str) + df_spec['sex_id'].fillna(0).astype(str)\n",
    "df_spec['matching_id'] = df_spec['matching_id'].str.replace('.', '_', regex=False)\n",
    "df_spec['distinct'] = ~df_spec.matching_id.isin(df_spec[df_spec.matching_id.duplicated()].matching_id.unique())\n",
    "\n",
    "spec_ids = list(df_spec.matching_id.unique())\n",
    "hist_ids = list(df_hist.matching_id.unique())\n",
    "\n",
    "matches = [x for x in spec_ids if x in hist_ids]"
   ]
  },
  {
   "cell_type": "markdown",
   "id": "260ba3e0",
   "metadata": {},
   "source": [
    "# differences between archive and biologicaldetailing\n",
    "#### conclusions: old_id <-> GD_ID correctly and adequately match samples between the database and the archive"
   ]
  },
  {
   "cell_type": "code",
   "execution_count": 6,
   "id": "7628383e",
   "metadata": {},
   "outputs": [],
   "source": [
    "df_merged = pd.merge(df_hist, df_archive, on='old_id')\n",
    "first_columns = ['sample_id', 'old_id', 'DATETIME']\n",
    "df_merged = df_merged[first_columns + [x for x in sorted(list(df_merged.columns), key=str.lower) if x not in first_columns]]"
   ]
  },
  {
   "cell_type": "code",
   "execution_count": 7,
   "id": "83154a56",
   "metadata": {},
   "outputs": [
    {
     "data": {
      "text/plain": [
       "((27524, 45), (27524, 23))"
      ]
     },
     "execution_count": 7,
     "metadata": {},
     "output_type": "execute_result"
    }
   ],
   "source": [
    "# need to join with sample to get dates for comparison\n",
    "# SAME NUMBER OF ROWS!!!\n",
    "df_merged.shape, pd.read_csv(r'.\\csv\\trapnet_biologicaldetailing_202302231329.csv', low_memory=False).shape"
   ]
  },
  {
   "cell_type": "code",
   "execution_count": 8,
   "id": "45fb0428",
   "metadata": {},
   "outputs": [
    {
     "data": {
      "text/plain": [
       "1    27351\n",
       "3      173\n",
       "Name: SURVEY_TYPE, dtype: int64"
      ]
     },
     "execution_count": 8,
     "metadata": {},
     "output_type": "execute_result"
    }
   ],
   "source": [
    "df_merged.SURVEY_TYPE.value_counts()"
   ]
  },
  {
   "cell_type": "code",
   "execution_count": 9,
   "id": "524f8872",
   "metadata": {},
   "outputs": [
    {
     "data": {
      "text/plain": [
       "161996    27524\n",
       "Name: SPECIES_ITIS_CODE, dtype: int64"
      ]
     },
     "execution_count": 9,
     "metadata": {},
     "output_type": "execute_result"
    }
   ],
   "source": [
    "# all atlantic salmon\n",
    "df_merged.SPECIES_ITIS_CODE.value_counts()"
   ]
  },
  {
   "cell_type": "code",
   "execution_count": 10,
   "id": "1c6be40b",
   "metadata": {},
   "outputs": [
    {
     "data": {
      "text/plain": [
       "161996    256154\n",
       "Name: SPECIES_ITIS_CODE, dtype: int64"
      ]
     },
     "execution_count": 10,
     "metadata": {},
     "output_type": "execute_result"
    }
   ],
   "source": [
    "# about 10x more salmon in the archive file\n",
    "df_archive[df_archive.SPECIES_ITIS_CODE=='161996'].SPECIES_ITIS_CODE.value_counts()"
   ]
  },
  {
   "cell_type": "code",
   "execution_count": 11,
   "id": "203dd2e7",
   "metadata": {},
   "outputs": [],
   "source": [
    "comparisons = {\n",
    "    'age_type': 'AGE_TYPE',\n",
    "    'fork_length': 'FORK_LENGTH',\n",
    "    'life_stage_id': 'MATURITY', \n",
    "    'sex_id': 'SEX',\n",
    "    'total_length': 'TOTAL_LENGTH',\n",
    "    'weight': 'WEIGHT',\n",
    "    'river_age': 'RIVER_AGE'\n",
    "}"
   ]
  },
  {
   "cell_type": "code",
   "execution_count": 12,
   "id": "4321d809",
   "metadata": {},
   "outputs": [
    {
     "data": {
      "text/html": [
       "<div>\n",
       "<style scoped>\n",
       "    .dataframe tbody tr th:only-of-type {\n",
       "        vertical-align: middle;\n",
       "    }\n",
       "\n",
       "    .dataframe tbody tr th {\n",
       "        vertical-align: top;\n",
       "    }\n",
       "\n",
       "    .dataframe thead th {\n",
       "        text-align: right;\n",
       "    }\n",
       "</style>\n",
       "<table border=\"1\" class=\"dataframe\">\n",
       "  <thead>\n",
       "    <tr style=\"text-align: right;\">\n",
       "      <th></th>\n",
       "      <th>sample_id</th>\n",
       "      <th>old_id</th>\n",
       "      <th>DATETIME</th>\n",
       "      <th>river_age</th>\n",
       "      <th>RIVER_AGE</th>\n",
       "    </tr>\n",
       "  </thead>\n",
       "  <tbody>\n",
       "    <tr>\n",
       "      <th>0</th>\n",
       "      <td>4390</td>\n",
       "      <td>GD_1</td>\n",
       "      <td>1968-08-09</td>\n",
       "      <td>0.000</td>\n",
       "      <td>0.000</td>\n",
       "    </tr>\n",
       "    <tr>\n",
       "      <th>1</th>\n",
       "      <td>4390</td>\n",
       "      <td>GD_2</td>\n",
       "      <td>1968-08-09</td>\n",
       "      <td>0.000</td>\n",
       "      <td>0.000</td>\n",
       "    </tr>\n",
       "    <tr>\n",
       "      <th>2</th>\n",
       "      <td>4390</td>\n",
       "      <td>GD_3</td>\n",
       "      <td>1968-08-09</td>\n",
       "      <td>0.000</td>\n",
       "      <td>0.000</td>\n",
       "    </tr>\n",
       "    <tr>\n",
       "      <th>3</th>\n",
       "      <td>4390</td>\n",
       "      <td>GD_4</td>\n",
       "      <td>1968-08-09</td>\n",
       "      <td>0.000</td>\n",
       "      <td>0.000</td>\n",
       "    </tr>\n",
       "    <tr>\n",
       "      <th>4</th>\n",
       "      <td>4390</td>\n",
       "      <td>GD_5</td>\n",
       "      <td>1968-08-09</td>\n",
       "      <td>0.000</td>\n",
       "      <td>0.000</td>\n",
       "    </tr>\n",
       "    <tr>\n",
       "      <th>...</th>\n",
       "      <td>...</td>\n",
       "      <td>...</td>\n",
       "      <td>...</td>\n",
       "      <td>...</td>\n",
       "      <td>...</td>\n",
       "    </tr>\n",
       "    <tr>\n",
       "      <th>27519</th>\n",
       "      <td>8001</td>\n",
       "      <td>GD_207005</td>\n",
       "      <td>2000-07-12</td>\n",
       "      <td>0.000</td>\n",
       "      <td>0.000</td>\n",
       "    </tr>\n",
       "    <tr>\n",
       "      <th>27520</th>\n",
       "      <td>8001</td>\n",
       "      <td>GD_207006</td>\n",
       "      <td>2000-07-12</td>\n",
       "      <td>0.000</td>\n",
       "      <td>0.000</td>\n",
       "    </tr>\n",
       "    <tr>\n",
       "      <th>27521</th>\n",
       "      <td>8001</td>\n",
       "      <td>GD_207011</td>\n",
       "      <td>2000-07-12</td>\n",
       "      <td>1.000</td>\n",
       "      <td>1.000</td>\n",
       "    </tr>\n",
       "    <tr>\n",
       "      <th>27522</th>\n",
       "      <td>8001</td>\n",
       "      <td>GD_207012</td>\n",
       "      <td>2000-07-12</td>\n",
       "      <td>1.000</td>\n",
       "      <td>1.000</td>\n",
       "    </tr>\n",
       "    <tr>\n",
       "      <th>27523</th>\n",
       "      <td>8001</td>\n",
       "      <td>GD_207014</td>\n",
       "      <td>2000-07-12</td>\n",
       "      <td>1.000</td>\n",
       "      <td>1.000</td>\n",
       "    </tr>\n",
       "  </tbody>\n",
       "</table>\n",
       "<p>27524 rows × 5 columns</p>\n",
       "</div>"
      ],
      "text/plain": [
       "       sample_id     old_id   DATETIME  river_age  RIVER_AGE\n",
       "0           4390       GD_1 1968-08-09      0.000      0.000\n",
       "1           4390       GD_2 1968-08-09      0.000      0.000\n",
       "2           4390       GD_3 1968-08-09      0.000      0.000\n",
       "3           4390       GD_4 1968-08-09      0.000      0.000\n",
       "4           4390       GD_5 1968-08-09      0.000      0.000\n",
       "...          ...        ...        ...        ...        ...\n",
       "27519       8001  GD_207005 2000-07-12      0.000      0.000\n",
       "27520       8001  GD_207006 2000-07-12      0.000      0.000\n",
       "27521       8001  GD_207011 2000-07-12      1.000      1.000\n",
       "27522       8001  GD_207012 2000-07-12      1.000      1.000\n",
       "27523       8001  GD_207014 2000-07-12      1.000      1.000\n",
       "\n",
       "[27524 rows x 5 columns]"
      ]
     },
     "execution_count": 12,
     "metadata": {},
     "output_type": "execute_result"
    }
   ],
   "source": [
    "i = 6\n",
    "k = list(comparisons.keys())[i] \n",
    "v = comparisons[k]\n",
    "df_merged[first_columns + [k, v]]  # how to check if these are always matched? do it individually"
   ]
  },
  {
   "cell_type": "code",
   "execution_count": 13,
   "id": "a2fb0578",
   "metadata": {},
   "outputs": [
    {
     "data": {
      "text/html": [
       "<div>\n",
       "<style scoped>\n",
       "    .dataframe tbody tr th:only-of-type {\n",
       "        vertical-align: middle;\n",
       "    }\n",
       "\n",
       "    .dataframe tbody tr th {\n",
       "        vertical-align: top;\n",
       "    }\n",
       "\n",
       "    .dataframe thead th {\n",
       "        text-align: right;\n",
       "    }\n",
       "</style>\n",
       "<table border=\"1\" class=\"dataframe\">\n",
       "  <thead>\n",
       "    <tr style=\"text-align: right;\">\n",
       "      <th></th>\n",
       "      <th>sample_id</th>\n",
       "      <th>old_id</th>\n",
       "      <th>DATETIME</th>\n",
       "      <th>age_type</th>\n",
       "      <th>AGE_TYPE</th>\n",
       "      <th>BIOLOGICAL_REMARKS</th>\n",
       "      <th>BIOLOGICAL_SAMPLE</th>\n",
       "      <th>CATCH_FREQUENCY</th>\n",
       "      <th>CATCHMENT_INDEX</th>\n",
       "      <th>CATCHMENT_NAME</th>\n",
       "      <th>distinct</th>\n",
       "      <th>FILE_TYPE</th>\n",
       "      <th>FISH_SIZE</th>\n",
       "      <th>FISH_STATUS</th>\n",
       "      <th>fork_length</th>\n",
       "      <th>FORK_LENGTH</th>\n",
       "      <th>FORK_LENGTH_INTERVAL_WIDTH</th>\n",
       "      <th>GD_ID</th>\n",
       "      <th>id</th>\n",
       "      <th>life_stage_id</th>\n",
       "      <th>matching_id</th>\n",
       "      <th>MATURITY</th>\n",
       "      <th>notes</th>\n",
       "      <th>ORIGIN</th>\n",
       "      <th>RECORD_IDENTIFIER</th>\n",
       "      <th>river_age</th>\n",
       "      <th>RIVER_AGE</th>\n",
       "      <th>SCALE_SAMPLE</th>\n",
       "      <th>SCALE_SAMPLE_ID</th>\n",
       "      <th>SEX</th>\n",
       "      <th>sex_id</th>\n",
       "      <th>SITE</th>\n",
       "      <th>SITE_EVENT_CODE</th>\n",
       "      <th>SPECIES_ITIS_CODE</th>\n",
       "      <th>SPECIES_LIFE_STAGE</th>\n",
       "      <th>status_id</th>\n",
       "      <th>SURVEY</th>\n",
       "      <th>SURVEY_TYPE</th>\n",
       "      <th>SWEEP_NUMBER</th>\n",
       "      <th>total_length</th>\n",
       "      <th>TOTAL_LENGTH</th>\n",
       "      <th>weight</th>\n",
       "      <th>WEIGHT</th>\n",
       "      <th>WEIGHT_PRECISION</th>\n",
       "      <th>WEIGHT_RESOLUTION</th>\n",
       "    </tr>\n",
       "  </thead>\n",
       "  <tbody>\n",
       "  </tbody>\n",
       "</table>\n",
       "</div>"
      ],
      "text/plain": [
       "Empty DataFrame\n",
       "Columns: [sample_id, old_id, DATETIME, age_type, AGE_TYPE, BIOLOGICAL_REMARKS, BIOLOGICAL_SAMPLE, CATCH_FREQUENCY, CATCHMENT_INDEX, CATCHMENT_NAME, distinct, FILE_TYPE, FISH_SIZE, FISH_STATUS, fork_length, FORK_LENGTH, FORK_LENGTH_INTERVAL_WIDTH, GD_ID, id, life_stage_id, matching_id, MATURITY, notes, ORIGIN, RECORD_IDENTIFIER, river_age, RIVER_AGE, SCALE_SAMPLE, SCALE_SAMPLE_ID, SEX, sex_id, SITE, SITE_EVENT_CODE, SPECIES_ITIS_CODE, SPECIES_LIFE_STAGE, status_id, SURVEY, SURVEY_TYPE, SWEEP_NUMBER, total_length, TOTAL_LENGTH, weight, WEIGHT, WEIGHT_PRECISION, WEIGHT_RESOLUTION]\n",
       "Index: []"
      ]
     },
     "execution_count": 13,
     "metadata": {},
     "output_type": "execute_result"
    }
   ],
   "source": [
    "# Age Type is always the same\n",
    "df_merged[df_merged.AGE_TYPE.fillna(0) != df_merged.age_type.map({1:'SCALE', 2:'LGTHFREQ'}).fillna(0)]"
   ]
  },
  {
   "cell_type": "code",
   "execution_count": 14,
   "id": "e244b1fa",
   "metadata": {},
   "outputs": [
    {
     "data": {
      "text/html": [
       "<div>\n",
       "<style scoped>\n",
       "    .dataframe tbody tr th:only-of-type {\n",
       "        vertical-align: middle;\n",
       "    }\n",
       "\n",
       "    .dataframe tbody tr th {\n",
       "        vertical-align: top;\n",
       "    }\n",
       "\n",
       "    .dataframe thead th {\n",
       "        text-align: right;\n",
       "    }\n",
       "</style>\n",
       "<table border=\"1\" class=\"dataframe\">\n",
       "  <thead>\n",
       "    <tr style=\"text-align: right;\">\n",
       "      <th></th>\n",
       "      <th>sample_id</th>\n",
       "      <th>old_id</th>\n",
       "      <th>DATETIME</th>\n",
       "      <th>age_type</th>\n",
       "      <th>AGE_TYPE</th>\n",
       "      <th>BIOLOGICAL_REMARKS</th>\n",
       "      <th>BIOLOGICAL_SAMPLE</th>\n",
       "      <th>CATCH_FREQUENCY</th>\n",
       "      <th>CATCHMENT_INDEX</th>\n",
       "      <th>CATCHMENT_NAME</th>\n",
       "      <th>distinct</th>\n",
       "      <th>FILE_TYPE</th>\n",
       "      <th>FISH_SIZE</th>\n",
       "      <th>FISH_STATUS</th>\n",
       "      <th>fork_length</th>\n",
       "      <th>FORK_LENGTH</th>\n",
       "      <th>FORK_LENGTH_INTERVAL_WIDTH</th>\n",
       "      <th>GD_ID</th>\n",
       "      <th>id</th>\n",
       "      <th>life_stage_id</th>\n",
       "      <th>matching_id</th>\n",
       "      <th>MATURITY</th>\n",
       "      <th>notes</th>\n",
       "      <th>ORIGIN</th>\n",
       "      <th>RECORD_IDENTIFIER</th>\n",
       "      <th>river_age</th>\n",
       "      <th>RIVER_AGE</th>\n",
       "      <th>SCALE_SAMPLE</th>\n",
       "      <th>SCALE_SAMPLE_ID</th>\n",
       "      <th>SEX</th>\n",
       "      <th>sex_id</th>\n",
       "      <th>SITE</th>\n",
       "      <th>SITE_EVENT_CODE</th>\n",
       "      <th>SPECIES_ITIS_CODE</th>\n",
       "      <th>SPECIES_LIFE_STAGE</th>\n",
       "      <th>status_id</th>\n",
       "      <th>SURVEY</th>\n",
       "      <th>SURVEY_TYPE</th>\n",
       "      <th>SWEEP_NUMBER</th>\n",
       "      <th>total_length</th>\n",
       "      <th>TOTAL_LENGTH</th>\n",
       "      <th>weight</th>\n",
       "      <th>WEIGHT</th>\n",
       "      <th>WEIGHT_PRECISION</th>\n",
       "      <th>WEIGHT_RESOLUTION</th>\n",
       "    </tr>\n",
       "  </thead>\n",
       "  <tbody>\n",
       "  </tbody>\n",
       "</table>\n",
       "</div>"
      ],
      "text/plain": [
       "Empty DataFrame\n",
       "Columns: [sample_id, old_id, DATETIME, age_type, AGE_TYPE, BIOLOGICAL_REMARKS, BIOLOGICAL_SAMPLE, CATCH_FREQUENCY, CATCHMENT_INDEX, CATCHMENT_NAME, distinct, FILE_TYPE, FISH_SIZE, FISH_STATUS, fork_length, FORK_LENGTH, FORK_LENGTH_INTERVAL_WIDTH, GD_ID, id, life_stage_id, matching_id, MATURITY, notes, ORIGIN, RECORD_IDENTIFIER, river_age, RIVER_AGE, SCALE_SAMPLE, SCALE_SAMPLE_ID, SEX, sex_id, SITE, SITE_EVENT_CODE, SPECIES_ITIS_CODE, SPECIES_LIFE_STAGE, status_id, SURVEY, SURVEY_TYPE, SWEEP_NUMBER, total_length, TOTAL_LENGTH, weight, WEIGHT, WEIGHT_PRECISION, WEIGHT_RESOLUTION]\n",
       "Index: []"
      ]
     },
     "execution_count": 14,
     "metadata": {},
     "output_type": "execute_result"
    }
   ],
   "source": [
    "# fork length is always the same\n",
    "df_merged[df_merged.fork_length.fillna(0) != df_merged.FORK_LENGTH.fillna(0).astype(int)]"
   ]
  },
  {
   "cell_type": "code",
   "execution_count": 15,
   "id": "ad6f5a8c",
   "metadata": {},
   "outputs": [
    {
     "data": {
      "text/plain": [
       "array([nan])"
      ]
     },
     "execution_count": 15,
     "metadata": {},
     "output_type": "execute_result"
    }
   ],
   "source": [
    "# nope.\n",
    "df_merged.MATURITY.unique()"
   ]
  },
  {
   "cell_type": "code",
   "execution_count": 16,
   "id": "0d578ad3",
   "metadata": {},
   "outputs": [
    {
     "data": {
      "text/html": [
       "<div>\n",
       "<style scoped>\n",
       "    .dataframe tbody tr th:only-of-type {\n",
       "        vertical-align: middle;\n",
       "    }\n",
       "\n",
       "    .dataframe tbody tr th {\n",
       "        vertical-align: top;\n",
       "    }\n",
       "\n",
       "    .dataframe thead th {\n",
       "        text-align: right;\n",
       "    }\n",
       "</style>\n",
       "<table border=\"1\" class=\"dataframe\">\n",
       "  <thead>\n",
       "    <tr style=\"text-align: right;\">\n",
       "      <th></th>\n",
       "      <th>sample_id</th>\n",
       "      <th>old_id</th>\n",
       "      <th>DATETIME</th>\n",
       "      <th>age_type</th>\n",
       "      <th>AGE_TYPE</th>\n",
       "      <th>BIOLOGICAL_REMARKS</th>\n",
       "      <th>BIOLOGICAL_SAMPLE</th>\n",
       "      <th>CATCH_FREQUENCY</th>\n",
       "      <th>CATCHMENT_INDEX</th>\n",
       "      <th>CATCHMENT_NAME</th>\n",
       "      <th>distinct</th>\n",
       "      <th>FILE_TYPE</th>\n",
       "      <th>FISH_SIZE</th>\n",
       "      <th>FISH_STATUS</th>\n",
       "      <th>fork_length</th>\n",
       "      <th>FORK_LENGTH</th>\n",
       "      <th>FORK_LENGTH_INTERVAL_WIDTH</th>\n",
       "      <th>GD_ID</th>\n",
       "      <th>id</th>\n",
       "      <th>life_stage_id</th>\n",
       "      <th>matching_id</th>\n",
       "      <th>MATURITY</th>\n",
       "      <th>notes</th>\n",
       "      <th>ORIGIN</th>\n",
       "      <th>RECORD_IDENTIFIER</th>\n",
       "      <th>river_age</th>\n",
       "      <th>RIVER_AGE</th>\n",
       "      <th>SCALE_SAMPLE</th>\n",
       "      <th>SCALE_SAMPLE_ID</th>\n",
       "      <th>SEX</th>\n",
       "      <th>sex_id</th>\n",
       "      <th>SITE</th>\n",
       "      <th>SITE_EVENT_CODE</th>\n",
       "      <th>SPECIES_ITIS_CODE</th>\n",
       "      <th>SPECIES_LIFE_STAGE</th>\n",
       "      <th>status_id</th>\n",
       "      <th>SURVEY</th>\n",
       "      <th>SURVEY_TYPE</th>\n",
       "      <th>SWEEP_NUMBER</th>\n",
       "      <th>total_length</th>\n",
       "      <th>TOTAL_LENGTH</th>\n",
       "      <th>weight</th>\n",
       "      <th>WEIGHT</th>\n",
       "      <th>WEIGHT_PRECISION</th>\n",
       "      <th>WEIGHT_RESOLUTION</th>\n",
       "    </tr>\n",
       "  </thead>\n",
       "  <tbody>\n",
       "  </tbody>\n",
       "</table>\n",
       "</div>"
      ],
      "text/plain": [
       "Empty DataFrame\n",
       "Columns: [sample_id, old_id, DATETIME, age_type, AGE_TYPE, BIOLOGICAL_REMARKS, BIOLOGICAL_SAMPLE, CATCH_FREQUENCY, CATCHMENT_INDEX, CATCHMENT_NAME, distinct, FILE_TYPE, FISH_SIZE, FISH_STATUS, fork_length, FORK_LENGTH, FORK_LENGTH_INTERVAL_WIDTH, GD_ID, id, life_stage_id, matching_id, MATURITY, notes, ORIGIN, RECORD_IDENTIFIER, river_age, RIVER_AGE, SCALE_SAMPLE, SCALE_SAMPLE_ID, SEX, sex_id, SITE, SITE_EVENT_CODE, SPECIES_ITIS_CODE, SPECIES_LIFE_STAGE, status_id, SURVEY, SURVEY_TYPE, SWEEP_NUMBER, total_length, TOTAL_LENGTH, weight, WEIGHT, WEIGHT_PRECISION, WEIGHT_RESOLUTION]\n",
       "Index: []"
      ]
     },
     "execution_count": 16,
     "metadata": {},
     "output_type": "execute_result"
    }
   ],
   "source": [
    "# Sex is always the same\n",
    "df_merged[df_merged.SEX.fillna('U') != df_merged.sex_id.fillna(0).map({0: 'U', 1:'M', 2:'F'})]"
   ]
  },
  {
   "cell_type": "code",
   "execution_count": 17,
   "id": "1bb73d3f",
   "metadata": {},
   "outputs": [
    {
     "data": {
      "text/html": [
       "<div>\n",
       "<style scoped>\n",
       "    .dataframe tbody tr th:only-of-type {\n",
       "        vertical-align: middle;\n",
       "    }\n",
       "\n",
       "    .dataframe tbody tr th {\n",
       "        vertical-align: top;\n",
       "    }\n",
       "\n",
       "    .dataframe thead th {\n",
       "        text-align: right;\n",
       "    }\n",
       "</style>\n",
       "<table border=\"1\" class=\"dataframe\">\n",
       "  <thead>\n",
       "    <tr style=\"text-align: right;\">\n",
       "      <th></th>\n",
       "      <th>sample_id</th>\n",
       "      <th>old_id</th>\n",
       "      <th>DATETIME</th>\n",
       "      <th>age_type</th>\n",
       "      <th>AGE_TYPE</th>\n",
       "      <th>BIOLOGICAL_REMARKS</th>\n",
       "      <th>BIOLOGICAL_SAMPLE</th>\n",
       "      <th>CATCH_FREQUENCY</th>\n",
       "      <th>CATCHMENT_INDEX</th>\n",
       "      <th>CATCHMENT_NAME</th>\n",
       "      <th>distinct</th>\n",
       "      <th>FILE_TYPE</th>\n",
       "      <th>FISH_SIZE</th>\n",
       "      <th>FISH_STATUS</th>\n",
       "      <th>fork_length</th>\n",
       "      <th>FORK_LENGTH</th>\n",
       "      <th>FORK_LENGTH_INTERVAL_WIDTH</th>\n",
       "      <th>GD_ID</th>\n",
       "      <th>id</th>\n",
       "      <th>life_stage_id</th>\n",
       "      <th>matching_id</th>\n",
       "      <th>MATURITY</th>\n",
       "      <th>notes</th>\n",
       "      <th>ORIGIN</th>\n",
       "      <th>RECORD_IDENTIFIER</th>\n",
       "      <th>river_age</th>\n",
       "      <th>RIVER_AGE</th>\n",
       "      <th>SCALE_SAMPLE</th>\n",
       "      <th>SCALE_SAMPLE_ID</th>\n",
       "      <th>SEX</th>\n",
       "      <th>sex_id</th>\n",
       "      <th>SITE</th>\n",
       "      <th>SITE_EVENT_CODE</th>\n",
       "      <th>SPECIES_ITIS_CODE</th>\n",
       "      <th>SPECIES_LIFE_STAGE</th>\n",
       "      <th>status_id</th>\n",
       "      <th>SURVEY</th>\n",
       "      <th>SURVEY_TYPE</th>\n",
       "      <th>SWEEP_NUMBER</th>\n",
       "      <th>total_length</th>\n",
       "      <th>TOTAL_LENGTH</th>\n",
       "      <th>weight</th>\n",
       "      <th>WEIGHT</th>\n",
       "      <th>WEIGHT_PRECISION</th>\n",
       "      <th>WEIGHT_RESOLUTION</th>\n",
       "    </tr>\n",
       "  </thead>\n",
       "  <tbody>\n",
       "  </tbody>\n",
       "</table>\n",
       "</div>"
      ],
      "text/plain": [
       "Empty DataFrame\n",
       "Columns: [sample_id, old_id, DATETIME, age_type, AGE_TYPE, BIOLOGICAL_REMARKS, BIOLOGICAL_SAMPLE, CATCH_FREQUENCY, CATCHMENT_INDEX, CATCHMENT_NAME, distinct, FILE_TYPE, FISH_SIZE, FISH_STATUS, fork_length, FORK_LENGTH, FORK_LENGTH_INTERVAL_WIDTH, GD_ID, id, life_stage_id, matching_id, MATURITY, notes, ORIGIN, RECORD_IDENTIFIER, river_age, RIVER_AGE, SCALE_SAMPLE, SCALE_SAMPLE_ID, SEX, sex_id, SITE, SITE_EVENT_CODE, SPECIES_ITIS_CODE, SPECIES_LIFE_STAGE, status_id, SURVEY, SURVEY_TYPE, SWEEP_NUMBER, total_length, TOTAL_LENGTH, weight, WEIGHT, WEIGHT_PRECISION, WEIGHT_RESOLUTION]\n",
       "Index: []"
      ]
     },
     "execution_count": 17,
     "metadata": {},
     "output_type": "execute_result"
    }
   ],
   "source": [
    "# total length is always the same\n",
    "df_merged[df_merged.total_length.fillna(0) != df_merged.TOTAL_LENGTH.fillna(0)]"
   ]
  },
  {
   "cell_type": "code",
   "execution_count": 18,
   "id": "8215f42d",
   "metadata": {},
   "outputs": [
    {
     "data": {
      "text/html": [
       "<div>\n",
       "<style scoped>\n",
       "    .dataframe tbody tr th:only-of-type {\n",
       "        vertical-align: middle;\n",
       "    }\n",
       "\n",
       "    .dataframe tbody tr th {\n",
       "        vertical-align: top;\n",
       "    }\n",
       "\n",
       "    .dataframe thead th {\n",
       "        text-align: right;\n",
       "    }\n",
       "</style>\n",
       "<table border=\"1\" class=\"dataframe\">\n",
       "  <thead>\n",
       "    <tr style=\"text-align: right;\">\n",
       "      <th></th>\n",
       "      <th>sample_id</th>\n",
       "      <th>old_id</th>\n",
       "      <th>DATETIME</th>\n",
       "      <th>age_type</th>\n",
       "      <th>AGE_TYPE</th>\n",
       "      <th>BIOLOGICAL_REMARKS</th>\n",
       "      <th>BIOLOGICAL_SAMPLE</th>\n",
       "      <th>CATCH_FREQUENCY</th>\n",
       "      <th>CATCHMENT_INDEX</th>\n",
       "      <th>CATCHMENT_NAME</th>\n",
       "      <th>distinct</th>\n",
       "      <th>FILE_TYPE</th>\n",
       "      <th>FISH_SIZE</th>\n",
       "      <th>FISH_STATUS</th>\n",
       "      <th>fork_length</th>\n",
       "      <th>FORK_LENGTH</th>\n",
       "      <th>FORK_LENGTH_INTERVAL_WIDTH</th>\n",
       "      <th>GD_ID</th>\n",
       "      <th>id</th>\n",
       "      <th>life_stage_id</th>\n",
       "      <th>matching_id</th>\n",
       "      <th>MATURITY</th>\n",
       "      <th>notes</th>\n",
       "      <th>ORIGIN</th>\n",
       "      <th>RECORD_IDENTIFIER</th>\n",
       "      <th>river_age</th>\n",
       "      <th>RIVER_AGE</th>\n",
       "      <th>SCALE_SAMPLE</th>\n",
       "      <th>SCALE_SAMPLE_ID</th>\n",
       "      <th>SEX</th>\n",
       "      <th>sex_id</th>\n",
       "      <th>SITE</th>\n",
       "      <th>SITE_EVENT_CODE</th>\n",
       "      <th>SPECIES_ITIS_CODE</th>\n",
       "      <th>SPECIES_LIFE_STAGE</th>\n",
       "      <th>status_id</th>\n",
       "      <th>SURVEY</th>\n",
       "      <th>SURVEY_TYPE</th>\n",
       "      <th>SWEEP_NUMBER</th>\n",
       "      <th>total_length</th>\n",
       "      <th>TOTAL_LENGTH</th>\n",
       "      <th>weight</th>\n",
       "      <th>WEIGHT</th>\n",
       "      <th>WEIGHT_PRECISION</th>\n",
       "      <th>WEIGHT_RESOLUTION</th>\n",
       "    </tr>\n",
       "  </thead>\n",
       "  <tbody>\n",
       "  </tbody>\n",
       "</table>\n",
       "</div>"
      ],
      "text/plain": [
       "Empty DataFrame\n",
       "Columns: [sample_id, old_id, DATETIME, age_type, AGE_TYPE, BIOLOGICAL_REMARKS, BIOLOGICAL_SAMPLE, CATCH_FREQUENCY, CATCHMENT_INDEX, CATCHMENT_NAME, distinct, FILE_TYPE, FISH_SIZE, FISH_STATUS, fork_length, FORK_LENGTH, FORK_LENGTH_INTERVAL_WIDTH, GD_ID, id, life_stage_id, matching_id, MATURITY, notes, ORIGIN, RECORD_IDENTIFIER, river_age, RIVER_AGE, SCALE_SAMPLE, SCALE_SAMPLE_ID, SEX, sex_id, SITE, SITE_EVENT_CODE, SPECIES_ITIS_CODE, SPECIES_LIFE_STAGE, status_id, SURVEY, SURVEY_TYPE, SWEEP_NUMBER, total_length, TOTAL_LENGTH, weight, WEIGHT, WEIGHT_PRECISION, WEIGHT_RESOLUTION]\n",
       "Index: []"
      ]
     },
     "execution_count": 18,
     "metadata": {},
     "output_type": "execute_result"
    }
   ],
   "source": [
    "# weight is always the same\n",
    "df_merged[df_merged.weight.fillna(0) != df_merged.WEIGHT.fillna(0)]"
   ]
  },
  {
   "cell_type": "code",
   "execution_count": 19,
   "id": "ce623019",
   "metadata": {},
   "outputs": [
    {
     "data": {
      "text/html": [
       "<div>\n",
       "<style scoped>\n",
       "    .dataframe tbody tr th:only-of-type {\n",
       "        vertical-align: middle;\n",
       "    }\n",
       "\n",
       "    .dataframe tbody tr th {\n",
       "        vertical-align: top;\n",
       "    }\n",
       "\n",
       "    .dataframe thead th {\n",
       "        text-align: right;\n",
       "    }\n",
       "</style>\n",
       "<table border=\"1\" class=\"dataframe\">\n",
       "  <thead>\n",
       "    <tr style=\"text-align: right;\">\n",
       "      <th></th>\n",
       "      <th>sample_id</th>\n",
       "      <th>old_id</th>\n",
       "      <th>DATETIME</th>\n",
       "      <th>age_type</th>\n",
       "      <th>AGE_TYPE</th>\n",
       "      <th>BIOLOGICAL_REMARKS</th>\n",
       "      <th>BIOLOGICAL_SAMPLE</th>\n",
       "      <th>CATCH_FREQUENCY</th>\n",
       "      <th>CATCHMENT_INDEX</th>\n",
       "      <th>CATCHMENT_NAME</th>\n",
       "      <th>distinct</th>\n",
       "      <th>FILE_TYPE</th>\n",
       "      <th>FISH_SIZE</th>\n",
       "      <th>FISH_STATUS</th>\n",
       "      <th>fork_length</th>\n",
       "      <th>FORK_LENGTH</th>\n",
       "      <th>FORK_LENGTH_INTERVAL_WIDTH</th>\n",
       "      <th>GD_ID</th>\n",
       "      <th>id</th>\n",
       "      <th>life_stage_id</th>\n",
       "      <th>matching_id</th>\n",
       "      <th>MATURITY</th>\n",
       "      <th>notes</th>\n",
       "      <th>ORIGIN</th>\n",
       "      <th>RECORD_IDENTIFIER</th>\n",
       "      <th>river_age</th>\n",
       "      <th>RIVER_AGE</th>\n",
       "      <th>SCALE_SAMPLE</th>\n",
       "      <th>SCALE_SAMPLE_ID</th>\n",
       "      <th>SEX</th>\n",
       "      <th>sex_id</th>\n",
       "      <th>SITE</th>\n",
       "      <th>SITE_EVENT_CODE</th>\n",
       "      <th>SPECIES_ITIS_CODE</th>\n",
       "      <th>SPECIES_LIFE_STAGE</th>\n",
       "      <th>status_id</th>\n",
       "      <th>SURVEY</th>\n",
       "      <th>SURVEY_TYPE</th>\n",
       "      <th>SWEEP_NUMBER</th>\n",
       "      <th>total_length</th>\n",
       "      <th>TOTAL_LENGTH</th>\n",
       "      <th>weight</th>\n",
       "      <th>WEIGHT</th>\n",
       "      <th>WEIGHT_PRECISION</th>\n",
       "      <th>WEIGHT_RESOLUTION</th>\n",
       "    </tr>\n",
       "  </thead>\n",
       "  <tbody>\n",
       "  </tbody>\n",
       "</table>\n",
       "</div>"
      ],
      "text/plain": [
       "Empty DataFrame\n",
       "Columns: [sample_id, old_id, DATETIME, age_type, AGE_TYPE, BIOLOGICAL_REMARKS, BIOLOGICAL_SAMPLE, CATCH_FREQUENCY, CATCHMENT_INDEX, CATCHMENT_NAME, distinct, FILE_TYPE, FISH_SIZE, FISH_STATUS, fork_length, FORK_LENGTH, FORK_LENGTH_INTERVAL_WIDTH, GD_ID, id, life_stage_id, matching_id, MATURITY, notes, ORIGIN, RECORD_IDENTIFIER, river_age, RIVER_AGE, SCALE_SAMPLE, SCALE_SAMPLE_ID, SEX, sex_id, SITE, SITE_EVENT_CODE, SPECIES_ITIS_CODE, SPECIES_LIFE_STAGE, status_id, SURVEY, SURVEY_TYPE, SWEEP_NUMBER, total_length, TOTAL_LENGTH, weight, WEIGHT, WEIGHT_PRECISION, WEIGHT_RESOLUTION]\n",
       "Index: []"
      ]
     },
     "execution_count": 19,
     "metadata": {},
     "output_type": "execute_result"
    }
   ],
   "source": [
    "# weight is always the same\n",
    "df_merged[df_merged.river_age.fillna(0) != df_merged.RIVER_AGE.fillna(0)]"
   ]
  },
  {
   "cell_type": "markdown",
   "id": "41328559",
   "metadata": {},
   "source": [
    "# are there any matches between GD_ID and old_id from specimen table?"
   ]
  },
  {
   "cell_type": "code",
   "execution_count": 59,
   "id": "abf3cd03",
   "metadata": {},
   "outputs": [
    {
     "data": {
      "text/plain": [
       "(18992, 0, 27524)"
      ]
     },
     "execution_count": 59,
     "metadata": {},
     "output_type": "execute_result"
    }
   ],
   "source": [
    "id_arch_spec = list(pd.merge(df_spec, df_archive, on='old_id').old_id.unique())  # archived data in spec is not in hist\n",
    "id_hist_spec = list(pd.merge(df_spec, df_hist, on='old_id').old_id.unique())  # no overlap between old_id in hist and spec\n",
    "id_arch_hist = list(pd.merge(df_hist, df_archive, on='old_id').old_id.unique())  # archived data in hist is not in spec\n",
    "\n",
    "len(id_arch_spec), len(id_hist_spec), len(id_arch_hist)"
   ]
  },
  {
   "cell_type": "code",
   "execution_count": 64,
   "id": "87789acd",
   "metadata": {},
   "outputs": [
    {
     "data": {
      "text/plain": [
       "(18992, 18992)"
      ]
     },
     "execution_count": 64,
     "metadata": {},
     "output_type": "execute_result"
    }
   ],
   "source": [
    "len([x for x in id_arch_spec if x not in id_hist_spec]), len([x for x in id_arch_spec if x not in id_arch_hist])"
   ]
  },
  {
   "cell_type": "code",
   "execution_count": 65,
   "id": "b13a7588",
   "metadata": {},
   "outputs": [
    {
     "data": {
      "text/plain": [
       "(27524, 27524)"
      ]
     },
     "execution_count": 65,
     "metadata": {},
     "output_type": "execute_result"
    }
   ],
   "source": [
    "len([x for x in id_arch_hist if x not in id_arch_spec]), len([x for x in id_arch_hist if x not in id_hist_spec])"
   ]
  },
  {
   "cell_type": "code",
   "execution_count": 67,
   "id": "087c1dc2",
   "metadata": {},
   "outputs": [
    {
     "data": {
      "text/plain": [
       "(0, 0)"
      ]
     },
     "execution_count": 67,
     "metadata": {},
     "output_type": "execute_result"
    }
   ],
   "source": [
    "len([x for x in id_arch_spec if x in id_arch_hist]), len([x for x in id_arch_hist if x in id_arch_spec])"
   ]
  },
  {
   "cell_type": "code",
   "execution_count": null,
   "id": "568415b4",
   "metadata": {},
   "outputs": [],
   "source": []
  },
  {
   "cell_type": "code",
   "execution_count": 76,
   "id": "6a2e831b",
   "metadata": {},
   "outputs": [
    {
     "data": {
      "text/plain": [
       "5868"
      ]
     },
     "execution_count": 76,
     "metadata": {},
     "output_type": "execute_result"
    }
   ],
   "source": [
    "temp = pd.merge(df_archive, df_spec[df_spec.matching_id.isin(matches)], on='old_id')\n",
    "temp[temp.matching_id.isin(df_hist.matching_id.unique())].old_id.nunique()"
   ]
  },
  {
   "cell_type": "code",
   "execution_count": 81,
   "id": "cf2fe897",
   "metadata": {},
   "outputs": [
    {
     "data": {
      "text/plain": [
       "0"
      ]
     },
     "execution_count": 81,
     "metadata": {},
     "output_type": "execute_result"
    }
   ],
   "source": [
    "# ok, how many potential matches don't have old_id? none. all spec have old_id, and it is a perfect predictor of df_hist entry\n",
    "sum(df_spec.old_id.isnull())"
   ]
  },
  {
   "cell_type": "code",
   "execution_count": null,
   "id": "f323ea50",
   "metadata": {},
   "outputs": [],
   "source": []
  },
  {
   "cell_type": "code",
   "execution_count": 84,
   "id": "4d972753",
   "metadata": {},
   "outputs": [
    {
     "data": {
      "text/html": [
       "<div>\n",
       "<style scoped>\n",
       "    .dataframe tbody tr th:only-of-type {\n",
       "        vertical-align: middle;\n",
       "    }\n",
       "\n",
       "    .dataframe tbody tr th {\n",
       "        vertical-align: top;\n",
       "    }\n",
       "\n",
       "    .dataframe thead th {\n",
       "        text-align: right;\n",
       "    }\n",
       "</style>\n",
       "<table border=\"1\" class=\"dataframe\">\n",
       "  <thead>\n",
       "    <tr style=\"text-align: right;\">\n",
       "      <th></th>\n",
       "      <th>id</th>\n",
       "      <th>fork_length</th>\n",
       "      <th>weight</th>\n",
       "      <th>river_age</th>\n",
       "      <th>notes</th>\n",
       "      <th>sample_id</th>\n",
       "      <th>sex_id</th>\n",
       "      <th>status_id</th>\n",
       "      <th>age_type</th>\n",
       "      <th>sweep_id</th>\n",
       "      <th>life_stage_id</th>\n",
       "      <th>old_id</th>\n",
       "      <th>smart_river_age</th>\n",
       "      <th>smart_river_age_type</th>\n",
       "      <th>matching_id</th>\n",
       "      <th>distinct</th>\n",
       "    </tr>\n",
       "  </thead>\n",
       "  <tbody>\n",
       "    <tr>\n",
       "      <th>0</th>\n",
       "      <td>1708668</td>\n",
       "      <td>38</td>\n",
       "      <td>NaN</td>\n",
       "      <td>0.000</td>\n",
       "      <td>None</td>\n",
       "      <td>4467</td>\n",
       "      <td>&lt;NA&gt;</td>\n",
       "      <td>10.000</td>\n",
       "      <td>2.000</td>\n",
       "      <td>595.000</td>\n",
       "      <td>11.000</td>\n",
       "      <td>GD_2780</td>\n",
       "      <td>0.000</td>\n",
       "      <td>2.000</td>\n",
       "      <td>4467380_00</td>\n",
       "      <td>False</td>\n",
       "    </tr>\n",
       "    <tr>\n",
       "      <th>1</th>\n",
       "      <td>1708669</td>\n",
       "      <td>73</td>\n",
       "      <td>NaN</td>\n",
       "      <td>1.000</td>\n",
       "      <td>None</td>\n",
       "      <td>4467</td>\n",
       "      <td>&lt;NA&gt;</td>\n",
       "      <td>10.000</td>\n",
       "      <td>2.000</td>\n",
       "      <td>595.000</td>\n",
       "      <td>1.000</td>\n",
       "      <td>GD_2781</td>\n",
       "      <td>1.000</td>\n",
       "      <td>2.000</td>\n",
       "      <td>4467730_00</td>\n",
       "      <td>False</td>\n",
       "    </tr>\n",
       "    <tr>\n",
       "      <th>2</th>\n",
       "      <td>1708670</td>\n",
       "      <td>83</td>\n",
       "      <td>NaN</td>\n",
       "      <td>1.000</td>\n",
       "      <td>None</td>\n",
       "      <td>4467</td>\n",
       "      <td>&lt;NA&gt;</td>\n",
       "      <td>10.000</td>\n",
       "      <td>2.000</td>\n",
       "      <td>595.000</td>\n",
       "      <td>1.000</td>\n",
       "      <td>GD_2782</td>\n",
       "      <td>1.000</td>\n",
       "      <td>2.000</td>\n",
       "      <td>4467830_00</td>\n",
       "      <td>False</td>\n",
       "    </tr>\n",
       "    <tr>\n",
       "      <th>3</th>\n",
       "      <td>1708671</td>\n",
       "      <td>83</td>\n",
       "      <td>NaN</td>\n",
       "      <td>1.000</td>\n",
       "      <td>None</td>\n",
       "      <td>4467</td>\n",
       "      <td>&lt;NA&gt;</td>\n",
       "      <td>10.000</td>\n",
       "      <td>2.000</td>\n",
       "      <td>595.000</td>\n",
       "      <td>1.000</td>\n",
       "      <td>GD_2782</td>\n",
       "      <td>1.000</td>\n",
       "      <td>2.000</td>\n",
       "      <td>4467830_00</td>\n",
       "      <td>False</td>\n",
       "    </tr>\n",
       "    <tr>\n",
       "      <th>4</th>\n",
       "      <td>1708672</td>\n",
       "      <td>88</td>\n",
       "      <td>NaN</td>\n",
       "      <td>1.000</td>\n",
       "      <td>None</td>\n",
       "      <td>4467</td>\n",
       "      <td>&lt;NA&gt;</td>\n",
       "      <td>10.000</td>\n",
       "      <td>2.000</td>\n",
       "      <td>595.000</td>\n",
       "      <td>1.000</td>\n",
       "      <td>GD_2783</td>\n",
       "      <td>1.000</td>\n",
       "      <td>2.000</td>\n",
       "      <td>4467880_00</td>\n",
       "      <td>False</td>\n",
       "    </tr>\n",
       "  </tbody>\n",
       "</table>\n",
       "</div>"
      ],
      "text/plain": [
       "        id  fork_length  weight  river_age notes  sample_id  sex_id  \\\n",
       "0  1708668           38     NaN      0.000  None       4467    <NA>   \n",
       "1  1708669           73     NaN      1.000  None       4467    <NA>   \n",
       "2  1708670           83     NaN      1.000  None       4467    <NA>   \n",
       "3  1708671           83     NaN      1.000  None       4467    <NA>   \n",
       "4  1708672           88     NaN      1.000  None       4467    <NA>   \n",
       "\n",
       "   status_id  age_type  sweep_id  life_stage_id   old_id  smart_river_age  \\\n",
       "0     10.000     2.000   595.000         11.000  GD_2780            0.000   \n",
       "1     10.000     2.000   595.000          1.000  GD_2781            1.000   \n",
       "2     10.000     2.000   595.000          1.000  GD_2782            1.000   \n",
       "3     10.000     2.000   595.000          1.000  GD_2782            1.000   \n",
       "4     10.000     2.000   595.000          1.000  GD_2783            1.000   \n",
       "\n",
       "   smart_river_age_type matching_id  distinct  \n",
       "0                 2.000  4467380_00     False  \n",
       "1                 2.000  4467730_00     False  \n",
       "2                 2.000  4467830_00     False  \n",
       "3                 2.000  4467830_00     False  \n",
       "4                 2.000  4467880_00     False  "
      ]
     },
     "execution_count": 84,
     "metadata": {},
     "output_type": "execute_result"
    }
   ],
   "source": [
    "# ok, ok, now what about if we check for combos? ie, does arch include hist PLUS spec?\n",
    "\n",
    "df_spec.head()\n",
    "# need to join with samples to get date info"
   ]
  },
  {
   "cell_type": "code",
   "execution_count": null,
   "id": "725b6f39",
   "metadata": {},
   "outputs": [],
   "source": []
  },
  {
   "cell_type": "code",
   "execution_count": 118,
   "id": "234b0a41",
   "metadata": {},
   "outputs": [
    {
     "data": {
      "text/plain": [
       "(102190, 5)"
      ]
     },
     "execution_count": 118,
     "metadata": {},
     "output_type": "execute_result"
    }
   ],
   "source": [
    "# merge and group by sample\n",
    "# pd.merge(df_hist, df_spec, on='sample_id')\n",
    "all_fish = pd.concat([\n",
    "    df_hist[['id', 'old_id', 'sample_id', 'matching_id']].rename({'id':'hist_id'}, axis=1),\n",
    "    df_spec[['id', 'old_id', 'sample_id', 'matching_id']].rename({'id':'spec_id'}, axis=1)  # only samples that contain historical fishes are included in df_spec\n",
    "], axis=0)[['old_id', 'spec_id', 'hist_id', 'sample_id', 'matching_id']]\n",
    "all_fish.shape"
   ]
  },
  {
   "cell_type": "code",
   "execution_count": 119,
   "id": "4fa9cc72",
   "metadata": {},
   "outputs": [
    {
     "data": {
      "text/plain": [
       "(102190, 6)"
      ]
     },
     "execution_count": 119,
     "metadata": {},
     "output_type": "execute_result"
    }
   ],
   "source": [
    "all_fish = pd.merge(all_fish, df_archive[['old_id', 'RECORD_IDENTIFIER']], on='old_id', how='left')\n",
    "all_fish.shape"
   ]
  },
  {
   "cell_type": "code",
   "execution_count": 121,
   "id": "f0eba5c6",
   "metadata": {},
   "outputs": [
    {
     "data": {
      "text/plain": [
       "0"
      ]
     },
     "execution_count": 121,
     "metadata": {},
     "output_type": "execute_result"
    }
   ],
   "source": [
    "# EVERY SINGLE FISH has a record identifier!\n",
    "sum(all_fish.RECORD_IDENTIFIER.isnull())"
   ]
  },
  {
   "cell_type": "markdown",
   "id": "73d2c83b",
   "metadata": {},
   "source": [
    "# I think that means that all historical data that can be matched was, and then deleted. the two lists are distinct.\n",
    "# this sounds wrong. so I need to confirm using a different method.\n",
    "# TODO: \n",
    "* merge archived data with sample number\n",
    "* count number of fish in each sample\n",
    "* is this number equal to df_spec PLUS df_hist?\n",
    "    * if so, that would confirm these calculations\n",
    "# also todo: clean up these calculations"
   ]
  },
  {
   "cell_type": "code",
   "execution_count": null,
   "id": "b34fd38d",
   "metadata": {},
   "outputs": [],
   "source": []
  },
  {
   "cell_type": "code",
   "execution_count": null,
   "id": "218e8436",
   "metadata": {},
   "outputs": [],
   "source": []
  },
  {
   "cell_type": "code",
   "execution_count": null,
   "id": "25de6ac4",
   "metadata": {},
   "outputs": [],
   "source": []
  },
  {
   "cell_type": "code",
   "execution_count": null,
   "id": "ab75f2ca",
   "metadata": {},
   "outputs": [],
   "source": []
  },
  {
   "cell_type": "code",
   "execution_count": null,
   "id": "bdfbca8f",
   "metadata": {},
   "outputs": [],
   "source": []
  },
  {
   "cell_type": "code",
   "execution_count": 22,
   "id": "6ebf0f37",
   "metadata": {},
   "outputs": [
    {
     "ename": "ValueError",
     "evalue": "",
     "output_type": "error",
     "traceback": [
      "\u001b[1;31m---------------------------------------------------------------------------\u001b[0m",
      "\u001b[1;31mValueError\u001b[0m                                Traceback (most recent call last)",
      "\u001b[1;32m~\\AppData\\Local\\Temp\\1\\ipykernel_7500\\3722488906.py\u001b[0m in \u001b[0;36m<module>\u001b[1;34m\u001b[0m\n\u001b[0;32m      1\u001b[0m \u001b[1;31m# You shall not pass!\u001b[0m\u001b[1;33m\u001b[0m\u001b[1;33m\u001b[0m\u001b[0m\n\u001b[1;32m----> 2\u001b[1;33m \u001b[1;32mraise\u001b[0m \u001b[0mValueError\u001b[0m\u001b[1;33m\u001b[0m\u001b[1;33m\u001b[0m\u001b[0m\n\u001b[0m",
      "\u001b[1;31mValueError\u001b[0m: "
     ]
    }
   ],
   "source": [
    "# You shall not pass!\n",
    "raise ValueError"
   ]
  },
  {
   "cell_type": "code",
   "execution_count": null,
   "id": "43da2a80",
   "metadata": {},
   "outputs": [],
   "source": []
  },
  {
   "cell_type": "code",
   "execution_count": null,
   "id": "643562f7",
   "metadata": {},
   "outputs": [],
   "source": []
  },
  {
   "cell_type": "code",
   "execution_count": 40,
   "id": "62f75e98",
   "metadata": {},
   "outputs": [
    {
     "data": {
      "text/plain": [
       "(32373, 74666)"
      ]
     },
     "execution_count": 40,
     "metadata": {},
     "output_type": "execute_result"
    }
   ],
   "source": [
    "temp = pd.merge(df_archive, df_spec, on='old_id')\n",
    "temp[temp.matching_id.isin(matches)].shape[0], temp.shape[0]"
   ]
  },
  {
   "cell_type": "code",
   "execution_count": 24,
   "id": "6e8ba2c8",
   "metadata": {},
   "outputs": [
    {
     "data": {
      "text/plain": [
       "0        4390340_51\n",
       "1        4390340_62\n",
       "2        4390360_51\n",
       "3        4390360_61\n",
       "4        4390361_31\n",
       "            ...    \n",
       "27519    8001430_00\n",
       "27520    8001430_00\n",
       "27521    8001790_00\n",
       "27522    8001880_00\n",
       "27523    8001910_00\n",
       "Name: matching_id, Length: 27524, dtype: object"
      ]
     },
     "execution_count": 24,
     "metadata": {},
     "output_type": "execute_result"
    }
   ],
   "source": [
    "# this looks like 32k verifiably incorrect matches... I think I am missing something...\n",
    "df_merged.matching_id"
   ]
  },
  {
   "cell_type": "code",
   "execution_count": 26,
   "id": "4f0fcca8",
   "metadata": {},
   "outputs": [
    {
     "data": {
      "text/html": [
       "<div>\n",
       "<style scoped>\n",
       "    .dataframe tbody tr th:only-of-type {\n",
       "        vertical-align: middle;\n",
       "    }\n",
       "\n",
       "    .dataframe tbody tr th {\n",
       "        vertical-align: top;\n",
       "    }\n",
       "\n",
       "    .dataframe thead th {\n",
       "        text-align: right;\n",
       "    }\n",
       "</style>\n",
       "<table border=\"1\" class=\"dataframe\">\n",
       "  <thead>\n",
       "    <tr style=\"text-align: right;\">\n",
       "      <th></th>\n",
       "      <th>id_x</th>\n",
       "      <th>fork_length_x</th>\n",
       "      <th>total_length</th>\n",
       "      <th>weight_x</th>\n",
       "      <th>age_type_x</th>\n",
       "      <th>river_age_x</th>\n",
       "      <th>notes_x</th>\n",
       "      <th>old_id</th>\n",
       "      <th>life_stage_id_x</th>\n",
       "      <th>sample_id_x</th>\n",
       "      <th>sex_id_x</th>\n",
       "      <th>status_id_x</th>\n",
       "      <th>matching_id_x</th>\n",
       "      <th>distinct_x</th>\n",
       "      <th>id_y</th>\n",
       "      <th>fork_length_y</th>\n",
       "      <th>weight_y</th>\n",
       "      <th>river_age_y</th>\n",
       "      <th>notes_y</th>\n",
       "      <th>sample_id_y</th>\n",
       "      <th>sex_id_y</th>\n",
       "      <th>status_id_y</th>\n",
       "      <th>age_type_y</th>\n",
       "      <th>sweep_id</th>\n",
       "      <th>life_stage_id_y</th>\n",
       "      <th>smart_river_age</th>\n",
       "      <th>smart_river_age_type</th>\n",
       "      <th>matching_id_y</th>\n",
       "      <th>distinct_y</th>\n",
       "    </tr>\n",
       "  </thead>\n",
       "  <tbody>\n",
       "  </tbody>\n",
       "</table>\n",
       "</div>"
      ],
      "text/plain": [
       "Empty DataFrame\n",
       "Columns: [id_x, fork_length_x, total_length, weight_x, age_type_x, river_age_x, notes_x, old_id, life_stage_id_x, sample_id_x, sex_id_x, status_id_x, matching_id_x, distinct_x, id_y, fork_length_y, weight_y, river_age_y, notes_y, sample_id_y, sex_id_y, status_id_y, age_type_y, sweep_id, life_stage_id_y, smart_river_age, smart_river_age_type, matching_id_y, distinct_y]\n",
       "Index: []"
      ]
     },
     "execution_count": 26,
     "metadata": {},
     "output_type": "execute_result"
    }
   ],
   "source": [
    "# why is there 0 overlap in old_id? maybe everything that was matched was deleted?\n",
    "pd.merge(df_hist, df_spec, on='old_id')"
   ]
  },
  {
   "cell_type": "code",
   "execution_count": 34,
   "id": "7f57d653",
   "metadata": {},
   "outputs": [
    {
     "data": {
      "text/html": [
       "<div>\n",
       "<style scoped>\n",
       "    .dataframe tbody tr th:only-of-type {\n",
       "        vertical-align: middle;\n",
       "    }\n",
       "\n",
       "    .dataframe tbody tr th {\n",
       "        vertical-align: top;\n",
       "    }\n",
       "\n",
       "    .dataframe thead th {\n",
       "        text-align: right;\n",
       "    }\n",
       "</style>\n",
       "<table border=\"1\" class=\"dataframe\">\n",
       "  <thead>\n",
       "    <tr style=\"text-align: right;\">\n",
       "      <th></th>\n",
       "      <th>old_id</th>\n",
       "      <th>DATETIME</th>\n",
       "      <th>SURVEY</th>\n",
       "      <th>SITE</th>\n",
       "      <th>CATCHMENT_NAME</th>\n",
       "      <th>CATCHMENT_INDEX</th>\n",
       "      <th>SURVEY_TYPE</th>\n",
       "      <th>SITE_EVENT_CODE</th>\n",
       "      <th>SWEEP_NUMBER</th>\n",
       "      <th>RECORD_IDENTIFIER</th>\n",
       "      <th>SPECIES_ITIS_CODE</th>\n",
       "      <th>SPECIES_LIFE_STAGE</th>\n",
       "      <th>ORIGIN</th>\n",
       "      <th>FISH_STATUS</th>\n",
       "      <th>FORK_LENGTH</th>\n",
       "      <th>FORK_LENGTH_INTERVAL_WIDTH</th>\n",
       "      <th>TOTAL_LENGTH</th>\n",
       "      <th>WEIGHT</th>\n",
       "      <th>WEIGHT_RESOLUTION</th>\n",
       "      <th>WEIGHT_PRECISION</th>\n",
       "      <th>FILE_TYPE</th>\n",
       "      <th>CATCH_FREQUENCY</th>\n",
       "      <th>FISH_SIZE</th>\n",
       "      <th>RIVER_AGE</th>\n",
       "      <th>AGE_TYPE</th>\n",
       "      <th>SEX</th>\n",
       "      <th>MATURITY</th>\n",
       "      <th>BIOLOGICAL_REMARKS</th>\n",
       "      <th>BIOLOGICAL_SAMPLE</th>\n",
       "      <th>SCALE_SAMPLE</th>\n",
       "      <th>SCALE_SAMPLE_ID</th>\n",
       "      <th>GD_ID</th>\n",
       "    </tr>\n",
       "  </thead>\n",
       "  <tbody>\n",
       "    <tr>\n",
       "      <th>559</th>\n",
       "      <td>GD_560</td>\n",
       "      <td>1970-08-19</td>\n",
       "      <td>1970</td>\n",
       "      <td>42</td>\n",
       "      <td>MIRAMICHI</td>\n",
       "      <td>2</td>\n",
       "      <td>1</td>\n",
       "      <td>1</td>\n",
       "      <td>1.000</td>\n",
       "      <td>8624996</td>\n",
       "      <td>161996</td>\n",
       "      <td>1731.000</td>\n",
       "      <td>W</td>\n",
       "      <td>RS</td>\n",
       "      <td>103.000</td>\n",
       "      <td>5.000</td>\n",
       "      <td>NaN</td>\n",
       "      <td>NaN</td>\n",
       "      <td>NaN</td>\n",
       "      <td>NaN</td>\n",
       "      <td>1.000</td>\n",
       "      <td>4</td>\n",
       "      <td>PARR</td>\n",
       "      <td>2.000</td>\n",
       "      <td>LGTHFREQ</td>\n",
       "      <td>NaN</td>\n",
       "      <td>NaN</td>\n",
       "      <td>NaN</td>\n",
       "      <td>1.000</td>\n",
       "      <td>NaN</td>\n",
       "      <td>NaN</td>\n",
       "      <td>560</td>\n",
       "    </tr>\n",
       "  </tbody>\n",
       "</table>\n",
       "</div>"
      ],
      "text/plain": [
       "     old_id   DATETIME  SURVEY SITE CATCHMENT_NAME  CATCHMENT_INDEX  \\\n",
       "559  GD_560 1970-08-19    1970   42      MIRAMICHI                2   \n",
       "\n",
       "     SURVEY_TYPE  SITE_EVENT_CODE  SWEEP_NUMBER RECORD_IDENTIFIER  \\\n",
       "559            1                1         1.000           8624996   \n",
       "\n",
       "    SPECIES_ITIS_CODE  SPECIES_LIFE_STAGE ORIGIN FISH_STATUS  FORK_LENGTH  \\\n",
       "559            161996            1731.000      W          RS      103.000   \n",
       "\n",
       "     FORK_LENGTH_INTERVAL_WIDTH  TOTAL_LENGTH  WEIGHT  WEIGHT_RESOLUTION  \\\n",
       "559                       5.000           NaN     NaN                NaN   \n",
       "\n",
       "     WEIGHT_PRECISION  FILE_TYPE  CATCH_FREQUENCY FISH_SIZE  RIVER_AGE  \\\n",
       "559               NaN      1.000                4      PARR      2.000   \n",
       "\n",
       "     AGE_TYPE  SEX  MATURITY BIOLOGICAL_REMARKS  BIOLOGICAL_SAMPLE  \\\n",
       "559  LGTHFREQ  NaN       NaN                NaN              1.000   \n",
       "\n",
       "    SCALE_SAMPLE SCALE_SAMPLE_ID  GD_ID  \n",
       "559          NaN             NaN    560  "
      ]
     },
     "execution_count": 34,
     "metadata": {},
     "output_type": "execute_result"
    }
   ],
   "source": [
    "df_archive[df_archive.old_id=='GD_560']"
   ]
  },
  {
   "cell_type": "code",
   "execution_count": 33,
   "id": "d5040988",
   "metadata": {},
   "outputs": [
    {
     "data": {
      "text/html": [
       "<div>\n",
       "<style scoped>\n",
       "    .dataframe tbody tr th:only-of-type {\n",
       "        vertical-align: middle;\n",
       "    }\n",
       "\n",
       "    .dataframe tbody tr th {\n",
       "        vertical-align: top;\n",
       "    }\n",
       "\n",
       "    .dataframe thead th {\n",
       "        text-align: right;\n",
       "    }\n",
       "</style>\n",
       "<table border=\"1\" class=\"dataframe\">\n",
       "  <thead>\n",
       "    <tr style=\"text-align: right;\">\n",
       "      <th></th>\n",
       "      <th>id</th>\n",
       "      <th>fork_length</th>\n",
       "      <th>weight</th>\n",
       "      <th>river_age</th>\n",
       "      <th>notes</th>\n",
       "      <th>sample_id</th>\n",
       "      <th>sex_id</th>\n",
       "      <th>status_id</th>\n",
       "      <th>age_type</th>\n",
       "      <th>sweep_id</th>\n",
       "      <th>life_stage_id</th>\n",
       "      <th>old_id</th>\n",
       "      <th>smart_river_age</th>\n",
       "      <th>smart_river_age_type</th>\n",
       "      <th>matching_id</th>\n",
       "      <th>distinct</th>\n",
       "    </tr>\n",
       "  </thead>\n",
       "  <tbody>\n",
       "    <tr>\n",
       "      <th>931</th>\n",
       "      <td>2221627</td>\n",
       "      <td>103</td>\n",
       "      <td>NaN</td>\n",
       "      <td>2.000</td>\n",
       "      <td>None</td>\n",
       "      <td>4412</td>\n",
       "      <td>&lt;NA&gt;</td>\n",
       "      <td>10.000</td>\n",
       "      <td>2.000</td>\n",
       "      <td>340.000</td>\n",
       "      <td>1.000</td>\n",
       "      <td>GD_560</td>\n",
       "      <td>2.000</td>\n",
       "      <td>2.000</td>\n",
       "      <td>44121030_00</td>\n",
       "      <td>False</td>\n",
       "    </tr>\n",
       "    <tr>\n",
       "      <th>932</th>\n",
       "      <td>2221628</td>\n",
       "      <td>103</td>\n",
       "      <td>NaN</td>\n",
       "      <td>2.000</td>\n",
       "      <td>None</td>\n",
       "      <td>4412</td>\n",
       "      <td>&lt;NA&gt;</td>\n",
       "      <td>10.000</td>\n",
       "      <td>2.000</td>\n",
       "      <td>340.000</td>\n",
       "      <td>1.000</td>\n",
       "      <td>GD_560</td>\n",
       "      <td>2.000</td>\n",
       "      <td>2.000</td>\n",
       "      <td>44121030_00</td>\n",
       "      <td>False</td>\n",
       "    </tr>\n",
       "    <tr>\n",
       "      <th>933</th>\n",
       "      <td>2221629</td>\n",
       "      <td>103</td>\n",
       "      <td>NaN</td>\n",
       "      <td>2.000</td>\n",
       "      <td>None</td>\n",
       "      <td>4412</td>\n",
       "      <td>&lt;NA&gt;</td>\n",
       "      <td>10.000</td>\n",
       "      <td>2.000</td>\n",
       "      <td>340.000</td>\n",
       "      <td>1.000</td>\n",
       "      <td>GD_560</td>\n",
       "      <td>2.000</td>\n",
       "      <td>2.000</td>\n",
       "      <td>44121030_00</td>\n",
       "      <td>False</td>\n",
       "    </tr>\n",
       "    <tr>\n",
       "      <th>934</th>\n",
       "      <td>2221630</td>\n",
       "      <td>103</td>\n",
       "      <td>NaN</td>\n",
       "      <td>2.000</td>\n",
       "      <td>None</td>\n",
       "      <td>4412</td>\n",
       "      <td>&lt;NA&gt;</td>\n",
       "      <td>10.000</td>\n",
       "      <td>2.000</td>\n",
       "      <td>340.000</td>\n",
       "      <td>1.000</td>\n",
       "      <td>GD_560</td>\n",
       "      <td>2.000</td>\n",
       "      <td>2.000</td>\n",
       "      <td>44121030_00</td>\n",
       "      <td>False</td>\n",
       "    </tr>\n",
       "  </tbody>\n",
       "</table>\n",
       "</div>"
      ],
      "text/plain": [
       "          id  fork_length  weight  river_age notes  sample_id  sex_id  \\\n",
       "931  2221627          103     NaN      2.000  None       4412    <NA>   \n",
       "932  2221628          103     NaN      2.000  None       4412    <NA>   \n",
       "933  2221629          103     NaN      2.000  None       4412    <NA>   \n",
       "934  2221630          103     NaN      2.000  None       4412    <NA>   \n",
       "\n",
       "     status_id  age_type  sweep_id  life_stage_id  old_id  smart_river_age  \\\n",
       "931     10.000     2.000   340.000          1.000  GD_560            2.000   \n",
       "932     10.000     2.000   340.000          1.000  GD_560            2.000   \n",
       "933     10.000     2.000   340.000          1.000  GD_560            2.000   \n",
       "934     10.000     2.000   340.000          1.000  GD_560            2.000   \n",
       "\n",
       "     smart_river_age_type  matching_id  distinct  \n",
       "931                 2.000  44121030_00     False  \n",
       "932                 2.000  44121030_00     False  \n",
       "933                 2.000  44121030_00     False  \n",
       "934                 2.000  44121030_00     False  "
      ]
     },
     "execution_count": 33,
     "metadata": {},
     "output_type": "execute_result"
    }
   ],
   "source": [
    "df_spec[df_spec.old_id=='GD_560']"
   ]
  },
  {
   "cell_type": "code",
   "execution_count": 35,
   "id": "1c32839d",
   "metadata": {},
   "outputs": [
    {
     "data": {
      "text/html": [
       "<div>\n",
       "<style scoped>\n",
       "    .dataframe tbody tr th:only-of-type {\n",
       "        vertical-align: middle;\n",
       "    }\n",
       "\n",
       "    .dataframe tbody tr th {\n",
       "        vertical-align: top;\n",
       "    }\n",
       "\n",
       "    .dataframe thead th {\n",
       "        text-align: right;\n",
       "    }\n",
       "</style>\n",
       "<table border=\"1\" class=\"dataframe\">\n",
       "  <thead>\n",
       "    <tr style=\"text-align: right;\">\n",
       "      <th></th>\n",
       "      <th>id</th>\n",
       "      <th>fork_length</th>\n",
       "      <th>total_length</th>\n",
       "      <th>weight</th>\n",
       "      <th>age_type</th>\n",
       "      <th>river_age</th>\n",
       "      <th>notes</th>\n",
       "      <th>old_id</th>\n",
       "      <th>life_stage_id</th>\n",
       "      <th>sample_id</th>\n",
       "      <th>sex_id</th>\n",
       "      <th>status_id</th>\n",
       "      <th>matching_id</th>\n",
       "      <th>distinct</th>\n",
       "    </tr>\n",
       "  </thead>\n",
       "  <tbody>\n",
       "    <tr>\n",
       "      <th>226</th>\n",
       "      <td>69578</td>\n",
       "      <td>103</td>\n",
       "      <td>NaN</td>\n",
       "      <td>NaN</td>\n",
       "      <td>1.000</td>\n",
       "      <td>2.000</td>\n",
       "      <td>None</td>\n",
       "      <td>GD_548</td>\n",
       "      <td>1</td>\n",
       "      <td>4412</td>\n",
       "      <td>&lt;NA&gt;</td>\n",
       "      <td>10</td>\n",
       "      <td>44121030_00</td>\n",
       "      <td>True</td>\n",
       "    </tr>\n",
       "  </tbody>\n",
       "</table>\n",
       "</div>"
      ],
      "text/plain": [
       "        id  fork_length  total_length  weight  age_type  river_age notes  \\\n",
       "226  69578          103           NaN     NaN     1.000      2.000  None   \n",
       "\n",
       "     old_id  life_stage_id  sample_id  sex_id  status_id  matching_id  \\\n",
       "226  GD_548              1       4412    <NA>         10  44121030_00   \n",
       "\n",
       "     distinct  \n",
       "226      True  "
      ]
     },
     "execution_count": 35,
     "metadata": {},
     "output_type": "execute_result"
    }
   ],
   "source": [
    "df_hist[df_hist.matching_id=='44121030_00']"
   ]
  },
  {
   "cell_type": "code",
   "execution_count": 36,
   "id": "1e0a77d0",
   "metadata": {},
   "outputs": [
    {
     "data": {
      "text/html": [
       "<div>\n",
       "<style scoped>\n",
       "    .dataframe tbody tr th:only-of-type {\n",
       "        vertical-align: middle;\n",
       "    }\n",
       "\n",
       "    .dataframe tbody tr th {\n",
       "        vertical-align: top;\n",
       "    }\n",
       "\n",
       "    .dataframe thead th {\n",
       "        text-align: right;\n",
       "    }\n",
       "</style>\n",
       "<table border=\"1\" class=\"dataframe\">\n",
       "  <thead>\n",
       "    <tr style=\"text-align: right;\">\n",
       "      <th></th>\n",
       "      <th>old_id</th>\n",
       "      <th>DATETIME</th>\n",
       "      <th>SURVEY</th>\n",
       "      <th>SITE</th>\n",
       "      <th>CATCHMENT_NAME</th>\n",
       "      <th>CATCHMENT_INDEX</th>\n",
       "      <th>SURVEY_TYPE</th>\n",
       "      <th>SITE_EVENT_CODE</th>\n",
       "      <th>SWEEP_NUMBER</th>\n",
       "      <th>RECORD_IDENTIFIER</th>\n",
       "      <th>SPECIES_ITIS_CODE</th>\n",
       "      <th>SPECIES_LIFE_STAGE</th>\n",
       "      <th>ORIGIN</th>\n",
       "      <th>FISH_STATUS</th>\n",
       "      <th>FORK_LENGTH</th>\n",
       "      <th>FORK_LENGTH_INTERVAL_WIDTH</th>\n",
       "      <th>TOTAL_LENGTH</th>\n",
       "      <th>WEIGHT</th>\n",
       "      <th>WEIGHT_RESOLUTION</th>\n",
       "      <th>WEIGHT_PRECISION</th>\n",
       "      <th>FILE_TYPE</th>\n",
       "      <th>CATCH_FREQUENCY</th>\n",
       "      <th>FISH_SIZE</th>\n",
       "      <th>RIVER_AGE</th>\n",
       "      <th>AGE_TYPE</th>\n",
       "      <th>SEX</th>\n",
       "      <th>MATURITY</th>\n",
       "      <th>BIOLOGICAL_REMARKS</th>\n",
       "      <th>BIOLOGICAL_SAMPLE</th>\n",
       "      <th>SCALE_SAMPLE</th>\n",
       "      <th>SCALE_SAMPLE_ID</th>\n",
       "      <th>GD_ID</th>\n",
       "    </tr>\n",
       "  </thead>\n",
       "  <tbody>\n",
       "    <tr>\n",
       "      <th>547</th>\n",
       "      <td>GD_548</td>\n",
       "      <td>1970-08-19</td>\n",
       "      <td>1970</td>\n",
       "      <td>42</td>\n",
       "      <td>MIRAMICHI</td>\n",
       "      <td>2</td>\n",
       "      <td>1</td>\n",
       "      <td>1</td>\n",
       "      <td>0.000</td>\n",
       "      <td>8624981</td>\n",
       "      <td>161996</td>\n",
       "      <td>1731.000</td>\n",
       "      <td>W</td>\n",
       "      <td>RS</td>\n",
       "      <td>103.000</td>\n",
       "      <td>1.000</td>\n",
       "      <td>NaN</td>\n",
       "      <td>NaN</td>\n",
       "      <td>NaN</td>\n",
       "      <td>NaN</td>\n",
       "      <td>2.000</td>\n",
       "      <td>1</td>\n",
       "      <td>PARR</td>\n",
       "      <td>2.000</td>\n",
       "      <td>SCALE</td>\n",
       "      <td>NaN</td>\n",
       "      <td>NaN</td>\n",
       "      <td>NaN</td>\n",
       "      <td>1.000</td>\n",
       "      <td>NaN</td>\n",
       "      <td>NaN</td>\n",
       "      <td>548</td>\n",
       "    </tr>\n",
       "  </tbody>\n",
       "</table>\n",
       "</div>"
      ],
      "text/plain": [
       "     old_id   DATETIME  SURVEY SITE CATCHMENT_NAME  CATCHMENT_INDEX  \\\n",
       "547  GD_548 1970-08-19    1970   42      MIRAMICHI                2   \n",
       "\n",
       "     SURVEY_TYPE  SITE_EVENT_CODE  SWEEP_NUMBER RECORD_IDENTIFIER  \\\n",
       "547            1                1         0.000           8624981   \n",
       "\n",
       "    SPECIES_ITIS_CODE  SPECIES_LIFE_STAGE ORIGIN FISH_STATUS  FORK_LENGTH  \\\n",
       "547            161996            1731.000      W          RS      103.000   \n",
       "\n",
       "     FORK_LENGTH_INTERVAL_WIDTH  TOTAL_LENGTH  WEIGHT  WEIGHT_RESOLUTION  \\\n",
       "547                       1.000           NaN     NaN                NaN   \n",
       "\n",
       "     WEIGHT_PRECISION  FILE_TYPE  CATCH_FREQUENCY FISH_SIZE  RIVER_AGE  \\\n",
       "547               NaN      2.000                1      PARR      2.000   \n",
       "\n",
       "    AGE_TYPE  SEX  MATURITY BIOLOGICAL_REMARKS  BIOLOGICAL_SAMPLE  \\\n",
       "547    SCALE  NaN       NaN                NaN              1.000   \n",
       "\n",
       "    SCALE_SAMPLE SCALE_SAMPLE_ID  GD_ID  \n",
       "547          NaN             NaN    548  "
      ]
     },
     "execution_count": 36,
     "metadata": {},
     "output_type": "execute_result"
    }
   ],
   "source": [
    "df_archive[df_archive.old_id=='GD_548']"
   ]
  },
  {
   "cell_type": "code",
   "execution_count": 38,
   "id": "c7fd46f7",
   "metadata": {},
   "outputs": [
    {
     "data": {
      "text/html": [
       "<div>\n",
       "<style scoped>\n",
       "    .dataframe tbody tr th:only-of-type {\n",
       "        vertical-align: middle;\n",
       "    }\n",
       "\n",
       "    .dataframe tbody tr th {\n",
       "        vertical-align: top;\n",
       "    }\n",
       "\n",
       "    .dataframe thead th {\n",
       "        text-align: right;\n",
       "    }\n",
       "</style>\n",
       "<table border=\"1\" class=\"dataframe\">\n",
       "  <thead>\n",
       "    <tr style=\"text-align: right;\">\n",
       "      <th></th>\n",
       "      <th>id</th>\n",
       "      <th>created_at</th>\n",
       "      <th>updated_at</th>\n",
       "      <th>fork_length</th>\n",
       "      <th>total_length</th>\n",
       "      <th>weight</th>\n",
       "      <th>river_age</th>\n",
       "      <th>scale_id_number</th>\n",
       "      <th>notes</th>\n",
       "      <th>created_by_id</th>\n",
       "      <th>origin_id</th>\n",
       "      <th>sample_id</th>\n",
       "      <th>sex_id</th>\n",
       "      <th>species_id</th>\n",
       "      <th>status_id</th>\n",
       "      <th>updated_by_id</th>\n",
       "      <th>tag_number</th>\n",
       "      <th>age_type</th>\n",
       "      <th>ocean_age</th>\n",
       "      <th>sweep_id</th>\n",
       "      <th>life_stage_id</th>\n",
       "      <th>reproductive_status_id</th>\n",
       "      <th>adipose_condition</th>\n",
       "      <th>old_id</th>\n",
       "      <th>fork_length_bin_interval</th>\n",
       "      <th>maturity_id</th>\n",
       "      <th>smart_river_age</th>\n",
       "      <th>smart_river_age_type</th>\n",
       "    </tr>\n",
       "  </thead>\n",
       "  <tbody>\n",
       "    <tr>\n",
       "      <th>0</th>\n",
       "      <td>253146</td>\n",
       "      <td>2021-11-02 18:35:41.753618</td>\n",
       "      <td>2022-12-12 21:52:53.84318</td>\n",
       "      <td>97.000</td>\n",
       "      <td>NaN</td>\n",
       "      <td>11.330</td>\n",
       "      <td>NaN</td>\n",
       "      <td>EFRP5-1 2021</td>\n",
       "      <td>NaN</td>\n",
       "      <td>40.000</td>\n",
       "      <td>2.000</td>\n",
       "      <td>1794</td>\n",
       "      <td>3.000</td>\n",
       "      <td>79</td>\n",
       "      <td>10.000</td>\n",
       "      <td>40.000</td>\n",
       "      <td>NaN</td>\n",
       "      <td>NaN</td>\n",
       "      <td>NaN</td>\n",
       "      <td>1.000</td>\n",
       "      <td>1.000</td>\n",
       "      <td>NaN</td>\n",
       "      <td>1.000</td>\n",
       "      <td>NaN</td>\n",
       "      <td>1.000</td>\n",
       "      <td>NaN</td>\n",
       "      <td>NaN</td>\n",
       "      <td>NaN</td>\n",
       "    </tr>\n",
       "    <tr>\n",
       "      <th>1</th>\n",
       "      <td>253147</td>\n",
       "      <td>2021-11-02 18:44:24.433456</td>\n",
       "      <td>2022-12-12 21:52:53.893623</td>\n",
       "      <td>86.000</td>\n",
       "      <td>NaN</td>\n",
       "      <td>7.660</td>\n",
       "      <td>NaN</td>\n",
       "      <td>EFRP5-2 2021</td>\n",
       "      <td>NaN</td>\n",
       "      <td>40.000</td>\n",
       "      <td>2.000</td>\n",
       "      <td>1794</td>\n",
       "      <td>1.000</td>\n",
       "      <td>79</td>\n",
       "      <td>10.000</td>\n",
       "      <td>40.000</td>\n",
       "      <td>NaN</td>\n",
       "      <td>NaN</td>\n",
       "      <td>NaN</td>\n",
       "      <td>1.000</td>\n",
       "      <td>1.000</td>\n",
       "      <td>NaN</td>\n",
       "      <td>1.000</td>\n",
       "      <td>NaN</td>\n",
       "      <td>1.000</td>\n",
       "      <td>NaN</td>\n",
       "      <td>NaN</td>\n",
       "      <td>NaN</td>\n",
       "    </tr>\n",
       "    <tr>\n",
       "      <th>2</th>\n",
       "      <td>253148</td>\n",
       "      <td>2021-11-02 18:44:24.445103</td>\n",
       "      <td>2022-12-12 21:52:53.943221</td>\n",
       "      <td>113.000</td>\n",
       "      <td>NaN</td>\n",
       "      <td>13.320</td>\n",
       "      <td>NaN</td>\n",
       "      <td>EFRP5-3 2021</td>\n",
       "      <td>NaN</td>\n",
       "      <td>40.000</td>\n",
       "      <td>2.000</td>\n",
       "      <td>1794</td>\n",
       "      <td>3.000</td>\n",
       "      <td>79</td>\n",
       "      <td>10.000</td>\n",
       "      <td>40.000</td>\n",
       "      <td>NaN</td>\n",
       "      <td>NaN</td>\n",
       "      <td>NaN</td>\n",
       "      <td>1.000</td>\n",
       "      <td>1.000</td>\n",
       "      <td>NaN</td>\n",
       "      <td>1.000</td>\n",
       "      <td>NaN</td>\n",
       "      <td>1.000</td>\n",
       "      <td>NaN</td>\n",
       "      <td>NaN</td>\n",
       "      <td>NaN</td>\n",
       "    </tr>\n",
       "    <tr>\n",
       "      <th>3</th>\n",
       "      <td>253149</td>\n",
       "      <td>2021-11-02 18:44:24.4852</td>\n",
       "      <td>2022-12-12 21:52:53.993065</td>\n",
       "      <td>126.000</td>\n",
       "      <td>NaN</td>\n",
       "      <td>23.370</td>\n",
       "      <td>NaN</td>\n",
       "      <td>EFRP5-4 2021</td>\n",
       "      <td>NaN</td>\n",
       "      <td>40.000</td>\n",
       "      <td>2.000</td>\n",
       "      <td>1794</td>\n",
       "      <td>1.000</td>\n",
       "      <td>79</td>\n",
       "      <td>10.000</td>\n",
       "      <td>40.000</td>\n",
       "      <td>NaN</td>\n",
       "      <td>NaN</td>\n",
       "      <td>NaN</td>\n",
       "      <td>1.000</td>\n",
       "      <td>1.000</td>\n",
       "      <td>NaN</td>\n",
       "      <td>1.000</td>\n",
       "      <td>NaN</td>\n",
       "      <td>1.000</td>\n",
       "      <td>NaN</td>\n",
       "      <td>NaN</td>\n",
       "      <td>NaN</td>\n",
       "    </tr>\n",
       "    <tr>\n",
       "      <th>4</th>\n",
       "      <td>253150</td>\n",
       "      <td>2021-11-02 18:44:24.500002</td>\n",
       "      <td>2022-12-12 21:52:54.060298</td>\n",
       "      <td>85.000</td>\n",
       "      <td>NaN</td>\n",
       "      <td>7.830</td>\n",
       "      <td>NaN</td>\n",
       "      <td>EFRP5-5 2021</td>\n",
       "      <td>NaN</td>\n",
       "      <td>40.000</td>\n",
       "      <td>2.000</td>\n",
       "      <td>1794</td>\n",
       "      <td>1.000</td>\n",
       "      <td>79</td>\n",
       "      <td>10.000</td>\n",
       "      <td>40.000</td>\n",
       "      <td>NaN</td>\n",
       "      <td>NaN</td>\n",
       "      <td>NaN</td>\n",
       "      <td>1.000</td>\n",
       "      <td>1.000</td>\n",
       "      <td>NaN</td>\n",
       "      <td>1.000</td>\n",
       "      <td>NaN</td>\n",
       "      <td>1.000</td>\n",
       "      <td>NaN</td>\n",
       "      <td>NaN</td>\n",
       "      <td>NaN</td>\n",
       "    </tr>\n",
       "    <tr>\n",
       "      <th>...</th>\n",
       "      <td>...</td>\n",
       "      <td>...</td>\n",
       "      <td>...</td>\n",
       "      <td>...</td>\n",
       "      <td>...</td>\n",
       "      <td>...</td>\n",
       "      <td>...</td>\n",
       "      <td>...</td>\n",
       "      <td>...</td>\n",
       "      <td>...</td>\n",
       "      <td>...</td>\n",
       "      <td>...</td>\n",
       "      <td>...</td>\n",
       "      <td>...</td>\n",
       "      <td>...</td>\n",
       "      <td>...</td>\n",
       "      <td>...</td>\n",
       "      <td>...</td>\n",
       "      <td>...</td>\n",
       "      <td>...</td>\n",
       "      <td>...</td>\n",
       "      <td>...</td>\n",
       "      <td>...</td>\n",
       "      <td>...</td>\n",
       "      <td>...</td>\n",
       "      <td>...</td>\n",
       "      <td>...</td>\n",
       "      <td>...</td>\n",
       "    </tr>\n",
       "    <tr>\n",
       "      <th>1006673</th>\n",
       "      <td>2436015</td>\n",
       "      <td>2023-02-03 14:57:19.599493</td>\n",
       "      <td>2023-02-03 14:57:19.599524</td>\n",
       "      <td>NaN</td>\n",
       "      <td>NaN</td>\n",
       "      <td>NaN</td>\n",
       "      <td>NaN</td>\n",
       "      <td>NaN</td>\n",
       "      <td>NaN</td>\n",
       "      <td>2435.000</td>\n",
       "      <td>NaN</td>\n",
       "      <td>4140</td>\n",
       "      <td>NaN</td>\n",
       "      <td>79</td>\n",
       "      <td>5.000</td>\n",
       "      <td>NaN</td>\n",
       "      <td>NaN</td>\n",
       "      <td>NaN</td>\n",
       "      <td>NaN</td>\n",
       "      <td>NaN</td>\n",
       "      <td>1.000</td>\n",
       "      <td>NaN</td>\n",
       "      <td>NaN</td>\n",
       "      <td>NaN</td>\n",
       "      <td>1.000</td>\n",
       "      <td>NaN</td>\n",
       "      <td>NaN</td>\n",
       "      <td>NaN</td>\n",
       "    </tr>\n",
       "    <tr>\n",
       "      <th>1006674</th>\n",
       "      <td>2436016</td>\n",
       "      <td>2023-02-03 14:57:19.693873</td>\n",
       "      <td>2023-02-03 14:57:19.693902</td>\n",
       "      <td>NaN</td>\n",
       "      <td>NaN</td>\n",
       "      <td>NaN</td>\n",
       "      <td>NaN</td>\n",
       "      <td>NaN</td>\n",
       "      <td>NaN</td>\n",
       "      <td>2435.000</td>\n",
       "      <td>NaN</td>\n",
       "      <td>4140</td>\n",
       "      <td>NaN</td>\n",
       "      <td>79</td>\n",
       "      <td>5.000</td>\n",
       "      <td>NaN</td>\n",
       "      <td>NaN</td>\n",
       "      <td>NaN</td>\n",
       "      <td>NaN</td>\n",
       "      <td>NaN</td>\n",
       "      <td>1.000</td>\n",
       "      <td>NaN</td>\n",
       "      <td>NaN</td>\n",
       "      <td>NaN</td>\n",
       "      <td>1.000</td>\n",
       "      <td>NaN</td>\n",
       "      <td>NaN</td>\n",
       "      <td>NaN</td>\n",
       "    </tr>\n",
       "    <tr>\n",
       "      <th>1006675</th>\n",
       "      <td>2436017</td>\n",
       "      <td>2023-02-03 14:57:19.760322</td>\n",
       "      <td>2023-02-03 14:57:19.760369</td>\n",
       "      <td>NaN</td>\n",
       "      <td>NaN</td>\n",
       "      <td>NaN</td>\n",
       "      <td>NaN</td>\n",
       "      <td>NaN</td>\n",
       "      <td>NaN</td>\n",
       "      <td>2435.000</td>\n",
       "      <td>NaN</td>\n",
       "      <td>4140</td>\n",
       "      <td>NaN</td>\n",
       "      <td>79</td>\n",
       "      <td>5.000</td>\n",
       "      <td>NaN</td>\n",
       "      <td>NaN</td>\n",
       "      <td>NaN</td>\n",
       "      <td>NaN</td>\n",
       "      <td>NaN</td>\n",
       "      <td>1.000</td>\n",
       "      <td>NaN</td>\n",
       "      <td>NaN</td>\n",
       "      <td>NaN</td>\n",
       "      <td>1.000</td>\n",
       "      <td>NaN</td>\n",
       "      <td>NaN</td>\n",
       "      <td>NaN</td>\n",
       "    </tr>\n",
       "    <tr>\n",
       "      <th>1006676</th>\n",
       "      <td>2436018</td>\n",
       "      <td>2023-02-03 14:57:19.771258</td>\n",
       "      <td>2023-02-03 14:57:19.771303</td>\n",
       "      <td>NaN</td>\n",
       "      <td>NaN</td>\n",
       "      <td>NaN</td>\n",
       "      <td>NaN</td>\n",
       "      <td>NaN</td>\n",
       "      <td>NaN</td>\n",
       "      <td>2435.000</td>\n",
       "      <td>NaN</td>\n",
       "      <td>4140</td>\n",
       "      <td>NaN</td>\n",
       "      <td>79</td>\n",
       "      <td>5.000</td>\n",
       "      <td>NaN</td>\n",
       "      <td>NaN</td>\n",
       "      <td>NaN</td>\n",
       "      <td>NaN</td>\n",
       "      <td>NaN</td>\n",
       "      <td>1.000</td>\n",
       "      <td>NaN</td>\n",
       "      <td>NaN</td>\n",
       "      <td>NaN</td>\n",
       "      <td>1.000</td>\n",
       "      <td>NaN</td>\n",
       "      <td>NaN</td>\n",
       "      <td>NaN</td>\n",
       "    </tr>\n",
       "    <tr>\n",
       "      <th>1006677</th>\n",
       "      <td>2436019</td>\n",
       "      <td>2023-02-03 14:57:19.776002</td>\n",
       "      <td>2023-02-03 14:57:19.776041</td>\n",
       "      <td>NaN</td>\n",
       "      <td>NaN</td>\n",
       "      <td>NaN</td>\n",
       "      <td>NaN</td>\n",
       "      <td>NaN</td>\n",
       "      <td>NaN</td>\n",
       "      <td>2435.000</td>\n",
       "      <td>NaN</td>\n",
       "      <td>4140</td>\n",
       "      <td>NaN</td>\n",
       "      <td>79</td>\n",
       "      <td>5.000</td>\n",
       "      <td>NaN</td>\n",
       "      <td>NaN</td>\n",
       "      <td>NaN</td>\n",
       "      <td>NaN</td>\n",
       "      <td>NaN</td>\n",
       "      <td>1.000</td>\n",
       "      <td>NaN</td>\n",
       "      <td>NaN</td>\n",
       "      <td>NaN</td>\n",
       "      <td>1.000</td>\n",
       "      <td>NaN</td>\n",
       "      <td>NaN</td>\n",
       "      <td>NaN</td>\n",
       "    </tr>\n",
       "  </tbody>\n",
       "</table>\n",
       "<p>1006678 rows × 28 columns</p>\n",
       "</div>"
      ],
      "text/plain": [
       "              id                  created_at                  updated_at  \\\n",
       "0         253146  2021-11-02 18:35:41.753618   2022-12-12 21:52:53.84318   \n",
       "1         253147  2021-11-02 18:44:24.433456  2022-12-12 21:52:53.893623   \n",
       "2         253148  2021-11-02 18:44:24.445103  2022-12-12 21:52:53.943221   \n",
       "3         253149    2021-11-02 18:44:24.4852  2022-12-12 21:52:53.993065   \n",
       "4         253150  2021-11-02 18:44:24.500002  2022-12-12 21:52:54.060298   \n",
       "...          ...                         ...                         ...   \n",
       "1006673  2436015  2023-02-03 14:57:19.599493  2023-02-03 14:57:19.599524   \n",
       "1006674  2436016  2023-02-03 14:57:19.693873  2023-02-03 14:57:19.693902   \n",
       "1006675  2436017  2023-02-03 14:57:19.760322  2023-02-03 14:57:19.760369   \n",
       "1006676  2436018  2023-02-03 14:57:19.771258  2023-02-03 14:57:19.771303   \n",
       "1006677  2436019  2023-02-03 14:57:19.776002  2023-02-03 14:57:19.776041   \n",
       "\n",
       "         fork_length  total_length  weight  river_age scale_id_number notes  \\\n",
       "0             97.000           NaN  11.330        NaN    EFRP5-1 2021   NaN   \n",
       "1             86.000           NaN   7.660        NaN    EFRP5-2 2021   NaN   \n",
       "2            113.000           NaN  13.320        NaN    EFRP5-3 2021   NaN   \n",
       "3            126.000           NaN  23.370        NaN    EFRP5-4 2021   NaN   \n",
       "4             85.000           NaN   7.830        NaN    EFRP5-5 2021   NaN   \n",
       "...              ...           ...     ...        ...             ...   ...   \n",
       "1006673          NaN           NaN     NaN        NaN             NaN   NaN   \n",
       "1006674          NaN           NaN     NaN        NaN             NaN   NaN   \n",
       "1006675          NaN           NaN     NaN        NaN             NaN   NaN   \n",
       "1006676          NaN           NaN     NaN        NaN             NaN   NaN   \n",
       "1006677          NaN           NaN     NaN        NaN             NaN   NaN   \n",
       "\n",
       "         created_by_id  origin_id  sample_id  sex_id  species_id  status_id  \\\n",
       "0               40.000      2.000       1794   3.000          79     10.000   \n",
       "1               40.000      2.000       1794   1.000          79     10.000   \n",
       "2               40.000      2.000       1794   3.000          79     10.000   \n",
       "3               40.000      2.000       1794   1.000          79     10.000   \n",
       "4               40.000      2.000       1794   1.000          79     10.000   \n",
       "...                ...        ...        ...     ...         ...        ...   \n",
       "1006673       2435.000        NaN       4140     NaN          79      5.000   \n",
       "1006674       2435.000        NaN       4140     NaN          79      5.000   \n",
       "1006675       2435.000        NaN       4140     NaN          79      5.000   \n",
       "1006676       2435.000        NaN       4140     NaN          79      5.000   \n",
       "1006677       2435.000        NaN       4140     NaN          79      5.000   \n",
       "\n",
       "         updated_by_id tag_number  age_type  ocean_age  sweep_id  \\\n",
       "0               40.000        NaN       NaN        NaN     1.000   \n",
       "1               40.000        NaN       NaN        NaN     1.000   \n",
       "2               40.000        NaN       NaN        NaN     1.000   \n",
       "3               40.000        NaN       NaN        NaN     1.000   \n",
       "4               40.000        NaN       NaN        NaN     1.000   \n",
       "...                ...        ...       ...        ...       ...   \n",
       "1006673            NaN        NaN       NaN        NaN       NaN   \n",
       "1006674            NaN        NaN       NaN        NaN       NaN   \n",
       "1006675            NaN        NaN       NaN        NaN       NaN   \n",
       "1006676            NaN        NaN       NaN        NaN       NaN   \n",
       "1006677            NaN        NaN       NaN        NaN       NaN   \n",
       "\n",
       "         life_stage_id  reproductive_status_id  adipose_condition old_id  \\\n",
       "0                1.000                     NaN              1.000    NaN   \n",
       "1                1.000                     NaN              1.000    NaN   \n",
       "2                1.000                     NaN              1.000    NaN   \n",
       "3                1.000                     NaN              1.000    NaN   \n",
       "4                1.000                     NaN              1.000    NaN   \n",
       "...                ...                     ...                ...    ...   \n",
       "1006673          1.000                     NaN                NaN    NaN   \n",
       "1006674          1.000                     NaN                NaN    NaN   \n",
       "1006675          1.000                     NaN                NaN    NaN   \n",
       "1006676          1.000                     NaN                NaN    NaN   \n",
       "1006677          1.000                     NaN                NaN    NaN   \n",
       "\n",
       "         fork_length_bin_interval  maturity_id  smart_river_age  \\\n",
       "0                           1.000          NaN              NaN   \n",
       "1                           1.000          NaN              NaN   \n",
       "2                           1.000          NaN              NaN   \n",
       "3                           1.000          NaN              NaN   \n",
       "4                           1.000          NaN              NaN   \n",
       "...                           ...          ...              ...   \n",
       "1006673                     1.000          NaN              NaN   \n",
       "1006674                     1.000          NaN              NaN   \n",
       "1006675                     1.000          NaN              NaN   \n",
       "1006676                     1.000          NaN              NaN   \n",
       "1006677                     1.000          NaN              NaN   \n",
       "\n",
       "         smart_river_age_type  \n",
       "0                         NaN  \n",
       "1                         NaN  \n",
       "2                         NaN  \n",
       "3                         NaN  \n",
       "4                         NaN  \n",
       "...                       ...  \n",
       "1006673                   NaN  \n",
       "1006674                   NaN  \n",
       "1006675                   NaN  \n",
       "1006676                   NaN  \n",
       "1006677                   NaN  \n",
       "\n",
       "[1006678 rows x 28 columns]"
      ]
     },
     "execution_count": 38,
     "metadata": {},
     "output_type": "execute_result"
    }
   ],
   "source": [
    "# df_spec - raw\n",
    "pd.read_csv(r'.\\csv\\trapnet_specimen_202302231329.csv', low_memory=False)"
   ]
  },
  {
   "cell_type": "code",
   "execution_count": null,
   "id": "b99d4fad",
   "metadata": {},
   "outputs": [],
   "source": []
  },
  {
   "cell_type": "code",
   "execution_count": null,
   "id": "4fcff0d0",
   "metadata": {},
   "outputs": [],
   "source": []
  },
  {
   "cell_type": "code",
   "execution_count": null,
   "id": "359200c1",
   "metadata": {},
   "outputs": [],
   "source": []
  },
  {
   "cell_type": "code",
   "execution_count": null,
   "id": "33a00d52",
   "metadata": {},
   "outputs": [],
   "source": []
  },
  {
   "cell_type": "code",
   "execution_count": null,
   "id": "b4f5cc40",
   "metadata": {},
   "outputs": [],
   "source": []
  },
  {
   "cell_type": "code",
   "execution_count": null,
   "id": "a75eee36",
   "metadata": {},
   "outputs": [],
   "source": []
  },
  {
   "cell_type": "markdown",
   "id": "d9170419",
   "metadata": {},
   "source": [
    "# could we get better matches using historical data instead of dm_apps data?"
   ]
  },
  {
   "cell_type": "code",
   "execution_count": null,
   "id": "c91f5999",
   "metadata": {},
   "outputs": [],
   "source": []
  },
  {
   "cell_type": "code",
   "execution_count": null,
   "id": "83a522f5",
   "metadata": {},
   "outputs": [],
   "source": []
  },
  {
   "cell_type": "code",
   "execution_count": null,
   "id": "0fd4a116",
   "metadata": {},
   "outputs": [],
   "source": []
  },
  {
   "cell_type": "code",
   "execution_count": null,
   "id": "547ef3ed",
   "metadata": {},
   "outputs": [],
   "source": []
  },
  {
   "cell_type": "code",
   "execution_count": null,
   "id": "c58dd5b0",
   "metadata": {},
   "outputs": [],
   "source": []
  },
  {
   "cell_type": "code",
   "execution_count": null,
   "id": "64ecef36",
   "metadata": {},
   "outputs": [],
   "source": []
  },
  {
   "cell_type": "code",
   "execution_count": null,
   "id": "8d77106f",
   "metadata": {},
   "outputs": [],
   "source": []
  },
  {
   "cell_type": "code",
   "execution_count": null,
   "id": "11244bab",
   "metadata": {},
   "outputs": [],
   "source": []
  },
  {
   "cell_type": "code",
   "execution_count": null,
   "id": "79307555",
   "metadata": {},
   "outputs": [],
   "source": []
  },
  {
   "cell_type": "code",
   "execution_count": null,
   "id": "6b953da1",
   "metadata": {},
   "outputs": [],
   "source": []
  },
  {
   "cell_type": "code",
   "execution_count": null,
   "id": "56d064eb",
   "metadata": {},
   "outputs": [],
   "source": []
  },
  {
   "cell_type": "code",
   "execution_count": null,
   "id": "b7bd8c32",
   "metadata": {},
   "outputs": [],
   "source": []
  },
  {
   "cell_type": "code",
   "execution_count": null,
   "id": "70869234",
   "metadata": {},
   "outputs": [],
   "source": []
  },
  {
   "cell_type": "code",
   "execution_count": null,
   "id": "7036dee0",
   "metadata": {},
   "outputs": [],
   "source": []
  },
  {
   "cell_type": "markdown",
   "id": "da4f9f72",
   "metadata": {},
   "source": [
    "# samples with potential matches"
   ]
  },
  {
   "cell_type": "code",
   "execution_count": null,
   "id": "00f36cd0",
   "metadata": {},
   "outputs": [],
   "source": [
    "len(df_hist.sample_id.unique()), len(df_spec.sample_id.unique())"
   ]
  },
  {
   "cell_type": "markdown",
   "id": "4462d19e",
   "metadata": {},
   "source": [
    "# old_id will not work"
   ]
  },
  {
   "cell_type": "code",
   "execution_count": null,
   "id": "a4f2a1be",
   "metadata": {},
   "outputs": [],
   "source": [
    "# old_id never matches\n",
    "pd.merge(df_hist, df_spec, on='old_id')"
   ]
  },
  {
   "cell_type": "code",
   "execution_count": null,
   "id": "43cfb6df",
   "metadata": {},
   "outputs": [],
   "source": [
    "df_hist = df_hist.drop('old_id', axis=1)\n",
    "df_spec = df_spec.drop('old_id', axis=1)"
   ]
  },
  {
   "cell_type": "markdown",
   "id": "c469b1bf",
   "metadata": {},
   "source": [
    "# how to identify distinct fish for matching"
   ]
  },
  {
   "cell_type": "code",
   "execution_count": null,
   "id": "34afd86d",
   "metadata": {},
   "outputs": [],
   "source": [
    "# distinct matches for 60% of hist fish\n",
    "df_hist.groupby(['sample_id', 'fork_length', 'weight', 'sex_id', 'life_stage_id', 'river_age', 'status_id'], dropna=False).count().id.describe(percentiles=[.65, .70, .90])"
   ]
  },
  {
   "cell_type": "code",
   "execution_count": null,
   "id": "bf0abe62",
   "metadata": {},
   "outputs": [],
   "source": [
    "df_hist.groupby(['sample_id', 'fork_length', 'weight', 'sex_id'], dropna=False).count().id.describe(percentiles=[.65, .70, .90])"
   ]
  },
  {
   "cell_type": "code",
   "execution_count": null,
   "id": "40771e6f",
   "metadata": {},
   "outputs": [],
   "source": [
    "df_hist.groupby(['sample_id', 'fork_length', 'weight'], dropna=False).count().id.describe(percentiles=[.65, .70, .90])"
   ]
  },
  {
   "cell_type": "code",
   "execution_count": null,
   "id": "50034e4d",
   "metadata": {},
   "outputs": [],
   "source": [
    "groupby = ['sample_id', 'fork_length', 'weight', 'sex_id', 'life_stage_id', 'river_age', 'status_id']\n",
    "df_spec.groupby(groupby, dropna=False).count().id.describe(percentiles=[.30, .35])"
   ]
  },
  {
   "cell_type": "code",
   "execution_count": null,
   "id": "1e9b999f",
   "metadata": {},
   "outputs": [],
   "source": [
    "groupby = ['sample_id', 'fork_length', 'weight', 'sex_id']\n",
    "df_spec.groupby(groupby, dropna=False).count().id.describe(percentiles=[.30, .35])"
   ]
  },
  {
   "cell_type": "code",
   "execution_count": null,
   "id": "912bd906",
   "metadata": {},
   "outputs": [],
   "source": [
    "groupby = ['sample_id', 'fork_length', 'weight']\n",
    "df_spec.groupby(groupby, dropna=False).count().id.describe(percentiles=[.30, .35])"
   ]
  },
  {
   "cell_type": "markdown",
   "id": "5b1d1105",
   "metadata": {},
   "source": [
    "### percentages of distinct fish\n",
    "* about 60% of historical fish groupings can be uniquely identified by length, weight, and id\n",
    "* about 30% of specimen fish groupings can be uniquely identified by length, weight, and id\n",
    "* sex_id differentiates at least one indistinct example, so just add it\n",
    "* maybe exact matches don't matter - same attributes, same sample, maybe just matching in order would work"
   ]
  },
  {
   "cell_type": "markdown",
   "id": "47f2dbfe",
   "metadata": {},
   "source": [
    "##### how many matches are distinct?"
   ]
  },
  {
   "cell_type": "code",
   "execution_count": null,
   "id": "a81c2a0c",
   "metadata": {},
   "outputs": [],
   "source": [
    "df_spec[df_spec.matching_id.isin(matches)].distinct.value_counts()"
   ]
  },
  {
   "cell_type": "code",
   "execution_count": null,
   "id": "0dbfea35",
   "metadata": {},
   "outputs": [],
   "source": [
    "df_hist[df_hist.matching_id.isin(matches)].distinct.value_counts()"
   ]
  },
  {
   "cell_type": "code",
   "execution_count": null,
   "id": "cfda2e9b",
   "metadata": {},
   "outputs": [],
   "source": [
    "# indistinct matches - from specimen\n",
    "df_spec[df_spec.matching_id.isin(matches)].shape[0], df_spec.shape[0]"
   ]
  },
  {
   "cell_type": "code",
   "execution_count": null,
   "id": "d574310c",
   "metadata": {},
   "outputs": [],
   "source": [
    "# indistinct matches - from historical\n",
    "df_hist[df_hist.matching_id.isin(matches)].shape[0], df_hist.shape[0]"
   ]
  },
  {
   "cell_type": "code",
   "execution_count": null,
   "id": "0ab8c79a",
   "metadata": {},
   "outputs": [],
   "source": [
    "# missing from\n",
    "len([x for x in spec_ids if x not in hist_ids]), len([x for x in hist_ids if x not in spec_ids])\n",
    "# hist, spec"
   ]
  },
  {
   "cell_type": "code",
   "execution_count": null,
   "id": "fc94eeb4",
   "metadata": {},
   "outputs": [],
   "source": [
    "# matched\n",
    "len([x for x in spec_ids if x in hist_ids]), len([x for x in hist_ids if x in spec_ids])"
   ]
  },
  {
   "cell_type": "code",
   "execution_count": null,
   "id": "c74992a3",
   "metadata": {},
   "outputs": [],
   "source": [
    "# total number of matching ids\n",
    "len(hist_ids), len(spec_ids)"
   ]
  },
  {
   "cell_type": "code",
   "execution_count": null,
   "id": "cfdcb6d9",
   "metadata": {},
   "outputs": [],
   "source": [
    "# distinct exact matches\n",
    "distinct_matched_hist = list(df_hist[(df_hist.matching_id.isin(matches)) & df_hist.distinct==True].matching_id)\n",
    "df_spec[(df_spec.matching_id.isin(distinct_matched_hist)) & (df_spec.distinct==True)].shape[0]"
   ]
  },
  {
   "cell_type": "markdown",
   "id": "bbe9a516",
   "metadata": {},
   "source": [
    "# let's build a throwaway html to list all of the potential matches\n",
    "\n",
    "    -- list of sample id with historical and specimen data\n",
    "    SELECT trapnet_sample.id\n",
    "        FROM trapnet_sample\n",
    "            JOIN trapnet_biologicaldetailing ON trapnet_biologicaldetailing.sample_id = trapnet_sample.id\n",
    "            JOIN trapnet_specimen ON trapnet_specimen.sample_id = trapnet_sample.id\n",
    "    GROUP BY trapnet_sample.id"
   ]
  },
  {
   "cell_type": "code",
   "execution_count": null,
   "id": "307b3e95",
   "metadata": {},
   "outputs": [],
   "source": [
    "# df_matching_id = pd.read_csv(r'.\\csv\\SQL_matching_id.csv')\n",
    "# link_template = '<a href=\"http://127.0.0.1:8000/en/trapnet/samples/{}/view/\">{}</a>'\n",
    "\n",
    "# with open('all_matches.html', 'w') as f:\n",
    "#     for i, row in df_matching_id.iterrows():\n",
    "#         pk = row['id']\n",
    "#         f.write(link_template.format(pk, pk) + '\\n')"
   ]
  }
 ],
 "metadata": {
  "kernelspec": {
   "display_name": "Python 3 (ipykernel)",
   "language": "python",
   "name": "python3"
  },
  "language_info": {
   "codemirror_mode": {
    "name": "ipython",
    "version": 3
   },
   "file_extension": ".py",
   "mimetype": "text/x-python",
   "name": "python",
   "nbconvert_exporter": "python",
   "pygments_lexer": "ipython3",
   "version": "3.9.13"
  }
 },
 "nbformat": 4,
 "nbformat_minor": 5
}
