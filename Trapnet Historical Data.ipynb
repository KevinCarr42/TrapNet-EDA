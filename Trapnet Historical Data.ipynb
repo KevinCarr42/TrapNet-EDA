{
 "cells": [
  {
   "cell_type": "code",
   "execution_count": 106,
   "id": "37863eff",
   "metadata": {},
   "outputs": [
    {
     "data": {
      "text/html": [
       "<style>.container { width:100% !important; }</style>"
      ],
      "text/plain": [
       "<IPython.core.display.HTML object>"
      ]
     },
     "metadata": {},
     "output_type": "display_data"
    },
    {
     "data": {
      "text/html": [
       "<style>.dataframe td { white-space: nowrap; }</style>"
      ],
      "text/plain": [
       "<IPython.core.display.HTML object>"
      ]
     },
     "metadata": {},
     "output_type": "display_data"
    }
   ],
   "source": [
    "import numpy as np\n",
    "import pandas as pd\n",
    "import matplotlib.pyplot as plt\n",
    "import matplotlib as mpl\n",
    "import seaborn as sns\n",
    "\n",
    "sns.set_theme()\n",
    "\n",
    "# jupyter notebook full-width display\n",
    "from IPython.core.display import display, HTML\n",
    "display(HTML(\"<style>.container { width:100% !important; }</style>\"))\n",
    "\n",
    "# no text wrapping\n",
    "display(HTML(\"<style>.dataframe td { white-space: nowrap; }</style>\"))\n",
    "\n",
    "# pandas formatting\n",
    "pd.set_option('display.float_format', '{:.3f}'.format)\n",
    "pd.set_option('display.max_columns', None)\n",
    "pd.set_option('display.max_rows', 300)\n",
    "pd.set_option('display.max_colwidth', 200)"
   ]
  },
  {
   "cell_type": "code",
   "execution_count": 41,
   "id": "ee6c499f",
   "metadata": {},
   "outputs": [],
   "source": [
    "df_hist = pd.read_csv(r'.\\csv\\trapnet_biologicaldetailing_202302231329.csv', low_memory=False)\n",
    "df_spec = pd.read_csv(r'.\\csv\\trapnet_specimen_202302231329.csv', low_memory=False)\n",
    "\n",
    "# historical data without trivial fields (fields with only one entry)\n",
    "unmatchable_hist = ['created_at', 'updated_at']\n",
    "df_hist = df_hist.drop(unmatchable_hist, axis=1).loc[:, df_hist.nunique() > 1]\n",
    "hist_sample_id_list = sorted(list(df_hist.sample_id.unique()))\n",
    "\n",
    "# all species in historical data are 79 (atlantic salmon)\n",
    "unmatchable_spec = ['created_at', 'updated_at', 'created_by_id', 'updated_by_id']\n",
    "df_spec = df_spec[(df_spec.species_id==79) & (df_spec.sample_id.isin(hist_sample_id_list))].reset_index(drop=True)\n",
    "df_spec = df_spec.drop(unmatchable_spec, axis=1).loc[:, df_spec.nunique() > 1]"
   ]
  },
  {
   "cell_type": "markdown",
   "id": "ca39bfc6",
   "metadata": {},
   "source": [
    "# samples with potential matches"
   ]
  },
  {
   "cell_type": "code",
   "execution_count": 46,
   "id": "fb521c9d",
   "metadata": {},
   "outputs": [
    {
     "data": {
      "text/plain": [
       "(793, 775)"
      ]
     },
     "execution_count": 46,
     "metadata": {},
     "output_type": "execute_result"
    }
   ],
   "source": [
    "len(hist_sample_id), len(df_spec.sample_id.unique())"
   ]
  },
  {
   "cell_type": "markdown",
   "id": "d1f51e78",
   "metadata": {},
   "source": [
    "# old_id will not work"
   ]
  },
  {
   "cell_type": "code",
   "execution_count": 53,
   "id": "97cd976b",
   "metadata": {},
   "outputs": [
    {
     "data": {
      "text/html": [
       "<div>\n",
       "<style scoped>\n",
       "    .dataframe tbody tr th:only-of-type {\n",
       "        vertical-align: middle;\n",
       "    }\n",
       "\n",
       "    .dataframe tbody tr th {\n",
       "        vertical-align: top;\n",
       "    }\n",
       "\n",
       "    .dataframe thead th {\n",
       "        text-align: right;\n",
       "    }\n",
       "</style>\n",
       "<table border=\"1\" class=\"dataframe\">\n",
       "  <thead>\n",
       "    <tr style=\"text-align: right;\">\n",
       "      <th></th>\n",
       "      <th>id_x</th>\n",
       "      <th>fork_length_x</th>\n",
       "      <th>total_length</th>\n",
       "      <th>weight_x</th>\n",
       "      <th>age_type_x</th>\n",
       "      <th>river_age_x</th>\n",
       "      <th>notes_x</th>\n",
       "      <th>old_id</th>\n",
       "      <th>life_stage_id_x</th>\n",
       "      <th>sample_id_x</th>\n",
       "      <th>sex_id_x</th>\n",
       "      <th>status_id_x</th>\n",
       "      <th>id_y</th>\n",
       "      <th>fork_length_y</th>\n",
       "      <th>weight_y</th>\n",
       "      <th>river_age_y</th>\n",
       "      <th>notes_y</th>\n",
       "      <th>sample_id_y</th>\n",
       "      <th>sex_id_y</th>\n",
       "      <th>status_id_y</th>\n",
       "      <th>age_type_y</th>\n",
       "      <th>sweep_id</th>\n",
       "      <th>life_stage_id_y</th>\n",
       "      <th>smart_river_age</th>\n",
       "      <th>smart_river_age_type</th>\n",
       "    </tr>\n",
       "  </thead>\n",
       "  <tbody>\n",
       "  </tbody>\n",
       "</table>\n",
       "</div>"
      ],
      "text/plain": [
       "Empty DataFrame\n",
       "Columns: [id_x, fork_length_x, total_length, weight_x, age_type_x, river_age_x, notes_x, old_id, life_stage_id_x, sample_id_x, sex_id_x, status_id_x, id_y, fork_length_y, weight_y, river_age_y, notes_y, sample_id_y, sex_id_y, status_id_y, age_type_y, sweep_id, life_stage_id_y, smart_river_age, smart_river_age_type]\n",
       "Index: []"
      ]
     },
     "execution_count": 53,
     "metadata": {},
     "output_type": "execute_result"
    }
   ],
   "source": [
    "# old_id never matches\n",
    "pd.merge(df_hist, df_spec, on='old_id')"
   ]
  },
  {
   "cell_type": "code",
   "execution_count": 124,
   "id": "c52a44bb",
   "metadata": {},
   "outputs": [],
   "source": [
    "df_hist = df_hist.drop('old_id', axis=1)\n",
    "df_spec = df_spec.drop('old_id', axis=1)"
   ]
  },
  {
   "cell_type": "code",
   "execution_count": 125,
   "id": "bdc59f9a",
   "metadata": {
    "scrolled": true
   },
   "outputs": [
    {
     "data": {
      "text/html": [
       "<div>\n",
       "<style scoped>\n",
       "    .dataframe tbody tr th:only-of-type {\n",
       "        vertical-align: middle;\n",
       "    }\n",
       "\n",
       "    .dataframe tbody tr th {\n",
       "        vertical-align: top;\n",
       "    }\n",
       "\n",
       "    .dataframe thead th {\n",
       "        text-align: right;\n",
       "    }\n",
       "</style>\n",
       "<table border=\"1\" class=\"dataframe\">\n",
       "  <thead>\n",
       "    <tr style=\"text-align: right;\">\n",
       "      <th></th>\n",
       "      <th>id</th>\n",
       "      <th>fork_length</th>\n",
       "      <th>total_length</th>\n",
       "      <th>weight</th>\n",
       "      <th>age_type</th>\n",
       "      <th>river_age</th>\n",
       "      <th>notes</th>\n",
       "      <th>life_stage_id</th>\n",
       "      <th>sample_id</th>\n",
       "      <th>sex_id</th>\n",
       "      <th>status_id</th>\n",
       "    </tr>\n",
       "  </thead>\n",
       "  <tbody>\n",
       "    <tr>\n",
       "      <th>0</th>\n",
       "      <td>69352</td>\n",
       "      <td>34.000</td>\n",
       "      <td>NaN</td>\n",
       "      <td>0.500</td>\n",
       "      <td>1.000</td>\n",
       "      <td>0.000</td>\n",
       "      <td>None</td>\n",
       "      <td>11</td>\n",
       "      <td>4390</td>\n",
       "      <td>1.000</td>\n",
       "      <td>4</td>\n",
       "    </tr>\n",
       "    <tr>\n",
       "      <th>1</th>\n",
       "      <td>69353</td>\n",
       "      <td>34.000</td>\n",
       "      <td>NaN</td>\n",
       "      <td>0.600</td>\n",
       "      <td>1.000</td>\n",
       "      <td>0.000</td>\n",
       "      <td>None</td>\n",
       "      <td>11</td>\n",
       "      <td>4390</td>\n",
       "      <td>2.000</td>\n",
       "      <td>4</td>\n",
       "    </tr>\n",
       "    <tr>\n",
       "      <th>2</th>\n",
       "      <td>69354</td>\n",
       "      <td>36.000</td>\n",
       "      <td>NaN</td>\n",
       "      <td>0.500</td>\n",
       "      <td>1.000</td>\n",
       "      <td>0.000</td>\n",
       "      <td>None</td>\n",
       "      <td>11</td>\n",
       "      <td>4390</td>\n",
       "      <td>1.000</td>\n",
       "      <td>4</td>\n",
       "    </tr>\n",
       "    <tr>\n",
       "      <th>3</th>\n",
       "      <td>69355</td>\n",
       "      <td>36.000</td>\n",
       "      <td>NaN</td>\n",
       "      <td>0.600</td>\n",
       "      <td>1.000</td>\n",
       "      <td>0.000</td>\n",
       "      <td>None</td>\n",
       "      <td>11</td>\n",
       "      <td>4390</td>\n",
       "      <td>1.000</td>\n",
       "      <td>4</td>\n",
       "    </tr>\n",
       "    <tr>\n",
       "      <th>4</th>\n",
       "      <td>69356</td>\n",
       "      <td>36.000</td>\n",
       "      <td>NaN</td>\n",
       "      <td>1.300</td>\n",
       "      <td>1.000</td>\n",
       "      <td>0.000</td>\n",
       "      <td>None</td>\n",
       "      <td>11</td>\n",
       "      <td>4390</td>\n",
       "      <td>1.000</td>\n",
       "      <td>4</td>\n",
       "    </tr>\n",
       "  </tbody>\n",
       "</table>\n",
       "</div>"
      ],
      "text/plain": [
       "      id  fork_length  total_length  weight  age_type  river_age notes  \\\n",
       "0  69352       34.000           NaN   0.500     1.000      0.000  None   \n",
       "1  69353       34.000           NaN   0.600     1.000      0.000  None   \n",
       "2  69354       36.000           NaN   0.500     1.000      0.000  None   \n",
       "3  69355       36.000           NaN   0.600     1.000      0.000  None   \n",
       "4  69356       36.000           NaN   1.300     1.000      0.000  None   \n",
       "\n",
       "   life_stage_id  sample_id  sex_id  status_id  \n",
       "0             11       4390   1.000          4  \n",
       "1             11       4390   2.000          4  \n",
       "2             11       4390   1.000          4  \n",
       "3             11       4390   1.000          4  \n",
       "4             11       4390   1.000          4  "
      ]
     },
     "execution_count": 125,
     "metadata": {},
     "output_type": "execute_result"
    }
   ],
   "source": [
    "df_hist.head()"
   ]
  },
  {
   "cell_type": "code",
   "execution_count": 126,
   "id": "278a0dc0",
   "metadata": {
    "scrolled": true
   },
   "outputs": [
    {
     "data": {
      "text/html": [
       "<div>\n",
       "<style scoped>\n",
       "    .dataframe tbody tr th:only-of-type {\n",
       "        vertical-align: middle;\n",
       "    }\n",
       "\n",
       "    .dataframe tbody tr th {\n",
       "        vertical-align: top;\n",
       "    }\n",
       "\n",
       "    .dataframe thead th {\n",
       "        text-align: right;\n",
       "    }\n",
       "</style>\n",
       "<table border=\"1\" class=\"dataframe\">\n",
       "  <thead>\n",
       "    <tr style=\"text-align: right;\">\n",
       "      <th></th>\n",
       "      <th>id</th>\n",
       "      <th>fork_length</th>\n",
       "      <th>weight</th>\n",
       "      <th>river_age</th>\n",
       "      <th>notes</th>\n",
       "      <th>sample_id</th>\n",
       "      <th>sex_id</th>\n",
       "      <th>status_id</th>\n",
       "      <th>age_type</th>\n",
       "      <th>sweep_id</th>\n",
       "      <th>life_stage_id</th>\n",
       "      <th>smart_river_age</th>\n",
       "      <th>smart_river_age_type</th>\n",
       "    </tr>\n",
       "  </thead>\n",
       "  <tbody>\n",
       "    <tr>\n",
       "      <th>0</th>\n",
       "      <td>1708668</td>\n",
       "      <td>38.000</td>\n",
       "      <td>NaN</td>\n",
       "      <td>0.000</td>\n",
       "      <td>None</td>\n",
       "      <td>4467</td>\n",
       "      <td>NaN</td>\n",
       "      <td>10.000</td>\n",
       "      <td>2.000</td>\n",
       "      <td>595.000</td>\n",
       "      <td>11.000</td>\n",
       "      <td>0.000</td>\n",
       "      <td>2.000</td>\n",
       "    </tr>\n",
       "    <tr>\n",
       "      <th>1</th>\n",
       "      <td>1708669</td>\n",
       "      <td>73.000</td>\n",
       "      <td>NaN</td>\n",
       "      <td>1.000</td>\n",
       "      <td>None</td>\n",
       "      <td>4467</td>\n",
       "      <td>NaN</td>\n",
       "      <td>10.000</td>\n",
       "      <td>2.000</td>\n",
       "      <td>595.000</td>\n",
       "      <td>1.000</td>\n",
       "      <td>1.000</td>\n",
       "      <td>2.000</td>\n",
       "    </tr>\n",
       "    <tr>\n",
       "      <th>2</th>\n",
       "      <td>1708670</td>\n",
       "      <td>83.000</td>\n",
       "      <td>NaN</td>\n",
       "      <td>1.000</td>\n",
       "      <td>None</td>\n",
       "      <td>4467</td>\n",
       "      <td>NaN</td>\n",
       "      <td>10.000</td>\n",
       "      <td>2.000</td>\n",
       "      <td>595.000</td>\n",
       "      <td>1.000</td>\n",
       "      <td>1.000</td>\n",
       "      <td>2.000</td>\n",
       "    </tr>\n",
       "    <tr>\n",
       "      <th>3</th>\n",
       "      <td>1708671</td>\n",
       "      <td>83.000</td>\n",
       "      <td>NaN</td>\n",
       "      <td>1.000</td>\n",
       "      <td>None</td>\n",
       "      <td>4467</td>\n",
       "      <td>NaN</td>\n",
       "      <td>10.000</td>\n",
       "      <td>2.000</td>\n",
       "      <td>595.000</td>\n",
       "      <td>1.000</td>\n",
       "      <td>1.000</td>\n",
       "      <td>2.000</td>\n",
       "    </tr>\n",
       "    <tr>\n",
       "      <th>4</th>\n",
       "      <td>1708672</td>\n",
       "      <td>88.000</td>\n",
       "      <td>NaN</td>\n",
       "      <td>1.000</td>\n",
       "      <td>None</td>\n",
       "      <td>4467</td>\n",
       "      <td>NaN</td>\n",
       "      <td>10.000</td>\n",
       "      <td>2.000</td>\n",
       "      <td>595.000</td>\n",
       "      <td>1.000</td>\n",
       "      <td>1.000</td>\n",
       "      <td>2.000</td>\n",
       "    </tr>\n",
       "  </tbody>\n",
       "</table>\n",
       "</div>"
      ],
      "text/plain": [
       "        id  fork_length  weight  river_age notes  sample_id  sex_id  \\\n",
       "0  1708668       38.000     NaN      0.000  None       4467     NaN   \n",
       "1  1708669       73.000     NaN      1.000  None       4467     NaN   \n",
       "2  1708670       83.000     NaN      1.000  None       4467     NaN   \n",
       "3  1708671       83.000     NaN      1.000  None       4467     NaN   \n",
       "4  1708672       88.000     NaN      1.000  None       4467     NaN   \n",
       "\n",
       "   status_id  age_type  sweep_id  life_stage_id  smart_river_age  \\\n",
       "0     10.000     2.000   595.000         11.000            0.000   \n",
       "1     10.000     2.000   595.000          1.000            1.000   \n",
       "2     10.000     2.000   595.000          1.000            1.000   \n",
       "3     10.000     2.000   595.000          1.000            1.000   \n",
       "4     10.000     2.000   595.000          1.000            1.000   \n",
       "\n",
       "   smart_river_age_type  \n",
       "0                 2.000  \n",
       "1                 2.000  \n",
       "2                 2.000  \n",
       "3                 2.000  \n",
       "4                 2.000  "
      ]
     },
     "execution_count": 126,
     "metadata": {},
     "output_type": "execute_result"
    }
   ],
   "source": [
    "df_spec.head()"
   ]
  },
  {
   "cell_type": "markdown",
   "id": "9d0835e3",
   "metadata": {},
   "source": [
    "# how to identify distinct fish for matching"
   ]
  },
  {
   "cell_type": "code",
   "execution_count": 176,
   "id": "9316a979",
   "metadata": {},
   "outputs": [
    {
     "data": {
      "text/plain": [
       "count   14660.000\n",
       "mean        1.877\n",
       "std         2.399\n",
       "min         1.000\n",
       "50%         1.000\n",
       "65%         1.000\n",
       "70%         2.000\n",
       "90%         4.000\n",
       "max        50.000\n",
       "Name: id, dtype: float64"
      ]
     },
     "execution_count": 176,
     "metadata": {},
     "output_type": "execute_result"
    }
   ],
   "source": [
    "# distinct matches for 60% of hist fish\n",
    "df_hist.groupby(['sample_id', 'fork_length', 'weight', 'sex_id', 'life_stage_id', 'river_age', 'status_id'], dropna=False).count().id.describe(percentiles=[.65, .70, .90])"
   ]
  },
  {
   "cell_type": "code",
   "execution_count": 177,
   "id": "92923ed9",
   "metadata": {},
   "outputs": [
    {
     "data": {
      "text/plain": [
       "count   14522.000\n",
       "mean        1.895\n",
       "std         2.413\n",
       "min         1.000\n",
       "50%         1.000\n",
       "65%         1.000\n",
       "70%         2.000\n",
       "90%         4.000\n",
       "max        50.000\n",
       "Name: id, dtype: float64"
      ]
     },
     "execution_count": 177,
     "metadata": {},
     "output_type": "execute_result"
    }
   ],
   "source": [
    "df_hist.groupby(['sample_id', 'fork_length', 'weight', 'sex_id'], dropna=False).count().id.describe(percentiles=[.65, .70, .90])"
   ]
  },
  {
   "cell_type": "code",
   "execution_count": 178,
   "id": "dbac1e87",
   "metadata": {},
   "outputs": [
    {
     "data": {
      "text/plain": [
       "count   14433.000\n",
       "mean        1.907\n",
       "std         2.419\n",
       "min         1.000\n",
       "50%         1.000\n",
       "65%         1.000\n",
       "70%         2.000\n",
       "90%         4.000\n",
       "max        50.000\n",
       "Name: id, dtype: float64"
      ]
     },
     "execution_count": 178,
     "metadata": {},
     "output_type": "execute_result"
    }
   ],
   "source": [
    "df_hist.groupby(['sample_id', 'fork_length', 'weight'], dropna=False).count().id.describe(percentiles=[.65, .70, .90])"
   ]
  },
  {
   "cell_type": "code",
   "execution_count": 183,
   "id": "a312cbd5",
   "metadata": {},
   "outputs": [
    {
     "data": {
      "text/plain": [
       "count   8770.000\n",
       "mean       8.514\n",
       "std       19.040\n",
       "min        1.000\n",
       "30%        1.000\n",
       "35%        2.000\n",
       "50%        3.000\n",
       "max      425.000\n",
       "Name: id, dtype: float64"
      ]
     },
     "execution_count": 183,
     "metadata": {},
     "output_type": "execute_result"
    }
   ],
   "source": [
    "groupby = ['sample_id', 'fork_length', 'weight', 'sex_id', 'life_stage_id', 'river_age', 'status_id']\n",
    "df_spec.groupby(groupby, dropna=False).count().id.describe(percentiles=[.30, .35])"
   ]
  },
  {
   "cell_type": "code",
   "execution_count": 185,
   "id": "08962f10",
   "metadata": {},
   "outputs": [
    {
     "data": {
      "text/plain": [
       "count   8768.000\n",
       "mean       8.516\n",
       "std       19.042\n",
       "min        1.000\n",
       "30%        1.000\n",
       "35%        2.000\n",
       "50%        3.000\n",
       "max      425.000\n",
       "Name: id, dtype: float64"
      ]
     },
     "execution_count": 185,
     "metadata": {},
     "output_type": "execute_result"
    }
   ],
   "source": [
    "groupby = ['sample_id', 'fork_length', 'weight', 'sex_id']\n",
    "df_spec.groupby(groupby, dropna=False).count().id.describe(percentiles=[.30, .35])"
   ]
  },
  {
   "cell_type": "code",
   "execution_count": 187,
   "id": "d169c2f3",
   "metadata": {},
   "outputs": [
    {
     "data": {
      "text/plain": [
       "count   8767.000\n",
       "mean       8.517\n",
       "std       19.043\n",
       "min        1.000\n",
       "30%        1.000\n",
       "35%        2.000\n",
       "40%        2.000\n",
       "50%        3.000\n",
       "max      425.000\n",
       "Name: id, dtype: float64"
      ]
     },
     "execution_count": 187,
     "metadata": {},
     "output_type": "execute_result"
    }
   ],
   "source": [
    "groupby = ['sample_id', 'fork_length', 'weight']\n",
    "df_spec.groupby(groupby, dropna=False).count().id.describe(percentiles=[.30, .35])"
   ]
  },
  {
   "cell_type": "markdown",
   "id": "522be931",
   "metadata": {},
   "source": [
    "### percentages of distinct fish\n",
    "* about 60% of historical fish can be uniquely identified by length, weight, and id\n",
    "* about 30% of specimen fish can be uniquely identified by length, weight, and id\n",
    "* no notable improvements in number of distinctly identified fish when adding 'sex_id', 'life_stage_id', 'river_age', 'status_id'\n",
    "* maybe exact matches don't matter - same attributes, same sample, maybe just matching in order would work"
   ]
  },
  {
   "cell_type": "code",
   "execution_count": null,
   "id": "5768ed2b",
   "metadata": {},
   "outputs": [],
   "source": []
  }
 ],
 "metadata": {
  "kernelspec": {
   "display_name": "Python 3 (ipykernel)",
   "language": "python",
   "name": "python3"
  },
  "language_info": {
   "codemirror_mode": {
    "name": "ipython",
    "version": 3
   },
   "file_extension": ".py",
   "mimetype": "text/x-python",
   "name": "python",
   "nbconvert_exporter": "python",
   "pygments_lexer": "ipython3",
   "version": "3.9.13"
  }
 },
 "nbformat": 4,
 "nbformat_minor": 5
}
