{
 "cells": [
  {
   "cell_type": "code",
   "execution_count": 1,
   "id": "1ffe74b9",
   "metadata": {},
   "outputs": [
    {
     "data": {
      "text/html": [
       "<style>.container { width:100% !important; }</style>"
      ],
      "text/plain": [
       "<IPython.core.display.HTML object>"
      ]
     },
     "metadata": {},
     "output_type": "display_data"
    },
    {
     "data": {
      "text/html": [
       "<style>.dataframe td { white-space: nowrap; }</style>"
      ],
      "text/plain": [
       "<IPython.core.display.HTML object>"
      ]
     },
     "metadata": {},
     "output_type": "display_data"
    }
   ],
   "source": [
    "import numpy as np\n",
    "import pandas as pd\n",
    "import matplotlib.pyplot as plt\n",
    "import matplotlib as mpl\n",
    "import seaborn as sns\n",
    "\n",
    "sns.set_theme()\n",
    "\n",
    "# jupyter notebook full-width display\n",
    "from IPython.core.display import display, HTML\n",
    "display(HTML(\"<style>.container { width:100% !important; }</style>\"))\n",
    "\n",
    "# no text wrapping\n",
    "display(HTML(\"<style>.dataframe td { white-space: nowrap; }</style>\"))\n",
    "\n",
    "# pandas formatting\n",
    "pd.set_option('display.float_format', '{:.3f}'.format)\n",
    "pd.set_option('display.max_columns', None)\n",
    "pd.set_option('display.max_rows', 300)\n",
    "pd.set_option('display.max_colwidth', 200)"
   ]
  },
  {
   "cell_type": "code",
   "execution_count": 2,
   "id": "95a2f2ee",
   "metadata": {},
   "outputs": [],
   "source": [
    "df_hist = pd.read_csv(r'.\\csv\\trapnet_biologicaldetailing_202302231329.csv', low_memory=False)\n",
    "df_spec = pd.read_csv(r'.\\csv\\trapnet_specimen_202302231329.csv', low_memory=False)\n",
    "\n",
    "# historical data without trivial fields (fields with only one entry)\n",
    "unmatchable_hist = ['created_at', 'updated_at']\n",
    "df_hist = df_hist.drop(unmatchable_hist, axis=1).loc[:, df_hist.nunique() > 1]\n",
    "hist_sample_id_list = sorted(list(df_hist.sample_id.unique()))\n",
    "\n",
    "# all species in historical data are 79 (atlantic salmon)\n",
    "unmatchable_spec = ['created_at', 'updated_at', 'created_by_id', 'updated_by_id']\n",
    "df_spec = df_spec[(df_spec.species_id==79) & (df_spec.sample_id.isin(hist_sample_id_list))].reset_index(drop=True)\n",
    "df_spec = df_spec.drop(unmatchable_spec, axis=1).loc[:, df_spec.nunique() > 1]"
   ]
  },
  {
   "cell_type": "code",
   "execution_count": 3,
   "id": "c3156359",
   "metadata": {},
   "outputs": [],
   "source": [
    "# cast to int where appropriate\n",
    "df_hist[['fork_length', 'sex_id']] = df_hist[['fork_length', 'sex_id']].astype('Int64')\n",
    "df_spec[['fork_length', 'sex_id']] = df_spec[['fork_length', 'sex_id']].astype('Int64')"
   ]
  },
  {
   "cell_type": "code",
   "execution_count": 4,
   "id": "61341ae2",
   "metadata": {},
   "outputs": [],
   "source": [
    "# archived fish data\n",
    "df_archive = pd.read_csv(r'.\\csv\\fish_data.csv', low_memory=False)\n",
    "df_archive['DATETIME'] = pd.to_datetime(df_archive['SITE_EVENT_DATE'].str.split(' ', expand=True)[0], format='%d/%m/%Y')\n",
    "df_archive['old_id'] = 'GD_' + df_archive['GD_ID'].astype(str)\n",
    "df_archive = df_archive[['old_id', 'DATETIME'] + [x for x in df_archive.columns if x not in ['SITE_EVENT_DATE', 'DATETIME', 'old_id']]]"
   ]
  },
  {
   "cell_type": "markdown",
   "id": "260ba3e0",
   "metadata": {},
   "source": [
    "# differences between archive and biologicaldetailing\n",
    "#### conclusions: old_id <-> GD_ID correctly and adequately match samples between the database and the archive"
   ]
  },
  {
   "cell_type": "code",
   "execution_count": 8,
   "id": "7628383e",
   "metadata": {},
   "outputs": [],
   "source": [
    "df_merged = pd.merge(df_hist, df_archive, on='old_id')\n",
    "first_columns = ['sample_id', 'old_id', 'DATETIME']\n",
    "df_merged = df_merged[first_columns + [x for x in sorted(list(df_merged.columns), key=str.lower) if x not in first_columns]]"
   ]
  },
  {
   "cell_type": "code",
   "execution_count": 51,
   "id": "83154a56",
   "metadata": {},
   "outputs": [
    {
     "data": {
      "text/plain": [
       "((27524, 43), (27524, 23))"
      ]
     },
     "execution_count": 51,
     "metadata": {},
     "output_type": "execute_result"
    }
   ],
   "source": [
    "# need to join with sample to get dates for comparison\n",
    "# SAME NUMBER OF ROWS!!!\n",
    "df_merged.shape, pd.read_csv(r'.\\csv\\trapnet_biologicaldetailing_202302231329.csv', low_memory=False).shape"
   ]
  },
  {
   "cell_type": "code",
   "execution_count": 28,
   "id": "45fb0428",
   "metadata": {},
   "outputs": [
    {
     "data": {
      "text/plain": [
       "1    27351\n",
       "3      173\n",
       "Name: SURVEY_TYPE, dtype: int64"
      ]
     },
     "execution_count": 28,
     "metadata": {},
     "output_type": "execute_result"
    }
   ],
   "source": [
    "df_merged.SURVEY_TYPE.value_counts()"
   ]
  },
  {
   "cell_type": "code",
   "execution_count": 29,
   "id": "524f8872",
   "metadata": {},
   "outputs": [
    {
     "data": {
      "text/plain": [
       "161996    27524\n",
       "Name: SPECIES_ITIS_CODE, dtype: int64"
      ]
     },
     "execution_count": 29,
     "metadata": {},
     "output_type": "execute_result"
    }
   ],
   "source": [
    "# all atlantic salmon\n",
    "df_merged.SPECIES_ITIS_CODE.value_counts()"
   ]
  },
  {
   "cell_type": "code",
   "execution_count": 49,
   "id": "1c6be40b",
   "metadata": {},
   "outputs": [
    {
     "data": {
      "text/plain": [
       "161996    256154\n",
       "Name: SPECIES_ITIS_CODE, dtype: int64"
      ]
     },
     "execution_count": 49,
     "metadata": {},
     "output_type": "execute_result"
    }
   ],
   "source": [
    "# about 10x more salmon in the archive file\n",
    "df_archive[df_archive.SPECIES_ITIS_CODE=='161996'].SPECIES_ITIS_CODE.value_counts()"
   ]
  },
  {
   "cell_type": "code",
   "execution_count": 90,
   "id": "203dd2e7",
   "metadata": {},
   "outputs": [],
   "source": [
    "comparisons = {\n",
    "    'age_type': 'AGE_TYPE',\n",
    "    'fork_length': 'FORK_LENGTH',\n",
    "    'life_stage_id': 'MATURITY', \n",
    "    'sex_id': 'SEX',\n",
    "    'total_length': 'TOTAL_LENGTH',\n",
    "    'weight': 'WEIGHT',\n",
    "    'river_age': 'RIVER_AGE'\n",
    "}"
   ]
  },
  {
   "cell_type": "code",
   "execution_count": 91,
   "id": "4321d809",
   "metadata": {},
   "outputs": [
    {
     "data": {
      "text/html": [
       "<div>\n",
       "<style scoped>\n",
       "    .dataframe tbody tr th:only-of-type {\n",
       "        vertical-align: middle;\n",
       "    }\n",
       "\n",
       "    .dataframe tbody tr th {\n",
       "        vertical-align: top;\n",
       "    }\n",
       "\n",
       "    .dataframe thead th {\n",
       "        text-align: right;\n",
       "    }\n",
       "</style>\n",
       "<table border=\"1\" class=\"dataframe\">\n",
       "  <thead>\n",
       "    <tr style=\"text-align: right;\">\n",
       "      <th></th>\n",
       "      <th>sample_id</th>\n",
       "      <th>old_id</th>\n",
       "      <th>DATETIME</th>\n",
       "      <th>river_age</th>\n",
       "      <th>RIVER_AGE</th>\n",
       "    </tr>\n",
       "  </thead>\n",
       "  <tbody>\n",
       "    <tr>\n",
       "      <th>0</th>\n",
       "      <td>4390</td>\n",
       "      <td>GD_1</td>\n",
       "      <td>1968-08-09</td>\n",
       "      <td>0.000</td>\n",
       "      <td>0.000</td>\n",
       "    </tr>\n",
       "    <tr>\n",
       "      <th>1</th>\n",
       "      <td>4390</td>\n",
       "      <td>GD_2</td>\n",
       "      <td>1968-08-09</td>\n",
       "      <td>0.000</td>\n",
       "      <td>0.000</td>\n",
       "    </tr>\n",
       "    <tr>\n",
       "      <th>2</th>\n",
       "      <td>4390</td>\n",
       "      <td>GD_3</td>\n",
       "      <td>1968-08-09</td>\n",
       "      <td>0.000</td>\n",
       "      <td>0.000</td>\n",
       "    </tr>\n",
       "    <tr>\n",
       "      <th>3</th>\n",
       "      <td>4390</td>\n",
       "      <td>GD_4</td>\n",
       "      <td>1968-08-09</td>\n",
       "      <td>0.000</td>\n",
       "      <td>0.000</td>\n",
       "    </tr>\n",
       "    <tr>\n",
       "      <th>4</th>\n",
       "      <td>4390</td>\n",
       "      <td>GD_5</td>\n",
       "      <td>1968-08-09</td>\n",
       "      <td>0.000</td>\n",
       "      <td>0.000</td>\n",
       "    </tr>\n",
       "    <tr>\n",
       "      <th>...</th>\n",
       "      <td>...</td>\n",
       "      <td>...</td>\n",
       "      <td>...</td>\n",
       "      <td>...</td>\n",
       "      <td>...</td>\n",
       "    </tr>\n",
       "    <tr>\n",
       "      <th>27519</th>\n",
       "      <td>8001</td>\n",
       "      <td>GD_207005</td>\n",
       "      <td>2000-07-12</td>\n",
       "      <td>0.000</td>\n",
       "      <td>0.000</td>\n",
       "    </tr>\n",
       "    <tr>\n",
       "      <th>27520</th>\n",
       "      <td>8001</td>\n",
       "      <td>GD_207006</td>\n",
       "      <td>2000-07-12</td>\n",
       "      <td>0.000</td>\n",
       "      <td>0.000</td>\n",
       "    </tr>\n",
       "    <tr>\n",
       "      <th>27521</th>\n",
       "      <td>8001</td>\n",
       "      <td>GD_207011</td>\n",
       "      <td>2000-07-12</td>\n",
       "      <td>1.000</td>\n",
       "      <td>1.000</td>\n",
       "    </tr>\n",
       "    <tr>\n",
       "      <th>27522</th>\n",
       "      <td>8001</td>\n",
       "      <td>GD_207012</td>\n",
       "      <td>2000-07-12</td>\n",
       "      <td>1.000</td>\n",
       "      <td>1.000</td>\n",
       "    </tr>\n",
       "    <tr>\n",
       "      <th>27523</th>\n",
       "      <td>8001</td>\n",
       "      <td>GD_207014</td>\n",
       "      <td>2000-07-12</td>\n",
       "      <td>1.000</td>\n",
       "      <td>1.000</td>\n",
       "    </tr>\n",
       "  </tbody>\n",
       "</table>\n",
       "<p>27524 rows × 5 columns</p>\n",
       "</div>"
      ],
      "text/plain": [
       "       sample_id     old_id   DATETIME  river_age  RIVER_AGE\n",
       "0           4390       GD_1 1968-08-09      0.000      0.000\n",
       "1           4390       GD_2 1968-08-09      0.000      0.000\n",
       "2           4390       GD_3 1968-08-09      0.000      0.000\n",
       "3           4390       GD_4 1968-08-09      0.000      0.000\n",
       "4           4390       GD_5 1968-08-09      0.000      0.000\n",
       "...          ...        ...        ...        ...        ...\n",
       "27519       8001  GD_207005 2000-07-12      0.000      0.000\n",
       "27520       8001  GD_207006 2000-07-12      0.000      0.000\n",
       "27521       8001  GD_207011 2000-07-12      1.000      1.000\n",
       "27522       8001  GD_207012 2000-07-12      1.000      1.000\n",
       "27523       8001  GD_207014 2000-07-12      1.000      1.000\n",
       "\n",
       "[27524 rows x 5 columns]"
      ]
     },
     "execution_count": 91,
     "metadata": {},
     "output_type": "execute_result"
    }
   ],
   "source": [
    "i = 6\n",
    "k = list(comparisons.keys())[i] \n",
    "v = comparisons[k]\n",
    "df_merged[first_columns + [k, v]]  # how to check if these are always matched? do it individually"
   ]
  },
  {
   "cell_type": "code",
   "execution_count": 65,
   "id": "a2fb0578",
   "metadata": {},
   "outputs": [
    {
     "data": {
      "text/html": [
       "<div>\n",
       "<style scoped>\n",
       "    .dataframe tbody tr th:only-of-type {\n",
       "        vertical-align: middle;\n",
       "    }\n",
       "\n",
       "    .dataframe tbody tr th {\n",
       "        vertical-align: top;\n",
       "    }\n",
       "\n",
       "    .dataframe thead th {\n",
       "        text-align: right;\n",
       "    }\n",
       "</style>\n",
       "<table border=\"1\" class=\"dataframe\">\n",
       "  <thead>\n",
       "    <tr style=\"text-align: right;\">\n",
       "      <th></th>\n",
       "      <th>sample_id</th>\n",
       "      <th>old_id</th>\n",
       "      <th>DATETIME</th>\n",
       "      <th>age_type</th>\n",
       "      <th>AGE_TYPE</th>\n",
       "      <th>BIOLOGICAL_REMARKS</th>\n",
       "      <th>BIOLOGICAL_SAMPLE</th>\n",
       "      <th>CATCH_FREQUENCY</th>\n",
       "      <th>CATCHMENT_INDEX</th>\n",
       "      <th>CATCHMENT_NAME</th>\n",
       "      <th>FILE_TYPE</th>\n",
       "      <th>FISH_SIZE</th>\n",
       "      <th>FISH_STATUS</th>\n",
       "      <th>fork_length</th>\n",
       "      <th>FORK_LENGTH</th>\n",
       "      <th>FORK_LENGTH_INTERVAL_WIDTH</th>\n",
       "      <th>GD_ID</th>\n",
       "      <th>id</th>\n",
       "      <th>life_stage_id</th>\n",
       "      <th>MATURITY</th>\n",
       "      <th>notes</th>\n",
       "      <th>ORIGIN</th>\n",
       "      <th>RECORD_IDENTIFIER</th>\n",
       "      <th>river_age</th>\n",
       "      <th>RIVER_AGE</th>\n",
       "      <th>SCALE_SAMPLE</th>\n",
       "      <th>SCALE_SAMPLE_ID</th>\n",
       "      <th>SEX</th>\n",
       "      <th>sex_id</th>\n",
       "      <th>SITE</th>\n",
       "      <th>SITE_EVENT_CODE</th>\n",
       "      <th>SPECIES_ITIS_CODE</th>\n",
       "      <th>SPECIES_LIFE_STAGE</th>\n",
       "      <th>status_id</th>\n",
       "      <th>SURVEY</th>\n",
       "      <th>SURVEY_TYPE</th>\n",
       "      <th>SWEEP_NUMBER</th>\n",
       "      <th>total_length</th>\n",
       "      <th>TOTAL_LENGTH</th>\n",
       "      <th>weight</th>\n",
       "      <th>WEIGHT</th>\n",
       "      <th>WEIGHT_PRECISION</th>\n",
       "      <th>WEIGHT_RESOLUTION</th>\n",
       "    </tr>\n",
       "  </thead>\n",
       "  <tbody>\n",
       "  </tbody>\n",
       "</table>\n",
       "</div>"
      ],
      "text/plain": [
       "Empty DataFrame\n",
       "Columns: [sample_id, old_id, DATETIME, age_type, AGE_TYPE, BIOLOGICAL_REMARKS, BIOLOGICAL_SAMPLE, CATCH_FREQUENCY, CATCHMENT_INDEX, CATCHMENT_NAME, FILE_TYPE, FISH_SIZE, FISH_STATUS, fork_length, FORK_LENGTH, FORK_LENGTH_INTERVAL_WIDTH, GD_ID, id, life_stage_id, MATURITY, notes, ORIGIN, RECORD_IDENTIFIER, river_age, RIVER_AGE, SCALE_SAMPLE, SCALE_SAMPLE_ID, SEX, sex_id, SITE, SITE_EVENT_CODE, SPECIES_ITIS_CODE, SPECIES_LIFE_STAGE, status_id, SURVEY, SURVEY_TYPE, SWEEP_NUMBER, total_length, TOTAL_LENGTH, weight, WEIGHT, WEIGHT_PRECISION, WEIGHT_RESOLUTION]\n",
       "Index: []"
      ]
     },
     "execution_count": 65,
     "metadata": {},
     "output_type": "execute_result"
    }
   ],
   "source": [
    "# Age Type is always the same\n",
    "df_merged[df_merged.AGE_TYPE.fillna(0) != df_merged.age_type.map({1:'SCALE', 2:'LGTHFREQ'}).fillna(0)]"
   ]
  },
  {
   "cell_type": "code",
   "execution_count": 69,
   "id": "e244b1fa",
   "metadata": {},
   "outputs": [
    {
     "data": {
      "text/html": [
       "<div>\n",
       "<style scoped>\n",
       "    .dataframe tbody tr th:only-of-type {\n",
       "        vertical-align: middle;\n",
       "    }\n",
       "\n",
       "    .dataframe tbody tr th {\n",
       "        vertical-align: top;\n",
       "    }\n",
       "\n",
       "    .dataframe thead th {\n",
       "        text-align: right;\n",
       "    }\n",
       "</style>\n",
       "<table border=\"1\" class=\"dataframe\">\n",
       "  <thead>\n",
       "    <tr style=\"text-align: right;\">\n",
       "      <th></th>\n",
       "      <th>sample_id</th>\n",
       "      <th>old_id</th>\n",
       "      <th>DATETIME</th>\n",
       "      <th>age_type</th>\n",
       "      <th>AGE_TYPE</th>\n",
       "      <th>BIOLOGICAL_REMARKS</th>\n",
       "      <th>BIOLOGICAL_SAMPLE</th>\n",
       "      <th>CATCH_FREQUENCY</th>\n",
       "      <th>CATCHMENT_INDEX</th>\n",
       "      <th>CATCHMENT_NAME</th>\n",
       "      <th>FILE_TYPE</th>\n",
       "      <th>FISH_SIZE</th>\n",
       "      <th>FISH_STATUS</th>\n",
       "      <th>fork_length</th>\n",
       "      <th>FORK_LENGTH</th>\n",
       "      <th>FORK_LENGTH_INTERVAL_WIDTH</th>\n",
       "      <th>GD_ID</th>\n",
       "      <th>id</th>\n",
       "      <th>life_stage_id</th>\n",
       "      <th>MATURITY</th>\n",
       "      <th>notes</th>\n",
       "      <th>ORIGIN</th>\n",
       "      <th>RECORD_IDENTIFIER</th>\n",
       "      <th>river_age</th>\n",
       "      <th>RIVER_AGE</th>\n",
       "      <th>SCALE_SAMPLE</th>\n",
       "      <th>SCALE_SAMPLE_ID</th>\n",
       "      <th>SEX</th>\n",
       "      <th>sex_id</th>\n",
       "      <th>SITE</th>\n",
       "      <th>SITE_EVENT_CODE</th>\n",
       "      <th>SPECIES_ITIS_CODE</th>\n",
       "      <th>SPECIES_LIFE_STAGE</th>\n",
       "      <th>status_id</th>\n",
       "      <th>SURVEY</th>\n",
       "      <th>SURVEY_TYPE</th>\n",
       "      <th>SWEEP_NUMBER</th>\n",
       "      <th>total_length</th>\n",
       "      <th>TOTAL_LENGTH</th>\n",
       "      <th>weight</th>\n",
       "      <th>WEIGHT</th>\n",
       "      <th>WEIGHT_PRECISION</th>\n",
       "      <th>WEIGHT_RESOLUTION</th>\n",
       "    </tr>\n",
       "  </thead>\n",
       "  <tbody>\n",
       "  </tbody>\n",
       "</table>\n",
       "</div>"
      ],
      "text/plain": [
       "Empty DataFrame\n",
       "Columns: [sample_id, old_id, DATETIME, age_type, AGE_TYPE, BIOLOGICAL_REMARKS, BIOLOGICAL_SAMPLE, CATCH_FREQUENCY, CATCHMENT_INDEX, CATCHMENT_NAME, FILE_TYPE, FISH_SIZE, FISH_STATUS, fork_length, FORK_LENGTH, FORK_LENGTH_INTERVAL_WIDTH, GD_ID, id, life_stage_id, MATURITY, notes, ORIGIN, RECORD_IDENTIFIER, river_age, RIVER_AGE, SCALE_SAMPLE, SCALE_SAMPLE_ID, SEX, sex_id, SITE, SITE_EVENT_CODE, SPECIES_ITIS_CODE, SPECIES_LIFE_STAGE, status_id, SURVEY, SURVEY_TYPE, SWEEP_NUMBER, total_length, TOTAL_LENGTH, weight, WEIGHT, WEIGHT_PRECISION, WEIGHT_RESOLUTION]\n",
       "Index: []"
      ]
     },
     "execution_count": 69,
     "metadata": {},
     "output_type": "execute_result"
    }
   ],
   "source": [
    "# fork length is always the same\n",
    "df_merged[df_merged.fork_length.fillna(0) != df_merged.FORK_LENGTH.fillna(0).astype(int)]"
   ]
  },
  {
   "cell_type": "code",
   "execution_count": 72,
   "id": "ad6f5a8c",
   "metadata": {},
   "outputs": [
    {
     "data": {
      "text/plain": [
       "array([nan])"
      ]
     },
     "execution_count": 72,
     "metadata": {},
     "output_type": "execute_result"
    }
   ],
   "source": [
    "# nope.\n",
    "df_merged.MATURITY.unique()"
   ]
  },
  {
   "cell_type": "code",
   "execution_count": 74,
   "id": "0d578ad3",
   "metadata": {},
   "outputs": [
    {
     "data": {
      "text/html": [
       "<div>\n",
       "<style scoped>\n",
       "    .dataframe tbody tr th:only-of-type {\n",
       "        vertical-align: middle;\n",
       "    }\n",
       "\n",
       "    .dataframe tbody tr th {\n",
       "        vertical-align: top;\n",
       "    }\n",
       "\n",
       "    .dataframe thead th {\n",
       "        text-align: right;\n",
       "    }\n",
       "</style>\n",
       "<table border=\"1\" class=\"dataframe\">\n",
       "  <thead>\n",
       "    <tr style=\"text-align: right;\">\n",
       "      <th></th>\n",
       "      <th>sample_id</th>\n",
       "      <th>old_id</th>\n",
       "      <th>DATETIME</th>\n",
       "      <th>age_type</th>\n",
       "      <th>AGE_TYPE</th>\n",
       "      <th>BIOLOGICAL_REMARKS</th>\n",
       "      <th>BIOLOGICAL_SAMPLE</th>\n",
       "      <th>CATCH_FREQUENCY</th>\n",
       "      <th>CATCHMENT_INDEX</th>\n",
       "      <th>CATCHMENT_NAME</th>\n",
       "      <th>FILE_TYPE</th>\n",
       "      <th>FISH_SIZE</th>\n",
       "      <th>FISH_STATUS</th>\n",
       "      <th>fork_length</th>\n",
       "      <th>FORK_LENGTH</th>\n",
       "      <th>FORK_LENGTH_INTERVAL_WIDTH</th>\n",
       "      <th>GD_ID</th>\n",
       "      <th>id</th>\n",
       "      <th>life_stage_id</th>\n",
       "      <th>MATURITY</th>\n",
       "      <th>notes</th>\n",
       "      <th>ORIGIN</th>\n",
       "      <th>RECORD_IDENTIFIER</th>\n",
       "      <th>river_age</th>\n",
       "      <th>RIVER_AGE</th>\n",
       "      <th>SCALE_SAMPLE</th>\n",
       "      <th>SCALE_SAMPLE_ID</th>\n",
       "      <th>SEX</th>\n",
       "      <th>sex_id</th>\n",
       "      <th>SITE</th>\n",
       "      <th>SITE_EVENT_CODE</th>\n",
       "      <th>SPECIES_ITIS_CODE</th>\n",
       "      <th>SPECIES_LIFE_STAGE</th>\n",
       "      <th>status_id</th>\n",
       "      <th>SURVEY</th>\n",
       "      <th>SURVEY_TYPE</th>\n",
       "      <th>SWEEP_NUMBER</th>\n",
       "      <th>total_length</th>\n",
       "      <th>TOTAL_LENGTH</th>\n",
       "      <th>weight</th>\n",
       "      <th>WEIGHT</th>\n",
       "      <th>WEIGHT_PRECISION</th>\n",
       "      <th>WEIGHT_RESOLUTION</th>\n",
       "    </tr>\n",
       "  </thead>\n",
       "  <tbody>\n",
       "  </tbody>\n",
       "</table>\n",
       "</div>"
      ],
      "text/plain": [
       "Empty DataFrame\n",
       "Columns: [sample_id, old_id, DATETIME, age_type, AGE_TYPE, BIOLOGICAL_REMARKS, BIOLOGICAL_SAMPLE, CATCH_FREQUENCY, CATCHMENT_INDEX, CATCHMENT_NAME, FILE_TYPE, FISH_SIZE, FISH_STATUS, fork_length, FORK_LENGTH, FORK_LENGTH_INTERVAL_WIDTH, GD_ID, id, life_stage_id, MATURITY, notes, ORIGIN, RECORD_IDENTIFIER, river_age, RIVER_AGE, SCALE_SAMPLE, SCALE_SAMPLE_ID, SEX, sex_id, SITE, SITE_EVENT_CODE, SPECIES_ITIS_CODE, SPECIES_LIFE_STAGE, status_id, SURVEY, SURVEY_TYPE, SWEEP_NUMBER, total_length, TOTAL_LENGTH, weight, WEIGHT, WEIGHT_PRECISION, WEIGHT_RESOLUTION]\n",
       "Index: []"
      ]
     },
     "execution_count": 74,
     "metadata": {},
     "output_type": "execute_result"
    }
   ],
   "source": [
    "# Sex is always the same\n",
    "df_merged[df_merged.SEX.fillna('U') != df_merged.sex_id.fillna(0).map({0: 'U', 1:'M', 2:'F'})]"
   ]
  },
  {
   "cell_type": "code",
   "execution_count": 83,
   "id": "1bb73d3f",
   "metadata": {},
   "outputs": [
    {
     "data": {
      "text/html": [
       "<div>\n",
       "<style scoped>\n",
       "    .dataframe tbody tr th:only-of-type {\n",
       "        vertical-align: middle;\n",
       "    }\n",
       "\n",
       "    .dataframe tbody tr th {\n",
       "        vertical-align: top;\n",
       "    }\n",
       "\n",
       "    .dataframe thead th {\n",
       "        text-align: right;\n",
       "    }\n",
       "</style>\n",
       "<table border=\"1\" class=\"dataframe\">\n",
       "  <thead>\n",
       "    <tr style=\"text-align: right;\">\n",
       "      <th></th>\n",
       "      <th>sample_id</th>\n",
       "      <th>old_id</th>\n",
       "      <th>DATETIME</th>\n",
       "      <th>age_type</th>\n",
       "      <th>AGE_TYPE</th>\n",
       "      <th>BIOLOGICAL_REMARKS</th>\n",
       "      <th>BIOLOGICAL_SAMPLE</th>\n",
       "      <th>CATCH_FREQUENCY</th>\n",
       "      <th>CATCHMENT_INDEX</th>\n",
       "      <th>CATCHMENT_NAME</th>\n",
       "      <th>FILE_TYPE</th>\n",
       "      <th>FISH_SIZE</th>\n",
       "      <th>FISH_STATUS</th>\n",
       "      <th>fork_length</th>\n",
       "      <th>FORK_LENGTH</th>\n",
       "      <th>FORK_LENGTH_INTERVAL_WIDTH</th>\n",
       "      <th>GD_ID</th>\n",
       "      <th>id</th>\n",
       "      <th>life_stage_id</th>\n",
       "      <th>MATURITY</th>\n",
       "      <th>notes</th>\n",
       "      <th>ORIGIN</th>\n",
       "      <th>RECORD_IDENTIFIER</th>\n",
       "      <th>river_age</th>\n",
       "      <th>RIVER_AGE</th>\n",
       "      <th>SCALE_SAMPLE</th>\n",
       "      <th>SCALE_SAMPLE_ID</th>\n",
       "      <th>SEX</th>\n",
       "      <th>sex_id</th>\n",
       "      <th>SITE</th>\n",
       "      <th>SITE_EVENT_CODE</th>\n",
       "      <th>SPECIES_ITIS_CODE</th>\n",
       "      <th>SPECIES_LIFE_STAGE</th>\n",
       "      <th>status_id</th>\n",
       "      <th>SURVEY</th>\n",
       "      <th>SURVEY_TYPE</th>\n",
       "      <th>SWEEP_NUMBER</th>\n",
       "      <th>total_length</th>\n",
       "      <th>TOTAL_LENGTH</th>\n",
       "      <th>weight</th>\n",
       "      <th>WEIGHT</th>\n",
       "      <th>WEIGHT_PRECISION</th>\n",
       "      <th>WEIGHT_RESOLUTION</th>\n",
       "    </tr>\n",
       "  </thead>\n",
       "  <tbody>\n",
       "  </tbody>\n",
       "</table>\n",
       "</div>"
      ],
      "text/plain": [
       "Empty DataFrame\n",
       "Columns: [sample_id, old_id, DATETIME, age_type, AGE_TYPE, BIOLOGICAL_REMARKS, BIOLOGICAL_SAMPLE, CATCH_FREQUENCY, CATCHMENT_INDEX, CATCHMENT_NAME, FILE_TYPE, FISH_SIZE, FISH_STATUS, fork_length, FORK_LENGTH, FORK_LENGTH_INTERVAL_WIDTH, GD_ID, id, life_stage_id, MATURITY, notes, ORIGIN, RECORD_IDENTIFIER, river_age, RIVER_AGE, SCALE_SAMPLE, SCALE_SAMPLE_ID, SEX, sex_id, SITE, SITE_EVENT_CODE, SPECIES_ITIS_CODE, SPECIES_LIFE_STAGE, status_id, SURVEY, SURVEY_TYPE, SWEEP_NUMBER, total_length, TOTAL_LENGTH, weight, WEIGHT, WEIGHT_PRECISION, WEIGHT_RESOLUTION]\n",
       "Index: []"
      ]
     },
     "execution_count": 83,
     "metadata": {},
     "output_type": "execute_result"
    }
   ],
   "source": [
    "# total length is always the same\n",
    "df_merged[df_merged.total_length.fillna(0) != df_merged.TOTAL_LENGTH.fillna(0)]"
   ]
  },
  {
   "cell_type": "code",
   "execution_count": 82,
   "id": "8215f42d",
   "metadata": {},
   "outputs": [
    {
     "data": {
      "text/html": [
       "<div>\n",
       "<style scoped>\n",
       "    .dataframe tbody tr th:only-of-type {\n",
       "        vertical-align: middle;\n",
       "    }\n",
       "\n",
       "    .dataframe tbody tr th {\n",
       "        vertical-align: top;\n",
       "    }\n",
       "\n",
       "    .dataframe thead th {\n",
       "        text-align: right;\n",
       "    }\n",
       "</style>\n",
       "<table border=\"1\" class=\"dataframe\">\n",
       "  <thead>\n",
       "    <tr style=\"text-align: right;\">\n",
       "      <th></th>\n",
       "      <th>sample_id</th>\n",
       "      <th>old_id</th>\n",
       "      <th>DATETIME</th>\n",
       "      <th>age_type</th>\n",
       "      <th>AGE_TYPE</th>\n",
       "      <th>BIOLOGICAL_REMARKS</th>\n",
       "      <th>BIOLOGICAL_SAMPLE</th>\n",
       "      <th>CATCH_FREQUENCY</th>\n",
       "      <th>CATCHMENT_INDEX</th>\n",
       "      <th>CATCHMENT_NAME</th>\n",
       "      <th>FILE_TYPE</th>\n",
       "      <th>FISH_SIZE</th>\n",
       "      <th>FISH_STATUS</th>\n",
       "      <th>fork_length</th>\n",
       "      <th>FORK_LENGTH</th>\n",
       "      <th>FORK_LENGTH_INTERVAL_WIDTH</th>\n",
       "      <th>GD_ID</th>\n",
       "      <th>id</th>\n",
       "      <th>life_stage_id</th>\n",
       "      <th>MATURITY</th>\n",
       "      <th>notes</th>\n",
       "      <th>ORIGIN</th>\n",
       "      <th>RECORD_IDENTIFIER</th>\n",
       "      <th>river_age</th>\n",
       "      <th>RIVER_AGE</th>\n",
       "      <th>SCALE_SAMPLE</th>\n",
       "      <th>SCALE_SAMPLE_ID</th>\n",
       "      <th>SEX</th>\n",
       "      <th>sex_id</th>\n",
       "      <th>SITE</th>\n",
       "      <th>SITE_EVENT_CODE</th>\n",
       "      <th>SPECIES_ITIS_CODE</th>\n",
       "      <th>SPECIES_LIFE_STAGE</th>\n",
       "      <th>status_id</th>\n",
       "      <th>SURVEY</th>\n",
       "      <th>SURVEY_TYPE</th>\n",
       "      <th>SWEEP_NUMBER</th>\n",
       "      <th>total_length</th>\n",
       "      <th>TOTAL_LENGTH</th>\n",
       "      <th>weight</th>\n",
       "      <th>WEIGHT</th>\n",
       "      <th>WEIGHT_PRECISION</th>\n",
       "      <th>WEIGHT_RESOLUTION</th>\n",
       "    </tr>\n",
       "  </thead>\n",
       "  <tbody>\n",
       "  </tbody>\n",
       "</table>\n",
       "</div>"
      ],
      "text/plain": [
       "Empty DataFrame\n",
       "Columns: [sample_id, old_id, DATETIME, age_type, AGE_TYPE, BIOLOGICAL_REMARKS, BIOLOGICAL_SAMPLE, CATCH_FREQUENCY, CATCHMENT_INDEX, CATCHMENT_NAME, FILE_TYPE, FISH_SIZE, FISH_STATUS, fork_length, FORK_LENGTH, FORK_LENGTH_INTERVAL_WIDTH, GD_ID, id, life_stage_id, MATURITY, notes, ORIGIN, RECORD_IDENTIFIER, river_age, RIVER_AGE, SCALE_SAMPLE, SCALE_SAMPLE_ID, SEX, sex_id, SITE, SITE_EVENT_CODE, SPECIES_ITIS_CODE, SPECIES_LIFE_STAGE, status_id, SURVEY, SURVEY_TYPE, SWEEP_NUMBER, total_length, TOTAL_LENGTH, weight, WEIGHT, WEIGHT_PRECISION, WEIGHT_RESOLUTION]\n",
       "Index: []"
      ]
     },
     "execution_count": 82,
     "metadata": {},
     "output_type": "execute_result"
    }
   ],
   "source": [
    "# weight is always the same\n",
    "df_merged[df_merged.weight.fillna(0) != df_merged.WEIGHT.fillna(0)]"
   ]
  },
  {
   "cell_type": "code",
   "execution_count": 92,
   "id": "ce623019",
   "metadata": {},
   "outputs": [
    {
     "data": {
      "text/html": [
       "<div>\n",
       "<style scoped>\n",
       "    .dataframe tbody tr th:only-of-type {\n",
       "        vertical-align: middle;\n",
       "    }\n",
       "\n",
       "    .dataframe tbody tr th {\n",
       "        vertical-align: top;\n",
       "    }\n",
       "\n",
       "    .dataframe thead th {\n",
       "        text-align: right;\n",
       "    }\n",
       "</style>\n",
       "<table border=\"1\" class=\"dataframe\">\n",
       "  <thead>\n",
       "    <tr style=\"text-align: right;\">\n",
       "      <th></th>\n",
       "      <th>sample_id</th>\n",
       "      <th>old_id</th>\n",
       "      <th>DATETIME</th>\n",
       "      <th>age_type</th>\n",
       "      <th>AGE_TYPE</th>\n",
       "      <th>BIOLOGICAL_REMARKS</th>\n",
       "      <th>BIOLOGICAL_SAMPLE</th>\n",
       "      <th>CATCH_FREQUENCY</th>\n",
       "      <th>CATCHMENT_INDEX</th>\n",
       "      <th>CATCHMENT_NAME</th>\n",
       "      <th>FILE_TYPE</th>\n",
       "      <th>FISH_SIZE</th>\n",
       "      <th>FISH_STATUS</th>\n",
       "      <th>fork_length</th>\n",
       "      <th>FORK_LENGTH</th>\n",
       "      <th>FORK_LENGTH_INTERVAL_WIDTH</th>\n",
       "      <th>GD_ID</th>\n",
       "      <th>id</th>\n",
       "      <th>life_stage_id</th>\n",
       "      <th>MATURITY</th>\n",
       "      <th>notes</th>\n",
       "      <th>ORIGIN</th>\n",
       "      <th>RECORD_IDENTIFIER</th>\n",
       "      <th>river_age</th>\n",
       "      <th>RIVER_AGE</th>\n",
       "      <th>SCALE_SAMPLE</th>\n",
       "      <th>SCALE_SAMPLE_ID</th>\n",
       "      <th>SEX</th>\n",
       "      <th>sex_id</th>\n",
       "      <th>SITE</th>\n",
       "      <th>SITE_EVENT_CODE</th>\n",
       "      <th>SPECIES_ITIS_CODE</th>\n",
       "      <th>SPECIES_LIFE_STAGE</th>\n",
       "      <th>status_id</th>\n",
       "      <th>SURVEY</th>\n",
       "      <th>SURVEY_TYPE</th>\n",
       "      <th>SWEEP_NUMBER</th>\n",
       "      <th>total_length</th>\n",
       "      <th>TOTAL_LENGTH</th>\n",
       "      <th>weight</th>\n",
       "      <th>WEIGHT</th>\n",
       "      <th>WEIGHT_PRECISION</th>\n",
       "      <th>WEIGHT_RESOLUTION</th>\n",
       "    </tr>\n",
       "  </thead>\n",
       "  <tbody>\n",
       "  </tbody>\n",
       "</table>\n",
       "</div>"
      ],
      "text/plain": [
       "Empty DataFrame\n",
       "Columns: [sample_id, old_id, DATETIME, age_type, AGE_TYPE, BIOLOGICAL_REMARKS, BIOLOGICAL_SAMPLE, CATCH_FREQUENCY, CATCHMENT_INDEX, CATCHMENT_NAME, FILE_TYPE, FISH_SIZE, FISH_STATUS, fork_length, FORK_LENGTH, FORK_LENGTH_INTERVAL_WIDTH, GD_ID, id, life_stage_id, MATURITY, notes, ORIGIN, RECORD_IDENTIFIER, river_age, RIVER_AGE, SCALE_SAMPLE, SCALE_SAMPLE_ID, SEX, sex_id, SITE, SITE_EVENT_CODE, SPECIES_ITIS_CODE, SPECIES_LIFE_STAGE, status_id, SURVEY, SURVEY_TYPE, SWEEP_NUMBER, total_length, TOTAL_LENGTH, weight, WEIGHT, WEIGHT_PRECISION, WEIGHT_RESOLUTION]\n",
       "Index: []"
      ]
     },
     "execution_count": 92,
     "metadata": {},
     "output_type": "execute_result"
    }
   ],
   "source": [
    "# weight is always the same\n",
    "df_merged[df_merged.river_age.fillna(0) != df_merged.RIVER_AGE.fillna(0)]"
   ]
  },
  {
   "cell_type": "markdown",
   "id": "41328559",
   "metadata": {},
   "source": [
    "# are there any matches between GD_ID and old_id from specimen table?"
   ]
  },
  {
   "cell_type": "code",
   "execution_count": 94,
   "id": "62f75e98",
   "metadata": {},
   "outputs": [
    {
     "data": {
      "text/html": [
       "<div>\n",
       "<style scoped>\n",
       "    .dataframe tbody tr th:only-of-type {\n",
       "        vertical-align: middle;\n",
       "    }\n",
       "\n",
       "    .dataframe tbody tr th {\n",
       "        vertical-align: top;\n",
       "    }\n",
       "\n",
       "    .dataframe thead th {\n",
       "        text-align: right;\n",
       "    }\n",
       "</style>\n",
       "<table border=\"1\" class=\"dataframe\">\n",
       "  <thead>\n",
       "    <tr style=\"text-align: right;\">\n",
       "      <th></th>\n",
       "      <th>old_id</th>\n",
       "      <th>DATETIME</th>\n",
       "      <th>SURVEY</th>\n",
       "      <th>SITE</th>\n",
       "      <th>CATCHMENT_NAME</th>\n",
       "      <th>CATCHMENT_INDEX</th>\n",
       "      <th>SURVEY_TYPE</th>\n",
       "      <th>SITE_EVENT_CODE</th>\n",
       "      <th>SWEEP_NUMBER</th>\n",
       "      <th>RECORD_IDENTIFIER</th>\n",
       "      <th>SPECIES_ITIS_CODE</th>\n",
       "      <th>SPECIES_LIFE_STAGE</th>\n",
       "      <th>ORIGIN</th>\n",
       "      <th>FISH_STATUS</th>\n",
       "      <th>FORK_LENGTH</th>\n",
       "      <th>FORK_LENGTH_INTERVAL_WIDTH</th>\n",
       "      <th>TOTAL_LENGTH</th>\n",
       "      <th>WEIGHT</th>\n",
       "      <th>WEIGHT_RESOLUTION</th>\n",
       "      <th>WEIGHT_PRECISION</th>\n",
       "      <th>FILE_TYPE</th>\n",
       "      <th>CATCH_FREQUENCY</th>\n",
       "      <th>FISH_SIZE</th>\n",
       "      <th>RIVER_AGE</th>\n",
       "      <th>AGE_TYPE</th>\n",
       "      <th>SEX</th>\n",
       "      <th>MATURITY</th>\n",
       "      <th>BIOLOGICAL_REMARKS</th>\n",
       "      <th>BIOLOGICAL_SAMPLE</th>\n",
       "      <th>SCALE_SAMPLE</th>\n",
       "      <th>SCALE_SAMPLE_ID</th>\n",
       "      <th>GD_ID</th>\n",
       "      <th>id</th>\n",
       "      <th>fork_length</th>\n",
       "      <th>weight</th>\n",
       "      <th>river_age</th>\n",
       "      <th>notes</th>\n",
       "      <th>sample_id</th>\n",
       "      <th>sex_id</th>\n",
       "      <th>status_id</th>\n",
       "      <th>age_type</th>\n",
       "      <th>sweep_id</th>\n",
       "      <th>life_stage_id</th>\n",
       "      <th>smart_river_age</th>\n",
       "      <th>smart_river_age_type</th>\n",
       "    </tr>\n",
       "  </thead>\n",
       "  <tbody>\n",
       "    <tr>\n",
       "      <th>0</th>\n",
       "      <td>GD_202</td>\n",
       "      <td>1970-06-29</td>\n",
       "      <td>1970</td>\n",
       "      <td>7</td>\n",
       "      <td>MIRAMICHI</td>\n",
       "      <td>2</td>\n",
       "      <td>1</td>\n",
       "      <td>1</td>\n",
       "      <td>1.000</td>\n",
       "      <td>8624004</td>\n",
       "      <td>161996</td>\n",
       "      <td>1731.000</td>\n",
       "      <td>W</td>\n",
       "      <td>RS</td>\n",
       "      <td>33.000</td>\n",
       "      <td>5.000</td>\n",
       "      <td>NaN</td>\n",
       "      <td>NaN</td>\n",
       "      <td>NaN</td>\n",
       "      <td>NaN</td>\n",
       "      <td>1.000</td>\n",
       "      <td>6</td>\n",
       "      <td>FRY</td>\n",
       "      <td>0.000</td>\n",
       "      <td>LGTHFREQ</td>\n",
       "      <td>NaN</td>\n",
       "      <td>NaN</td>\n",
       "      <td>NaN</td>\n",
       "      <td>1.000</td>\n",
       "      <td>NaN</td>\n",
       "      <td>NaN</td>\n",
       "      <td>202</td>\n",
       "      <td>2219941</td>\n",
       "      <td>33</td>\n",
       "      <td>NaN</td>\n",
       "      <td>0.000</td>\n",
       "      <td>None</td>\n",
       "      <td>4404</td>\n",
       "      <td>&lt;NA&gt;</td>\n",
       "      <td>10.000</td>\n",
       "      <td>2.000</td>\n",
       "      <td>305.000</td>\n",
       "      <td>11.000</td>\n",
       "      <td>0.000</td>\n",
       "      <td>2.000</td>\n",
       "    </tr>\n",
       "    <tr>\n",
       "      <th>1</th>\n",
       "      <td>GD_202</td>\n",
       "      <td>1970-06-29</td>\n",
       "      <td>1970</td>\n",
       "      <td>7</td>\n",
       "      <td>MIRAMICHI</td>\n",
       "      <td>2</td>\n",
       "      <td>1</td>\n",
       "      <td>1</td>\n",
       "      <td>1.000</td>\n",
       "      <td>8624004</td>\n",
       "      <td>161996</td>\n",
       "      <td>1731.000</td>\n",
       "      <td>W</td>\n",
       "      <td>RS</td>\n",
       "      <td>33.000</td>\n",
       "      <td>5.000</td>\n",
       "      <td>NaN</td>\n",
       "      <td>NaN</td>\n",
       "      <td>NaN</td>\n",
       "      <td>NaN</td>\n",
       "      <td>1.000</td>\n",
       "      <td>6</td>\n",
       "      <td>FRY</td>\n",
       "      <td>0.000</td>\n",
       "      <td>LGTHFREQ</td>\n",
       "      <td>NaN</td>\n",
       "      <td>NaN</td>\n",
       "      <td>NaN</td>\n",
       "      <td>1.000</td>\n",
       "      <td>NaN</td>\n",
       "      <td>NaN</td>\n",
       "      <td>202</td>\n",
       "      <td>2219942</td>\n",
       "      <td>33</td>\n",
       "      <td>NaN</td>\n",
       "      <td>0.000</td>\n",
       "      <td>None</td>\n",
       "      <td>4404</td>\n",
       "      <td>&lt;NA&gt;</td>\n",
       "      <td>10.000</td>\n",
       "      <td>2.000</td>\n",
       "      <td>305.000</td>\n",
       "      <td>11.000</td>\n",
       "      <td>0.000</td>\n",
       "      <td>2.000</td>\n",
       "    </tr>\n",
       "    <tr>\n",
       "      <th>2</th>\n",
       "      <td>GD_202</td>\n",
       "      <td>1970-06-29</td>\n",
       "      <td>1970</td>\n",
       "      <td>7</td>\n",
       "      <td>MIRAMICHI</td>\n",
       "      <td>2</td>\n",
       "      <td>1</td>\n",
       "      <td>1</td>\n",
       "      <td>1.000</td>\n",
       "      <td>8624004</td>\n",
       "      <td>161996</td>\n",
       "      <td>1731.000</td>\n",
       "      <td>W</td>\n",
       "      <td>RS</td>\n",
       "      <td>33.000</td>\n",
       "      <td>5.000</td>\n",
       "      <td>NaN</td>\n",
       "      <td>NaN</td>\n",
       "      <td>NaN</td>\n",
       "      <td>NaN</td>\n",
       "      <td>1.000</td>\n",
       "      <td>6</td>\n",
       "      <td>FRY</td>\n",
       "      <td>0.000</td>\n",
       "      <td>LGTHFREQ</td>\n",
       "      <td>NaN</td>\n",
       "      <td>NaN</td>\n",
       "      <td>NaN</td>\n",
       "      <td>1.000</td>\n",
       "      <td>NaN</td>\n",
       "      <td>NaN</td>\n",
       "      <td>202</td>\n",
       "      <td>2219943</td>\n",
       "      <td>33</td>\n",
       "      <td>NaN</td>\n",
       "      <td>0.000</td>\n",
       "      <td>None</td>\n",
       "      <td>4404</td>\n",
       "      <td>&lt;NA&gt;</td>\n",
       "      <td>10.000</td>\n",
       "      <td>2.000</td>\n",
       "      <td>305.000</td>\n",
       "      <td>11.000</td>\n",
       "      <td>0.000</td>\n",
       "      <td>2.000</td>\n",
       "    </tr>\n",
       "    <tr>\n",
       "      <th>3</th>\n",
       "      <td>GD_202</td>\n",
       "      <td>1970-06-29</td>\n",
       "      <td>1970</td>\n",
       "      <td>7</td>\n",
       "      <td>MIRAMICHI</td>\n",
       "      <td>2</td>\n",
       "      <td>1</td>\n",
       "      <td>1</td>\n",
       "      <td>1.000</td>\n",
       "      <td>8624004</td>\n",
       "      <td>161996</td>\n",
       "      <td>1731.000</td>\n",
       "      <td>W</td>\n",
       "      <td>RS</td>\n",
       "      <td>33.000</td>\n",
       "      <td>5.000</td>\n",
       "      <td>NaN</td>\n",
       "      <td>NaN</td>\n",
       "      <td>NaN</td>\n",
       "      <td>NaN</td>\n",
       "      <td>1.000</td>\n",
       "      <td>6</td>\n",
       "      <td>FRY</td>\n",
       "      <td>0.000</td>\n",
       "      <td>LGTHFREQ</td>\n",
       "      <td>NaN</td>\n",
       "      <td>NaN</td>\n",
       "      <td>NaN</td>\n",
       "      <td>1.000</td>\n",
       "      <td>NaN</td>\n",
       "      <td>NaN</td>\n",
       "      <td>202</td>\n",
       "      <td>2219944</td>\n",
       "      <td>33</td>\n",
       "      <td>NaN</td>\n",
       "      <td>0.000</td>\n",
       "      <td>None</td>\n",
       "      <td>4404</td>\n",
       "      <td>&lt;NA&gt;</td>\n",
       "      <td>10.000</td>\n",
       "      <td>2.000</td>\n",
       "      <td>305.000</td>\n",
       "      <td>11.000</td>\n",
       "      <td>0.000</td>\n",
       "      <td>2.000</td>\n",
       "    </tr>\n",
       "    <tr>\n",
       "      <th>4</th>\n",
       "      <td>GD_202</td>\n",
       "      <td>1970-06-29</td>\n",
       "      <td>1970</td>\n",
       "      <td>7</td>\n",
       "      <td>MIRAMICHI</td>\n",
       "      <td>2</td>\n",
       "      <td>1</td>\n",
       "      <td>1</td>\n",
       "      <td>1.000</td>\n",
       "      <td>8624004</td>\n",
       "      <td>161996</td>\n",
       "      <td>1731.000</td>\n",
       "      <td>W</td>\n",
       "      <td>RS</td>\n",
       "      <td>33.000</td>\n",
       "      <td>5.000</td>\n",
       "      <td>NaN</td>\n",
       "      <td>NaN</td>\n",
       "      <td>NaN</td>\n",
       "      <td>NaN</td>\n",
       "      <td>1.000</td>\n",
       "      <td>6</td>\n",
       "      <td>FRY</td>\n",
       "      <td>0.000</td>\n",
       "      <td>LGTHFREQ</td>\n",
       "      <td>NaN</td>\n",
       "      <td>NaN</td>\n",
       "      <td>NaN</td>\n",
       "      <td>1.000</td>\n",
       "      <td>NaN</td>\n",
       "      <td>NaN</td>\n",
       "      <td>202</td>\n",
       "      <td>2219945</td>\n",
       "      <td>33</td>\n",
       "      <td>NaN</td>\n",
       "      <td>0.000</td>\n",
       "      <td>None</td>\n",
       "      <td>4404</td>\n",
       "      <td>&lt;NA&gt;</td>\n",
       "      <td>10.000</td>\n",
       "      <td>2.000</td>\n",
       "      <td>305.000</td>\n",
       "      <td>11.000</td>\n",
       "      <td>0.000</td>\n",
       "      <td>2.000</td>\n",
       "    </tr>\n",
       "    <tr>\n",
       "      <th>...</th>\n",
       "      <td>...</td>\n",
       "      <td>...</td>\n",
       "      <td>...</td>\n",
       "      <td>...</td>\n",
       "      <td>...</td>\n",
       "      <td>...</td>\n",
       "      <td>...</td>\n",
       "      <td>...</td>\n",
       "      <td>...</td>\n",
       "      <td>...</td>\n",
       "      <td>...</td>\n",
       "      <td>...</td>\n",
       "      <td>...</td>\n",
       "      <td>...</td>\n",
       "      <td>...</td>\n",
       "      <td>...</td>\n",
       "      <td>...</td>\n",
       "      <td>...</td>\n",
       "      <td>...</td>\n",
       "      <td>...</td>\n",
       "      <td>...</td>\n",
       "      <td>...</td>\n",
       "      <td>...</td>\n",
       "      <td>...</td>\n",
       "      <td>...</td>\n",
       "      <td>...</td>\n",
       "      <td>...</td>\n",
       "      <td>...</td>\n",
       "      <td>...</td>\n",
       "      <td>...</td>\n",
       "      <td>...</td>\n",
       "      <td>...</td>\n",
       "      <td>...</td>\n",
       "      <td>...</td>\n",
       "      <td>...</td>\n",
       "      <td>...</td>\n",
       "      <td>...</td>\n",
       "      <td>...</td>\n",
       "      <td>...</td>\n",
       "      <td>...</td>\n",
       "      <td>...</td>\n",
       "      <td>...</td>\n",
       "      <td>...</td>\n",
       "      <td>...</td>\n",
       "      <td>...</td>\n",
       "    </tr>\n",
       "    <tr>\n",
       "      <th>74661</th>\n",
       "      <td>GD_207010</td>\n",
       "      <td>2000-07-12</td>\n",
       "      <td>2000</td>\n",
       "      <td>53</td>\n",
       "      <td>RESTIGOUCHE</td>\n",
       "      <td>1</td>\n",
       "      <td>1</td>\n",
       "      <td>1</td>\n",
       "      <td>1.000</td>\n",
       "      <td>8563339</td>\n",
       "      <td>161996</td>\n",
       "      <td>1731.000</td>\n",
       "      <td>W</td>\n",
       "      <td>RS</td>\n",
       "      <td>78.000</td>\n",
       "      <td>5.000</td>\n",
       "      <td>NaN</td>\n",
       "      <td>NaN</td>\n",
       "      <td>NaN</td>\n",
       "      <td>NaN</td>\n",
       "      <td>1.000</td>\n",
       "      <td>1</td>\n",
       "      <td>PARR</td>\n",
       "      <td>1.000</td>\n",
       "      <td>LGTHFREQ</td>\n",
       "      <td>NaN</td>\n",
       "      <td>NaN</td>\n",
       "      <td>NaN</td>\n",
       "      <td>1.000</td>\n",
       "      <td>NaN</td>\n",
       "      <td>NaN</td>\n",
       "      <td>207010</td>\n",
       "      <td>2430208</td>\n",
       "      <td>78</td>\n",
       "      <td>NaN</td>\n",
       "      <td>1.000</td>\n",
       "      <td>None</td>\n",
       "      <td>8001</td>\n",
       "      <td>&lt;NA&gt;</td>\n",
       "      <td>10.000</td>\n",
       "      <td>2.000</td>\n",
       "      <td>10861.000</td>\n",
       "      <td>1.000</td>\n",
       "      <td>1.000</td>\n",
       "      <td>2.000</td>\n",
       "    </tr>\n",
       "    <tr>\n",
       "      <th>74662</th>\n",
       "      <td>GD_207013</td>\n",
       "      <td>2000-07-12</td>\n",
       "      <td>2000</td>\n",
       "      <td>53</td>\n",
       "      <td>RESTIGOUCHE</td>\n",
       "      <td>1</td>\n",
       "      <td>1</td>\n",
       "      <td>1</td>\n",
       "      <td>1.000</td>\n",
       "      <td>8563340</td>\n",
       "      <td>161996</td>\n",
       "      <td>1731.000</td>\n",
       "      <td>W</td>\n",
       "      <td>RS</td>\n",
       "      <td>88.000</td>\n",
       "      <td>5.000</td>\n",
       "      <td>NaN</td>\n",
       "      <td>NaN</td>\n",
       "      <td>NaN</td>\n",
       "      <td>NaN</td>\n",
       "      <td>1.000</td>\n",
       "      <td>1</td>\n",
       "      <td>PARR</td>\n",
       "      <td>1.000</td>\n",
       "      <td>LGTHFREQ</td>\n",
       "      <td>NaN</td>\n",
       "      <td>NaN</td>\n",
       "      <td>NaN</td>\n",
       "      <td>1.000</td>\n",
       "      <td>NaN</td>\n",
       "      <td>NaN</td>\n",
       "      <td>207013</td>\n",
       "      <td>2430209</td>\n",
       "      <td>88</td>\n",
       "      <td>NaN</td>\n",
       "      <td>1.000</td>\n",
       "      <td>None</td>\n",
       "      <td>8001</td>\n",
       "      <td>&lt;NA&gt;</td>\n",
       "      <td>10.000</td>\n",
       "      <td>2.000</td>\n",
       "      <td>10861.000</td>\n",
       "      <td>1.000</td>\n",
       "      <td>1.000</td>\n",
       "      <td>2.000</td>\n",
       "    </tr>\n",
       "    <tr>\n",
       "      <th>74663</th>\n",
       "      <td>GD_207015</td>\n",
       "      <td>2000-07-12</td>\n",
       "      <td>2000</td>\n",
       "      <td>53</td>\n",
       "      <td>RESTIGOUCHE</td>\n",
       "      <td>1</td>\n",
       "      <td>1</td>\n",
       "      <td>1</td>\n",
       "      <td>1.000</td>\n",
       "      <td>8563341</td>\n",
       "      <td>161996</td>\n",
       "      <td>1731.000</td>\n",
       "      <td>W</td>\n",
       "      <td>RS</td>\n",
       "      <td>93.000</td>\n",
       "      <td>5.000</td>\n",
       "      <td>NaN</td>\n",
       "      <td>NaN</td>\n",
       "      <td>NaN</td>\n",
       "      <td>NaN</td>\n",
       "      <td>1.000</td>\n",
       "      <td>1</td>\n",
       "      <td>PARR</td>\n",
       "      <td>1.000</td>\n",
       "      <td>LGTHFREQ</td>\n",
       "      <td>NaN</td>\n",
       "      <td>NaN</td>\n",
       "      <td>NaN</td>\n",
       "      <td>1.000</td>\n",
       "      <td>NaN</td>\n",
       "      <td>NaN</td>\n",
       "      <td>207015</td>\n",
       "      <td>2430210</td>\n",
       "      <td>93</td>\n",
       "      <td>NaN</td>\n",
       "      <td>1.000</td>\n",
       "      <td>None</td>\n",
       "      <td>8001</td>\n",
       "      <td>&lt;NA&gt;</td>\n",
       "      <td>10.000</td>\n",
       "      <td>2.000</td>\n",
       "      <td>10861.000</td>\n",
       "      <td>1.000</td>\n",
       "      <td>1.000</td>\n",
       "      <td>2.000</td>\n",
       "    </tr>\n",
       "    <tr>\n",
       "      <th>74664</th>\n",
       "      <td>GD_207016</td>\n",
       "      <td>2000-07-12</td>\n",
       "      <td>2000</td>\n",
       "      <td>53</td>\n",
       "      <td>RESTIGOUCHE</td>\n",
       "      <td>1</td>\n",
       "      <td>1</td>\n",
       "      <td>1</td>\n",
       "      <td>0.500</td>\n",
       "      <td>8563308</td>\n",
       "      <td>161996</td>\n",
       "      <td>1731.000</td>\n",
       "      <td>W</td>\n",
       "      <td>RS</td>\n",
       "      <td>95.000</td>\n",
       "      <td>1.000</td>\n",
       "      <td>NaN</td>\n",
       "      <td>NaN</td>\n",
       "      <td>NaN</td>\n",
       "      <td>NaN</td>\n",
       "      <td>2.000</td>\n",
       "      <td>1</td>\n",
       "      <td>PARR</td>\n",
       "      <td>1.000</td>\n",
       "      <td>LGTHFREQ</td>\n",
       "      <td>NaN</td>\n",
       "      <td>NaN</td>\n",
       "      <td>NaN</td>\n",
       "      <td>1.000</td>\n",
       "      <td>NaN</td>\n",
       "      <td>NaN</td>\n",
       "      <td>207016</td>\n",
       "      <td>2430211</td>\n",
       "      <td>95</td>\n",
       "      <td>NaN</td>\n",
       "      <td>1.000</td>\n",
       "      <td>None</td>\n",
       "      <td>8001</td>\n",
       "      <td>&lt;NA&gt;</td>\n",
       "      <td>10.000</td>\n",
       "      <td>2.000</td>\n",
       "      <td>10860.000</td>\n",
       "      <td>1.000</td>\n",
       "      <td>1.000</td>\n",
       "      <td>2.000</td>\n",
       "    </tr>\n",
       "    <tr>\n",
       "      <th>74665</th>\n",
       "      <td>GD_207017</td>\n",
       "      <td>2000-07-12</td>\n",
       "      <td>2000</td>\n",
       "      <td>53</td>\n",
       "      <td>RESTIGOUCHE</td>\n",
       "      <td>1</td>\n",
       "      <td>1</td>\n",
       "      <td>1</td>\n",
       "      <td>0.500</td>\n",
       "      <td>8563309</td>\n",
       "      <td>161996</td>\n",
       "      <td>1731.000</td>\n",
       "      <td>W</td>\n",
       "      <td>RS</td>\n",
       "      <td>99.000</td>\n",
       "      <td>1.000</td>\n",
       "      <td>NaN</td>\n",
       "      <td>NaN</td>\n",
       "      <td>NaN</td>\n",
       "      <td>NaN</td>\n",
       "      <td>2.000</td>\n",
       "      <td>1</td>\n",
       "      <td>PARR</td>\n",
       "      <td>1.000</td>\n",
       "      <td>LGTHFREQ</td>\n",
       "      <td>NaN</td>\n",
       "      <td>NaN</td>\n",
       "      <td>NaN</td>\n",
       "      <td>1.000</td>\n",
       "      <td>NaN</td>\n",
       "      <td>NaN</td>\n",
       "      <td>207017</td>\n",
       "      <td>2430212</td>\n",
       "      <td>99</td>\n",
       "      <td>NaN</td>\n",
       "      <td>1.000</td>\n",
       "      <td>None</td>\n",
       "      <td>8001</td>\n",
       "      <td>&lt;NA&gt;</td>\n",
       "      <td>10.000</td>\n",
       "      <td>2.000</td>\n",
       "      <td>10860.000</td>\n",
       "      <td>1.000</td>\n",
       "      <td>1.000</td>\n",
       "      <td>2.000</td>\n",
       "    </tr>\n",
       "  </tbody>\n",
       "</table>\n",
       "<p>74666 rows × 45 columns</p>\n",
       "</div>"
      ],
      "text/plain": [
       "          old_id   DATETIME  SURVEY SITE CATCHMENT_NAME  CATCHMENT_INDEX  \\\n",
       "0         GD_202 1970-06-29    1970    7      MIRAMICHI                2   \n",
       "1         GD_202 1970-06-29    1970    7      MIRAMICHI                2   \n",
       "2         GD_202 1970-06-29    1970    7      MIRAMICHI                2   \n",
       "3         GD_202 1970-06-29    1970    7      MIRAMICHI                2   \n",
       "4         GD_202 1970-06-29    1970    7      MIRAMICHI                2   \n",
       "...          ...        ...     ...  ...            ...              ...   \n",
       "74661  GD_207010 2000-07-12    2000   53    RESTIGOUCHE                1   \n",
       "74662  GD_207013 2000-07-12    2000   53    RESTIGOUCHE                1   \n",
       "74663  GD_207015 2000-07-12    2000   53    RESTIGOUCHE                1   \n",
       "74664  GD_207016 2000-07-12    2000   53    RESTIGOUCHE                1   \n",
       "74665  GD_207017 2000-07-12    2000   53    RESTIGOUCHE                1   \n",
       "\n",
       "       SURVEY_TYPE  SITE_EVENT_CODE  SWEEP_NUMBER RECORD_IDENTIFIER  \\\n",
       "0                1                1         1.000           8624004   \n",
       "1                1                1         1.000           8624004   \n",
       "2                1                1         1.000           8624004   \n",
       "3                1                1         1.000           8624004   \n",
       "4                1                1         1.000           8624004   \n",
       "...            ...              ...           ...               ...   \n",
       "74661            1                1         1.000           8563339   \n",
       "74662            1                1         1.000           8563340   \n",
       "74663            1                1         1.000           8563341   \n",
       "74664            1                1         0.500           8563308   \n",
       "74665            1                1         0.500           8563309   \n",
       "\n",
       "      SPECIES_ITIS_CODE  SPECIES_LIFE_STAGE ORIGIN FISH_STATUS  FORK_LENGTH  \\\n",
       "0                161996            1731.000      W          RS       33.000   \n",
       "1                161996            1731.000      W          RS       33.000   \n",
       "2                161996            1731.000      W          RS       33.000   \n",
       "3                161996            1731.000      W          RS       33.000   \n",
       "4                161996            1731.000      W          RS       33.000   \n",
       "...                 ...                 ...    ...         ...          ...   \n",
       "74661            161996            1731.000      W          RS       78.000   \n",
       "74662            161996            1731.000      W          RS       88.000   \n",
       "74663            161996            1731.000      W          RS       93.000   \n",
       "74664            161996            1731.000      W          RS       95.000   \n",
       "74665            161996            1731.000      W          RS       99.000   \n",
       "\n",
       "       FORK_LENGTH_INTERVAL_WIDTH  TOTAL_LENGTH  WEIGHT  WEIGHT_RESOLUTION  \\\n",
       "0                           5.000           NaN     NaN                NaN   \n",
       "1                           5.000           NaN     NaN                NaN   \n",
       "2                           5.000           NaN     NaN                NaN   \n",
       "3                           5.000           NaN     NaN                NaN   \n",
       "4                           5.000           NaN     NaN                NaN   \n",
       "...                           ...           ...     ...                ...   \n",
       "74661                       5.000           NaN     NaN                NaN   \n",
       "74662                       5.000           NaN     NaN                NaN   \n",
       "74663                       5.000           NaN     NaN                NaN   \n",
       "74664                       1.000           NaN     NaN                NaN   \n",
       "74665                       1.000           NaN     NaN                NaN   \n",
       "\n",
       "       WEIGHT_PRECISION  FILE_TYPE  CATCH_FREQUENCY FISH_SIZE  RIVER_AGE  \\\n",
       "0                   NaN      1.000                6       FRY      0.000   \n",
       "1                   NaN      1.000                6       FRY      0.000   \n",
       "2                   NaN      1.000                6       FRY      0.000   \n",
       "3                   NaN      1.000                6       FRY      0.000   \n",
       "4                   NaN      1.000                6       FRY      0.000   \n",
       "...                 ...        ...              ...       ...        ...   \n",
       "74661               NaN      1.000                1      PARR      1.000   \n",
       "74662               NaN      1.000                1      PARR      1.000   \n",
       "74663               NaN      1.000                1      PARR      1.000   \n",
       "74664               NaN      2.000                1      PARR      1.000   \n",
       "74665               NaN      2.000                1      PARR      1.000   \n",
       "\n",
       "       AGE_TYPE  SEX  MATURITY BIOLOGICAL_REMARKS  BIOLOGICAL_SAMPLE  \\\n",
       "0      LGTHFREQ  NaN       NaN                NaN              1.000   \n",
       "1      LGTHFREQ  NaN       NaN                NaN              1.000   \n",
       "2      LGTHFREQ  NaN       NaN                NaN              1.000   \n",
       "3      LGTHFREQ  NaN       NaN                NaN              1.000   \n",
       "4      LGTHFREQ  NaN       NaN                NaN              1.000   \n",
       "...         ...  ...       ...                ...                ...   \n",
       "74661  LGTHFREQ  NaN       NaN                NaN              1.000   \n",
       "74662  LGTHFREQ  NaN       NaN                NaN              1.000   \n",
       "74663  LGTHFREQ  NaN       NaN                NaN              1.000   \n",
       "74664  LGTHFREQ  NaN       NaN                NaN              1.000   \n",
       "74665  LGTHFREQ  NaN       NaN                NaN              1.000   \n",
       "\n",
       "      SCALE_SAMPLE SCALE_SAMPLE_ID   GD_ID       id  fork_length  weight  \\\n",
       "0              NaN             NaN     202  2219941           33     NaN   \n",
       "1              NaN             NaN     202  2219942           33     NaN   \n",
       "2              NaN             NaN     202  2219943           33     NaN   \n",
       "3              NaN             NaN     202  2219944           33     NaN   \n",
       "4              NaN             NaN     202  2219945           33     NaN   \n",
       "...            ...             ...     ...      ...          ...     ...   \n",
       "74661          NaN             NaN  207010  2430208           78     NaN   \n",
       "74662          NaN             NaN  207013  2430209           88     NaN   \n",
       "74663          NaN             NaN  207015  2430210           93     NaN   \n",
       "74664          NaN             NaN  207016  2430211           95     NaN   \n",
       "74665          NaN             NaN  207017  2430212           99     NaN   \n",
       "\n",
       "       river_age notes  sample_id  sex_id  status_id  age_type  sweep_id  \\\n",
       "0          0.000  None       4404    <NA>     10.000     2.000   305.000   \n",
       "1          0.000  None       4404    <NA>     10.000     2.000   305.000   \n",
       "2          0.000  None       4404    <NA>     10.000     2.000   305.000   \n",
       "3          0.000  None       4404    <NA>     10.000     2.000   305.000   \n",
       "4          0.000  None       4404    <NA>     10.000     2.000   305.000   \n",
       "...          ...   ...        ...     ...        ...       ...       ...   \n",
       "74661      1.000  None       8001    <NA>     10.000     2.000 10861.000   \n",
       "74662      1.000  None       8001    <NA>     10.000     2.000 10861.000   \n",
       "74663      1.000  None       8001    <NA>     10.000     2.000 10861.000   \n",
       "74664      1.000  None       8001    <NA>     10.000     2.000 10860.000   \n",
       "74665      1.000  None       8001    <NA>     10.000     2.000 10860.000   \n",
       "\n",
       "       life_stage_id  smart_river_age  smart_river_age_type  \n",
       "0             11.000            0.000                 2.000  \n",
       "1             11.000            0.000                 2.000  \n",
       "2             11.000            0.000                 2.000  \n",
       "3             11.000            0.000                 2.000  \n",
       "4             11.000            0.000                 2.000  \n",
       "...              ...              ...                   ...  \n",
       "74661          1.000            1.000                 2.000  \n",
       "74662          1.000            1.000                 2.000  \n",
       "74663          1.000            1.000                 2.000  \n",
       "74664          1.000            1.000                 2.000  \n",
       "74665          1.000            1.000                 2.000  \n",
       "\n",
       "[74666 rows x 45 columns]"
      ]
     },
     "execution_count": 94,
     "metadata": {},
     "output_type": "execute_result"
    }
   ],
   "source": [
    "pd.merge(df_archive, df_spec, on='old_id')"
   ]
  },
  {
   "cell_type": "code",
   "execution_count": 95,
   "id": "6e8ba2c8",
   "metadata": {},
   "outputs": [],
   "source": [
    "# these need to be excluded I guess... hmmmmm....."
   ]
  },
  {
   "cell_type": "code",
   "execution_count": null,
   "id": "4f0fcca8",
   "metadata": {},
   "outputs": [],
   "source": []
  },
  {
   "cell_type": "code",
   "execution_count": null,
   "id": "56cbac22",
   "metadata": {},
   "outputs": [],
   "source": []
  },
  {
   "cell_type": "code",
   "execution_count": null,
   "id": "1e0a77d0",
   "metadata": {},
   "outputs": [],
   "source": []
  },
  {
   "cell_type": "markdown",
   "id": "d9170419",
   "metadata": {},
   "source": [
    "# could we get better matches using historical data instead of dm_apps data?"
   ]
  },
  {
   "cell_type": "code",
   "execution_count": null,
   "id": "c91f5999",
   "metadata": {},
   "outputs": [],
   "source": []
  },
  {
   "cell_type": "code",
   "execution_count": null,
   "id": "83a522f5",
   "metadata": {},
   "outputs": [],
   "source": []
  },
  {
   "cell_type": "code",
   "execution_count": null,
   "id": "0fd4a116",
   "metadata": {},
   "outputs": [],
   "source": []
  },
  {
   "cell_type": "code",
   "execution_count": null,
   "id": "547ef3ed",
   "metadata": {},
   "outputs": [],
   "source": []
  },
  {
   "cell_type": "code",
   "execution_count": null,
   "id": "c58dd5b0",
   "metadata": {},
   "outputs": [],
   "source": []
  },
  {
   "cell_type": "code",
   "execution_count": null,
   "id": "64ecef36",
   "metadata": {},
   "outputs": [],
   "source": []
  },
  {
   "cell_type": "code",
   "execution_count": null,
   "id": "8d77106f",
   "metadata": {},
   "outputs": [],
   "source": []
  },
  {
   "cell_type": "code",
   "execution_count": null,
   "id": "11244bab",
   "metadata": {},
   "outputs": [],
   "source": []
  },
  {
   "cell_type": "code",
   "execution_count": null,
   "id": "79307555",
   "metadata": {},
   "outputs": [],
   "source": []
  },
  {
   "cell_type": "code",
   "execution_count": null,
   "id": "6b953da1",
   "metadata": {},
   "outputs": [],
   "source": []
  },
  {
   "cell_type": "code",
   "execution_count": null,
   "id": "56d064eb",
   "metadata": {},
   "outputs": [],
   "source": []
  },
  {
   "cell_type": "code",
   "execution_count": null,
   "id": "b7bd8c32",
   "metadata": {},
   "outputs": [],
   "source": []
  },
  {
   "cell_type": "code",
   "execution_count": null,
   "id": "70869234",
   "metadata": {},
   "outputs": [],
   "source": []
  },
  {
   "cell_type": "code",
   "execution_count": null,
   "id": "7036dee0",
   "metadata": {},
   "outputs": [],
   "source": []
  },
  {
   "cell_type": "code",
   "execution_count": null,
   "id": "6ebf0f37",
   "metadata": {},
   "outputs": [],
   "source": []
  },
  {
   "cell_type": "markdown",
   "id": "da4f9f72",
   "metadata": {},
   "source": [
    "# samples with potential matches"
   ]
  },
  {
   "cell_type": "code",
   "execution_count": 4,
   "id": "00f36cd0",
   "metadata": {},
   "outputs": [
    {
     "data": {
      "text/plain": [
       "(793, 775)"
      ]
     },
     "execution_count": 4,
     "metadata": {},
     "output_type": "execute_result"
    }
   ],
   "source": [
    "len(df_hist.sample_id.unique()), len(df_spec.sample_id.unique())"
   ]
  },
  {
   "cell_type": "markdown",
   "id": "4462d19e",
   "metadata": {},
   "source": [
    "# old_id will not work"
   ]
  },
  {
   "cell_type": "code",
   "execution_count": 5,
   "id": "a4f2a1be",
   "metadata": {},
   "outputs": [
    {
     "data": {
      "text/html": [
       "<div>\n",
       "<style scoped>\n",
       "    .dataframe tbody tr th:only-of-type {\n",
       "        vertical-align: middle;\n",
       "    }\n",
       "\n",
       "    .dataframe tbody tr th {\n",
       "        vertical-align: top;\n",
       "    }\n",
       "\n",
       "    .dataframe thead th {\n",
       "        text-align: right;\n",
       "    }\n",
       "</style>\n",
       "<table border=\"1\" class=\"dataframe\">\n",
       "  <thead>\n",
       "    <tr style=\"text-align: right;\">\n",
       "      <th></th>\n",
       "      <th>id_x</th>\n",
       "      <th>fork_length_x</th>\n",
       "      <th>total_length</th>\n",
       "      <th>weight_x</th>\n",
       "      <th>age_type_x</th>\n",
       "      <th>river_age_x</th>\n",
       "      <th>notes_x</th>\n",
       "      <th>old_id</th>\n",
       "      <th>life_stage_id_x</th>\n",
       "      <th>sample_id_x</th>\n",
       "      <th>sex_id_x</th>\n",
       "      <th>status_id_x</th>\n",
       "      <th>id_y</th>\n",
       "      <th>fork_length_y</th>\n",
       "      <th>weight_y</th>\n",
       "      <th>river_age_y</th>\n",
       "      <th>notes_y</th>\n",
       "      <th>sample_id_y</th>\n",
       "      <th>sex_id_y</th>\n",
       "      <th>status_id_y</th>\n",
       "      <th>age_type_y</th>\n",
       "      <th>sweep_id</th>\n",
       "      <th>life_stage_id_y</th>\n",
       "      <th>smart_river_age</th>\n",
       "      <th>smart_river_age_type</th>\n",
       "    </tr>\n",
       "  </thead>\n",
       "  <tbody>\n",
       "  </tbody>\n",
       "</table>\n",
       "</div>"
      ],
      "text/plain": [
       "Empty DataFrame\n",
       "Columns: [id_x, fork_length_x, total_length, weight_x, age_type_x, river_age_x, notes_x, old_id, life_stage_id_x, sample_id_x, sex_id_x, status_id_x, id_y, fork_length_y, weight_y, river_age_y, notes_y, sample_id_y, sex_id_y, status_id_y, age_type_y, sweep_id, life_stage_id_y, smart_river_age, smart_river_age_type]\n",
       "Index: []"
      ]
     },
     "execution_count": 5,
     "metadata": {},
     "output_type": "execute_result"
    }
   ],
   "source": [
    "# old_id never matches\n",
    "pd.merge(df_hist, df_spec, on='old_id')"
   ]
  },
  {
   "cell_type": "code",
   "execution_count": 6,
   "id": "43cfb6df",
   "metadata": {},
   "outputs": [],
   "source": [
    "df_hist = df_hist.drop('old_id', axis=1)\n",
    "df_spec = df_spec.drop('old_id', axis=1)"
   ]
  },
  {
   "cell_type": "markdown",
   "id": "c469b1bf",
   "metadata": {},
   "source": [
    "# how to identify distinct fish for matching"
   ]
  },
  {
   "cell_type": "code",
   "execution_count": 7,
   "id": "34afd86d",
   "metadata": {},
   "outputs": [
    {
     "data": {
      "text/plain": [
       "count   14660.000\n",
       "mean        1.877\n",
       "std         2.399\n",
       "min         1.000\n",
       "50%         1.000\n",
       "65%         1.000\n",
       "70%         2.000\n",
       "90%         4.000\n",
       "max        50.000\n",
       "Name: id, dtype: float64"
      ]
     },
     "execution_count": 7,
     "metadata": {},
     "output_type": "execute_result"
    }
   ],
   "source": [
    "# distinct matches for 60% of hist fish\n",
    "df_hist.groupby(['sample_id', 'fork_length', 'weight', 'sex_id', 'life_stage_id', 'river_age', 'status_id'], dropna=False).count().id.describe(percentiles=[.65, .70, .90])"
   ]
  },
  {
   "cell_type": "code",
   "execution_count": 8,
   "id": "bf0abe62",
   "metadata": {},
   "outputs": [
    {
     "data": {
      "text/plain": [
       "count   14522.000\n",
       "mean        1.895\n",
       "std         2.413\n",
       "min         1.000\n",
       "50%         1.000\n",
       "65%         1.000\n",
       "70%         2.000\n",
       "90%         4.000\n",
       "max        50.000\n",
       "Name: id, dtype: float64"
      ]
     },
     "execution_count": 8,
     "metadata": {},
     "output_type": "execute_result"
    }
   ],
   "source": [
    "df_hist.groupby(['sample_id', 'fork_length', 'weight', 'sex_id'], dropna=False).count().id.describe(percentiles=[.65, .70, .90])"
   ]
  },
  {
   "cell_type": "code",
   "execution_count": 9,
   "id": "40771e6f",
   "metadata": {},
   "outputs": [
    {
     "data": {
      "text/plain": [
       "count   14433.000\n",
       "mean        1.907\n",
       "std         2.419\n",
       "min         1.000\n",
       "50%         1.000\n",
       "65%         1.000\n",
       "70%         2.000\n",
       "90%         4.000\n",
       "max        50.000\n",
       "Name: id, dtype: float64"
      ]
     },
     "execution_count": 9,
     "metadata": {},
     "output_type": "execute_result"
    }
   ],
   "source": [
    "df_hist.groupby(['sample_id', 'fork_length', 'weight'], dropna=False).count().id.describe(percentiles=[.65, .70, .90])"
   ]
  },
  {
   "cell_type": "code",
   "execution_count": 10,
   "id": "50034e4d",
   "metadata": {},
   "outputs": [
    {
     "data": {
      "text/plain": [
       "count   8770.000\n",
       "mean       8.514\n",
       "std       19.040\n",
       "min        1.000\n",
       "30%        1.000\n",
       "35%        2.000\n",
       "50%        3.000\n",
       "max      425.000\n",
       "Name: id, dtype: float64"
      ]
     },
     "execution_count": 10,
     "metadata": {},
     "output_type": "execute_result"
    }
   ],
   "source": [
    "groupby = ['sample_id', 'fork_length', 'weight', 'sex_id', 'life_stage_id', 'river_age', 'status_id']\n",
    "df_spec.groupby(groupby, dropna=False).count().id.describe(percentiles=[.30, .35])"
   ]
  },
  {
   "cell_type": "code",
   "execution_count": 11,
   "id": "1e9b999f",
   "metadata": {},
   "outputs": [
    {
     "data": {
      "text/plain": [
       "count   8768.000\n",
       "mean       8.516\n",
       "std       19.042\n",
       "min        1.000\n",
       "30%        1.000\n",
       "35%        2.000\n",
       "50%        3.000\n",
       "max      425.000\n",
       "Name: id, dtype: float64"
      ]
     },
     "execution_count": 11,
     "metadata": {},
     "output_type": "execute_result"
    }
   ],
   "source": [
    "groupby = ['sample_id', 'fork_length', 'weight', 'sex_id']\n",
    "df_spec.groupby(groupby, dropna=False).count().id.describe(percentiles=[.30, .35])"
   ]
  },
  {
   "cell_type": "code",
   "execution_count": 12,
   "id": "912bd906",
   "metadata": {},
   "outputs": [
    {
     "data": {
      "text/plain": [
       "count   8767.000\n",
       "mean       8.517\n",
       "std       19.043\n",
       "min        1.000\n",
       "30%        1.000\n",
       "35%        2.000\n",
       "50%        3.000\n",
       "max      425.000\n",
       "Name: id, dtype: float64"
      ]
     },
     "execution_count": 12,
     "metadata": {},
     "output_type": "execute_result"
    }
   ],
   "source": [
    "groupby = ['sample_id', 'fork_length', 'weight']\n",
    "df_spec.groupby(groupby, dropna=False).count().id.describe(percentiles=[.30, .35])"
   ]
  },
  {
   "cell_type": "markdown",
   "id": "5b1d1105",
   "metadata": {},
   "source": [
    "### percentages of distinct fish\n",
    "* about 60% of historical fish groupings can be uniquely identified by length, weight, and id\n",
    "* about 30% of specimen fish groupings can be uniquely identified by length, weight, and id\n",
    "* sex_id differentiates at least one indistinct example, so just add it\n",
    "* maybe exact matches don't matter - same attributes, same sample, maybe just matching in order would work"
   ]
  },
  {
   "cell_type": "code",
   "execution_count": 13,
   "id": "25415f2d",
   "metadata": {},
   "outputs": [],
   "source": [
    "df_hist['matching_id'] = df_hist['sample_id'].astype(str) + df_hist['fork_length'].astype(str) + df_hist['weight'].fillna(0).astype(str) + df_hist['sex_id'].fillna(0).astype(str)\n",
    "df_hist['matching_id'] = df_hist['matching_id'].str.replace('.', '_', regex=False)\n",
    "df_hist['distinct'] = ~df_hist.matching_id.isin(df_hist[df_hist.matching_id.duplicated()].matching_id.unique())"
   ]
  },
  {
   "cell_type": "code",
   "execution_count": 14,
   "id": "5cf8ede0",
   "metadata": {},
   "outputs": [],
   "source": [
    "df_spec['matching_id'] = df_spec['sample_id'].astype(str) + df_spec['fork_length'].astype(str) + df_spec['weight'].fillna(0).astype(str) + df_spec['sex_id'].fillna(0).astype(str)\n",
    "df_spec['matching_id'] = df_spec['matching_id'].str.replace('.', '_', regex=False)\n",
    "df_spec['distinct'] = ~df_spec.matching_id.isin(df_spec[df_spec.matching_id.duplicated()].matching_id.unique())"
   ]
  },
  {
   "cell_type": "code",
   "execution_count": 15,
   "id": "1dd66bef",
   "metadata": {},
   "outputs": [],
   "source": [
    "spec_ids = list(df_spec.matching_id.unique())\n",
    "hist_ids = list(df_hist.matching_id.unique())"
   ]
  },
  {
   "cell_type": "code",
   "execution_count": 16,
   "id": "33e06280",
   "metadata": {},
   "outputs": [],
   "source": [
    "# how many matches are distinct?\n",
    "matches = [x for x in spec_ids if x in hist_ids]"
   ]
  },
  {
   "cell_type": "code",
   "execution_count": 17,
   "id": "a81c2a0c",
   "metadata": {},
   "outputs": [
    {
     "data": {
      "text/plain": [
       "False    32015\n",
       "True       358\n",
       "Name: distinct, dtype: int64"
      ]
     },
     "execution_count": 17,
     "metadata": {},
     "output_type": "execute_result"
    }
   ],
   "source": [
    "df_spec[df_spec.matching_id.isin(matches)].distinct.value_counts()"
   ]
  },
  {
   "cell_type": "code",
   "execution_count": 18,
   "id": "0dbfea35",
   "metadata": {},
   "outputs": [
    {
     "data": {
      "text/plain": [
       "False    4183\n",
       "True     1041\n",
       "Name: distinct, dtype: int64"
      ]
     },
     "execution_count": 18,
     "metadata": {},
     "output_type": "execute_result"
    }
   ],
   "source": [
    "df_hist[df_hist.matching_id.isin(matches)].distinct.value_counts()"
   ]
  },
  {
   "cell_type": "code",
   "execution_count": 19,
   "id": "cfda2e9b",
   "metadata": {},
   "outputs": [
    {
     "data": {
      "text/plain": [
       "(32373, 74666)"
      ]
     },
     "execution_count": 19,
     "metadata": {},
     "output_type": "execute_result"
    }
   ],
   "source": [
    "# indistinct matches - from specimen\n",
    "df_spec[df_spec.matching_id.isin(matches)].shape[0], df_spec.shape[0]"
   ]
  },
  {
   "cell_type": "code",
   "execution_count": 20,
   "id": "d574310c",
   "metadata": {},
   "outputs": [
    {
     "data": {
      "text/plain": [
       "(5224, 27524)"
      ]
     },
     "execution_count": 20,
     "metadata": {},
     "output_type": "execute_result"
    }
   ],
   "source": [
    "# indistinct matches - from historical\n",
    "df_hist[df_hist.matching_id.isin(matches)].shape[0], df_hist.shape[0]"
   ]
  },
  {
   "cell_type": "code",
   "execution_count": 21,
   "id": "0ab8c79a",
   "metadata": {},
   "outputs": [
    {
     "data": {
      "text/plain": [
       "(6706, 12460)"
      ]
     },
     "execution_count": 21,
     "metadata": {},
     "output_type": "execute_result"
    }
   ],
   "source": [
    "# missing from\n",
    "len([x for x in spec_ids if x not in hist_ids]), len([x for x in hist_ids if x not in spec_ids])\n",
    "# hist, spec"
   ]
  },
  {
   "cell_type": "code",
   "execution_count": 22,
   "id": "fc94eeb4",
   "metadata": {},
   "outputs": [
    {
     "data": {
      "text/plain": [
       "(2062, 2062)"
      ]
     },
     "execution_count": 22,
     "metadata": {},
     "output_type": "execute_result"
    }
   ],
   "source": [
    "# matched\n",
    "len([x for x in spec_ids if x in hist_ids]), len([x for x in hist_ids if x in spec_ids])"
   ]
  },
  {
   "cell_type": "code",
   "execution_count": 23,
   "id": "c74992a3",
   "metadata": {},
   "outputs": [
    {
     "data": {
      "text/plain": [
       "(14522, 8768)"
      ]
     },
     "execution_count": 23,
     "metadata": {},
     "output_type": "execute_result"
    }
   ],
   "source": [
    "# total number of matching ids\n",
    "len(hist_ids), len(spec_ids)"
   ]
  },
  {
   "cell_type": "code",
   "execution_count": 24,
   "id": "cfdcb6d9",
   "metadata": {},
   "outputs": [
    {
     "data": {
      "text/plain": [
       "271"
      ]
     },
     "execution_count": 24,
     "metadata": {},
     "output_type": "execute_result"
    }
   ],
   "source": [
    "# distinct exact matches\n",
    "distinct_matched_hist = list(df_hist[(df_hist.matching_id.isin(matches)) & df_hist.distinct==True].matching_id)\n",
    "df_spec[(df_spec.matching_id.isin(distinct_matched_hist)) & (df_spec.distinct==True)].shape[0]"
   ]
  },
  {
   "cell_type": "markdown",
   "id": "bbe9a516",
   "metadata": {},
   "source": [
    "# let's build a throwaway html to list all of the potential matches\n",
    "\n",
    "    -- list of sample id with historical and specimen data\n",
    "    SELECT trapnet_sample.id\n",
    "        FROM trapnet_sample\n",
    "            JOIN trapnet_biologicaldetailing ON trapnet_biologicaldetailing.sample_id = trapnet_sample.id\n",
    "            JOIN trapnet_specimen ON trapnet_specimen.sample_id = trapnet_sample.id\n",
    "    GROUP BY trapnet_sample.id"
   ]
  },
  {
   "cell_type": "code",
   "execution_count": 25,
   "id": "307b3e95",
   "metadata": {},
   "outputs": [],
   "source": [
    "# df_matching_id = pd.read_csv(r'.\\csv\\SQL_matching_id.csv')\n",
    "# link_template = '<a href=\"http://127.0.0.1:8000/en/trapnet/samples/{}/view/\">{}</a>'\n",
    "\n",
    "# with open('all_matches.html', 'w') as f:\n",
    "#     for i, row in df_matching_id.iterrows():\n",
    "#         pk = row['id']\n",
    "#         f.write(link_template.format(pk, pk) + '\\n')"
   ]
  }
 ],
 "metadata": {
  "kernelspec": {
   "display_name": "Python 3 (ipykernel)",
   "language": "python",
   "name": "python3"
  },
  "language_info": {
   "codemirror_mode": {
    "name": "ipython",
    "version": 3
   },
   "file_extension": ".py",
   "mimetype": "text/x-python",
   "name": "python",
   "nbconvert_exporter": "python",
   "pygments_lexer": "ipython3",
   "version": "3.9.13"
  }
 },
 "nbformat": 4,
 "nbformat_minor": 5
}
