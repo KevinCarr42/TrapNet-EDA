{
 "cells": [
  {
   "cell_type": "code",
   "execution_count": 2,
   "id": "1ffe74b9",
   "metadata": {},
   "outputs": [
    {
     "data": {
      "text/html": [
       "<style>.container { width:100% !important; }</style>"
      ],
      "text/plain": [
       "<IPython.core.display.HTML object>"
      ]
     },
     "metadata": {},
     "output_type": "display_data"
    },
    {
     "data": {
      "text/html": [
       "<style>.dataframe td { white-space: nowrap; }</style>"
      ],
      "text/plain": [
       "<IPython.core.display.HTML object>"
      ]
     },
     "metadata": {},
     "output_type": "display_data"
    }
   ],
   "source": [
    "import numpy as np\n",
    "import pandas as pd\n",
    "import matplotlib.pyplot as plt\n",
    "import matplotlib as mpl\n",
    "import seaborn as sns\n",
    "\n",
    "sns.set_theme()\n",
    "\n",
    "# jupyter notebook full-width display\n",
    "from IPython.core.display import display, HTML\n",
    "display(HTML(\"<style>.container { width:100% !important; }</style>\"))\n",
    "\n",
    "# no text wrapping\n",
    "display(HTML(\"<style>.dataframe td { white-space: nowrap; }</style>\"))\n",
    "\n",
    "# pandas formatting\n",
    "pd.set_option('display.float_format', '{:.3f}'.format)\n",
    "pd.set_option('display.max_columns', None)\n",
    "pd.set_option('display.max_rows', 300)\n",
    "pd.set_option('display.max_colwidth', 200)"
   ]
  },
  {
   "cell_type": "code",
   "execution_count": 2,
   "id": "95a2f2ee",
   "metadata": {},
   "outputs": [],
   "source": [
    "df_hist = pd.read_csv(r'.\\csv\\trapnet_biologicaldetailing_202302231329.csv', low_memory=False)\n",
    "df_spec = pd.read_csv(r'.\\csv\\trapnet_specimen_202302231329.csv', low_memory=False)\n",
    "\n",
    "# historical data without trivial fields (fields with only one entry)\n",
    "unmatchable_hist = ['created_at', 'updated_at']\n",
    "df_hist = df_hist.drop(unmatchable_hist, axis=1).loc[:, df_hist.nunique() > 1]\n",
    "hist_sample_id_list = sorted(list(df_hist.sample_id.unique()))\n",
    "\n",
    "# all species in historical data are 79 (atlantic salmon)\n",
    "unmatchable_spec = ['created_at', 'updated_at', 'created_by_id', 'updated_by_id']\n",
    "df_spec = df_spec[(df_spec.species_id==79) & (df_spec.sample_id.isin(hist_sample_id_list))].reset_index(drop=True)\n",
    "df_spec = df_spec.drop(unmatchable_spec, axis=1).loc[:, df_spec.nunique() > 1]"
   ]
  },
  {
   "cell_type": "code",
   "execution_count": 3,
   "id": "c3156359",
   "metadata": {},
   "outputs": [],
   "source": [
    "# cast to int where appropriate\n",
    "df_hist[['fork_length', 'sex_id']] = df_hist[['fork_length', 'sex_id']].astype('Int64')\n",
    "df_spec[['fork_length', 'sex_id']] = df_spec[['fork_length', 'sex_id']].astype('Int64')"
   ]
  },
  {
   "cell_type": "markdown",
   "id": "da4f9f72",
   "metadata": {},
   "source": [
    "# samples with potential matches"
   ]
  },
  {
   "cell_type": "code",
   "execution_count": 4,
   "id": "00f36cd0",
   "metadata": {},
   "outputs": [
    {
     "data": {
      "text/plain": [
       "(793, 775)"
      ]
     },
     "execution_count": 4,
     "metadata": {},
     "output_type": "execute_result"
    }
   ],
   "source": [
    "len(df_hist.sample_id.unique()), len(df_spec.sample_id.unique())"
   ]
  },
  {
   "cell_type": "markdown",
   "id": "4462d19e",
   "metadata": {},
   "source": [
    "# old_id will not work"
   ]
  },
  {
   "cell_type": "code",
   "execution_count": 5,
   "id": "a4f2a1be",
   "metadata": {},
   "outputs": [
    {
     "data": {
      "text/html": [
       "<div>\n",
       "<style scoped>\n",
       "    .dataframe tbody tr th:only-of-type {\n",
       "        vertical-align: middle;\n",
       "    }\n",
       "\n",
       "    .dataframe tbody tr th {\n",
       "        vertical-align: top;\n",
       "    }\n",
       "\n",
       "    .dataframe thead th {\n",
       "        text-align: right;\n",
       "    }\n",
       "</style>\n",
       "<table border=\"1\" class=\"dataframe\">\n",
       "  <thead>\n",
       "    <tr style=\"text-align: right;\">\n",
       "      <th></th>\n",
       "      <th>id_x</th>\n",
       "      <th>fork_length_x</th>\n",
       "      <th>total_length</th>\n",
       "      <th>weight_x</th>\n",
       "      <th>age_type_x</th>\n",
       "      <th>river_age_x</th>\n",
       "      <th>notes_x</th>\n",
       "      <th>old_id</th>\n",
       "      <th>life_stage_id_x</th>\n",
       "      <th>sample_id_x</th>\n",
       "      <th>sex_id_x</th>\n",
       "      <th>status_id_x</th>\n",
       "      <th>id_y</th>\n",
       "      <th>fork_length_y</th>\n",
       "      <th>weight_y</th>\n",
       "      <th>river_age_y</th>\n",
       "      <th>notes_y</th>\n",
       "      <th>sample_id_y</th>\n",
       "      <th>sex_id_y</th>\n",
       "      <th>status_id_y</th>\n",
       "      <th>age_type_y</th>\n",
       "      <th>sweep_id</th>\n",
       "      <th>life_stage_id_y</th>\n",
       "      <th>smart_river_age</th>\n",
       "      <th>smart_river_age_type</th>\n",
       "    </tr>\n",
       "  </thead>\n",
       "  <tbody>\n",
       "  </tbody>\n",
       "</table>\n",
       "</div>"
      ],
      "text/plain": [
       "Empty DataFrame\n",
       "Columns: [id_x, fork_length_x, total_length, weight_x, age_type_x, river_age_x, notes_x, old_id, life_stage_id_x, sample_id_x, sex_id_x, status_id_x, id_y, fork_length_y, weight_y, river_age_y, notes_y, sample_id_y, sex_id_y, status_id_y, age_type_y, sweep_id, life_stage_id_y, smart_river_age, smart_river_age_type]\n",
       "Index: []"
      ]
     },
     "execution_count": 5,
     "metadata": {},
     "output_type": "execute_result"
    }
   ],
   "source": [
    "# old_id never matches\n",
    "pd.merge(df_hist, df_spec, on='old_id')"
   ]
  },
  {
   "cell_type": "code",
   "execution_count": 6,
   "id": "43cfb6df",
   "metadata": {},
   "outputs": [],
   "source": [
    "df_hist = df_hist.drop('old_id', axis=1)\n",
    "df_spec = df_spec.drop('old_id', axis=1)"
   ]
  },
  {
   "cell_type": "markdown",
   "id": "c469b1bf",
   "metadata": {},
   "source": [
    "# how to identify distinct fish for matching"
   ]
  },
  {
   "cell_type": "code",
   "execution_count": 9,
   "id": "34afd86d",
   "metadata": {},
   "outputs": [
    {
     "data": {
      "text/plain": [
       "count   14660.000\n",
       "mean        1.877\n",
       "std         2.399\n",
       "min         1.000\n",
       "50%         1.000\n",
       "65%         1.000\n",
       "70%         2.000\n",
       "90%         4.000\n",
       "max        50.000\n",
       "Name: id, dtype: float64"
      ]
     },
     "execution_count": 9,
     "metadata": {},
     "output_type": "execute_result"
    }
   ],
   "source": [
    "# distinct matches for 60% of hist fish\n",
    "df_hist.groupby(['sample_id', 'fork_length', 'weight', 'sex_id', 'life_stage_id', 'river_age', 'status_id'], dropna=False).count().id.describe(percentiles=[.65, .70, .90])"
   ]
  },
  {
   "cell_type": "code",
   "execution_count": 10,
   "id": "bf0abe62",
   "metadata": {},
   "outputs": [
    {
     "data": {
      "text/plain": [
       "count   14522.000\n",
       "mean        1.895\n",
       "std         2.413\n",
       "min         1.000\n",
       "50%         1.000\n",
       "65%         1.000\n",
       "70%         2.000\n",
       "90%         4.000\n",
       "max        50.000\n",
       "Name: id, dtype: float64"
      ]
     },
     "execution_count": 10,
     "metadata": {},
     "output_type": "execute_result"
    }
   ],
   "source": [
    "df_hist.groupby(['sample_id', 'fork_length', 'weight', 'sex_id'], dropna=False).count().id.describe(percentiles=[.65, .70, .90])"
   ]
  },
  {
   "cell_type": "code",
   "execution_count": 11,
   "id": "40771e6f",
   "metadata": {},
   "outputs": [
    {
     "data": {
      "text/plain": [
       "count   14433.000\n",
       "mean        1.907\n",
       "std         2.419\n",
       "min         1.000\n",
       "50%         1.000\n",
       "65%         1.000\n",
       "70%         2.000\n",
       "90%         4.000\n",
       "max        50.000\n",
       "Name: id, dtype: float64"
      ]
     },
     "execution_count": 11,
     "metadata": {},
     "output_type": "execute_result"
    }
   ],
   "source": [
    "df_hist.groupby(['sample_id', 'fork_length', 'weight'], dropna=False).count().id.describe(percentiles=[.65, .70, .90])"
   ]
  },
  {
   "cell_type": "code",
   "execution_count": 12,
   "id": "50034e4d",
   "metadata": {},
   "outputs": [
    {
     "data": {
      "text/plain": [
       "count   8770.000\n",
       "mean       8.514\n",
       "std       19.040\n",
       "min        1.000\n",
       "30%        1.000\n",
       "35%        2.000\n",
       "50%        3.000\n",
       "max      425.000\n",
       "Name: id, dtype: float64"
      ]
     },
     "execution_count": 12,
     "metadata": {},
     "output_type": "execute_result"
    }
   ],
   "source": [
    "groupby = ['sample_id', 'fork_length', 'weight', 'sex_id', 'life_stage_id', 'river_age', 'status_id']\n",
    "df_spec.groupby(groupby, dropna=False).count().id.describe(percentiles=[.30, .35])"
   ]
  },
  {
   "cell_type": "code",
   "execution_count": 13,
   "id": "1e9b999f",
   "metadata": {},
   "outputs": [
    {
     "data": {
      "text/plain": [
       "count   8768.000\n",
       "mean       8.516\n",
       "std       19.042\n",
       "min        1.000\n",
       "30%        1.000\n",
       "35%        2.000\n",
       "50%        3.000\n",
       "max      425.000\n",
       "Name: id, dtype: float64"
      ]
     },
     "execution_count": 13,
     "metadata": {},
     "output_type": "execute_result"
    }
   ],
   "source": [
    "groupby = ['sample_id', 'fork_length', 'weight', 'sex_id']\n",
    "df_spec.groupby(groupby, dropna=False).count().id.describe(percentiles=[.30, .35])"
   ]
  },
  {
   "cell_type": "code",
   "execution_count": 14,
   "id": "912bd906",
   "metadata": {},
   "outputs": [
    {
     "data": {
      "text/plain": [
       "count   8767.000\n",
       "mean       8.517\n",
       "std       19.043\n",
       "min        1.000\n",
       "30%        1.000\n",
       "35%        2.000\n",
       "50%        3.000\n",
       "max      425.000\n",
       "Name: id, dtype: float64"
      ]
     },
     "execution_count": 14,
     "metadata": {},
     "output_type": "execute_result"
    }
   ],
   "source": [
    "groupby = ['sample_id', 'fork_length', 'weight']\n",
    "df_spec.groupby(groupby, dropna=False).count().id.describe(percentiles=[.30, .35])"
   ]
  },
  {
   "cell_type": "markdown",
   "id": "5b1d1105",
   "metadata": {},
   "source": [
    "### percentages of distinct fish\n",
    "* about 60% of historical fish groupings can be uniquely identified by length, weight, and id\n",
    "* about 30% of specimen fish groupings can be uniquely identified by length, weight, and id\n",
    "* sex_id differentiates at least one indistinct example, so just add it\n",
    "* maybe exact matches don't matter - same attributes, same sample, maybe just matching in order would work"
   ]
  },
  {
   "cell_type": "code",
   "execution_count": 18,
   "id": "25415f2d",
   "metadata": {},
   "outputs": [],
   "source": [
    "df_hist['matching_id'] = df_hist['sample_id'].astype(str) + df_hist['fork_length'].astype(str) + df_hist['weight'].fillna(0).astype(str) + df_hist['sex_id'].fillna(0).astype(str)\n",
    "df_hist['matching_id'] = df_hist['matching_id'].str.replace('.', '_', regex=False)\n",
    "df_hist['distinct'] = ~df_hist.matching_id.isin(df_hist[df_hist.matching_id.duplicated()].matching_id.unique())"
   ]
  },
  {
   "cell_type": "code",
   "execution_count": 19,
   "id": "5cf8ede0",
   "metadata": {},
   "outputs": [],
   "source": [
    "df_spec['matching_id'] = df_spec['sample_id'].astype(str) + df_spec['fork_length'].astype(str) + df_spec['weight'].fillna(0).astype(str) + df_spec['sex_id'].fillna(0).astype(str)\n",
    "df_spec['matching_id'] = df_spec['matching_id'].str.replace('.', '_', regex=False)\n",
    "df_spec['distinct'] = ~df_spec.matching_id.isin(df_spec[df_spec.matching_id.duplicated()].matching_id.unique())"
   ]
  },
  {
   "cell_type": "code",
   "execution_count": 24,
   "id": "1dd66bef",
   "metadata": {},
   "outputs": [],
   "source": [
    "spec_ids = list(df_spec.matching_id.unique())\n",
    "hist_ids = list(df_hist.matching_id.unique())"
   ]
  },
  {
   "cell_type": "code",
   "execution_count": 43,
   "id": "cfda2e9b",
   "metadata": {},
   "outputs": [
    {
     "data": {
      "text/plain": [
       "(32373, 74666)"
      ]
     },
     "execution_count": 43,
     "metadata": {},
     "output_type": "execute_result"
    }
   ],
   "source": [
    "# indistinct matches - from specimen\n",
    "df_spec[df_spec.matching_id.isin(matches)].shape[0], df_spec.shape[0]"
   ]
  },
  {
   "cell_type": "code",
   "execution_count": 44,
   "id": "d574310c",
   "metadata": {},
   "outputs": [
    {
     "data": {
      "text/plain": [
       "(5224, 27524)"
      ]
     },
     "execution_count": 44,
     "metadata": {},
     "output_type": "execute_result"
    }
   ],
   "source": [
    "# indistinct matches - from historical\n",
    "df_hist[df_hist.matching_id.isin(matches)].shape[0], df_hist.shape[0]"
   ]
  },
  {
   "cell_type": "code",
   "execution_count": 26,
   "id": "0ab8c79a",
   "metadata": {},
   "outputs": [
    {
     "data": {
      "text/plain": [
       "(6706, 12460)"
      ]
     },
     "execution_count": 26,
     "metadata": {},
     "output_type": "execute_result"
    }
   ],
   "source": [
    "# missing from\n",
    "len([x for x in spec_ids if x not in hist_ids]), len([x for x in hist_ids if x not in spec_ids])\n",
    "# hist, spec"
   ]
  },
  {
   "cell_type": "code",
   "execution_count": 27,
   "id": "fc94eeb4",
   "metadata": {},
   "outputs": [
    {
     "data": {
      "text/plain": [
       "(2062, 2062)"
      ]
     },
     "execution_count": 27,
     "metadata": {},
     "output_type": "execute_result"
    }
   ],
   "source": [
    "# matched\n",
    "len([x for x in spec_ids if x in hist_ids]), len([x for x in hist_ids if x in spec_ids])"
   ]
  },
  {
   "cell_type": "code",
   "execution_count": 28,
   "id": "c74992a3",
   "metadata": {},
   "outputs": [
    {
     "data": {
      "text/plain": [
       "(14522, 8768)"
      ]
     },
     "execution_count": 28,
     "metadata": {},
     "output_type": "execute_result"
    }
   ],
   "source": [
    "# total number of matching ids\n",
    "len(hist_ids), len(spec_ids)"
   ]
  },
  {
   "cell_type": "code",
   "execution_count": 29,
   "id": "33e06280",
   "metadata": {},
   "outputs": [],
   "source": [
    "# how many matches are distinct?\n",
    "matches = [x for x in spec_ids if x in hist_ids]"
   ]
  },
  {
   "cell_type": "code",
   "execution_count": 32,
   "id": "a81c2a0c",
   "metadata": {},
   "outputs": [
    {
     "data": {
      "text/plain": [
       "False    32015\n",
       "True       358\n",
       "Name: distinct, dtype: int64"
      ]
     },
     "execution_count": 32,
     "metadata": {},
     "output_type": "execute_result"
    }
   ],
   "source": [
    "df_spec[df_spec.matching_id.isin(matches)].distinct.value_counts()"
   ]
  },
  {
   "cell_type": "code",
   "execution_count": 33,
   "id": "0dbfea35",
   "metadata": {},
   "outputs": [
    {
     "data": {
      "text/plain": [
       "False    4183\n",
       "True     1041\n",
       "Name: distinct, dtype: int64"
      ]
     },
     "execution_count": 33,
     "metadata": {},
     "output_type": "execute_result"
    }
   ],
   "source": [
    "df_hist[df_hist.matching_id.isin(matches)].distinct.value_counts()"
   ]
  },
  {
   "cell_type": "code",
   "execution_count": 54,
   "id": "cfdcb6d9",
   "metadata": {},
   "outputs": [
    {
     "data": {
      "text/plain": [
       "271"
      ]
     },
     "execution_count": 54,
     "metadata": {},
     "output_type": "execute_result"
    }
   ],
   "source": [
    "# distinct exact matches\n",
    "distinct_matched_hist = list(df_hist[(df_hist.matching_id.isin(matches)) & df_hist.distinct==True].matching_id)\n",
    "df_spec[(df_spec.matching_id.isin(distinct_matched_hist)) & (df_spec.distinct==True)].shape[0]"
   ]
  },
  {
   "cell_type": "markdown",
   "id": "2a5d2511",
   "metadata": {},
   "source": [
    "# let's build a throwaway html to list all of the potential matches\n",
    "\n",
    "    -- list of sample id with historical and specimen data\n",
    "    SELECT trapnet_sample.id\n",
    "        FROM trapnet_sample\n",
    "            JOIN trapnet_biologicaldetailing ON trapnet_biologicaldetailing.sample_id = trapnet_sample.id\n",
    "            JOIN trapnet_specimen ON trapnet_specimen.sample_id = trapnet_sample.id\n",
    "    GROUP BY trapnet_sample.id"
   ]
  },
  {
   "cell_type": "code",
   "execution_count": 13,
   "id": "3b70f430",
   "metadata": {},
   "outputs": [],
   "source": [
    "df_matching_id = pd.read_csv(r'.\\csv\\SQL_matching_id.csv')\n",
    "link_template = '<a href=\"http://127.0.0.1:8000/en/trapnet/samples/{}/view/\">{}</a>'\n",
    "\n",
    "with open('all_matches.html', 'w') as f:\n",
    "    for i, row in df_matching_id.iterrows():\n",
    "        pk = row['id']\n",
    "        f.write(link_template.format(pk, pk) + '\\n')"
   ]
  },
  {
   "cell_type": "markdown",
   "id": "a08f2d13",
   "metadata": {},
   "source": [
    "# "
   ]
  },
  {
   "cell_type": "code",
   "execution_count": null,
   "id": "2a99513f",
   "metadata": {},
   "outputs": [],
   "source": []
  }
 ],
 "metadata": {
  "kernelspec": {
   "display_name": "Python 3 (ipykernel)",
   "language": "python",
   "name": "python3"
  },
  "language_info": {
   "codemirror_mode": {
    "name": "ipython",
    "version": 3
   },
   "file_extension": ".py",
   "mimetype": "text/x-python",
   "name": "python",
   "nbconvert_exporter": "python",
   "pygments_lexer": "ipython3",
   "version": "3.9.13"
  }
 },
 "nbformat": 4,
 "nbformat_minor": 5
}
