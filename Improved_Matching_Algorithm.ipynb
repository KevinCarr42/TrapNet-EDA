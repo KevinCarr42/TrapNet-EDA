{
 "cells": [
  {
   "cell_type": "code",
   "execution_count": 1,
   "id": "1a2f81fc",
   "metadata": {},
   "outputs": [
    {
     "data": {
      "text/html": [
       "<style>.container { width:100% !important; }</style>"
      ],
      "text/plain": [
       "<IPython.core.display.HTML object>"
      ]
     },
     "metadata": {},
     "output_type": "display_data"
    },
    {
     "data": {
      "text/html": [
       "<style>.dataframe td { white-space: nowrap; }</style>"
      ],
      "text/plain": [
       "<IPython.core.display.HTML object>"
      ]
     },
     "metadata": {},
     "output_type": "display_data"
    }
   ],
   "source": [
    "import numpy as np\n",
    "import pandas as pd\n",
    "import matplotlib.pyplot as plt\n",
    "import matplotlib as mpl\n",
    "import seaborn as sns\n",
    "import pickle\n",
    "sns.set_theme()\n",
    "\n",
    "# jupyter notebook full-width display\n",
    "from IPython.core.display import display, HTML\n",
    "display(HTML(\"<style>.container { width:100% !important; }</style>\"))\n",
    "\n",
    "# no text wrapping\n",
    "display(HTML(\"<style>.dataframe td { white-space: nowrap; }</style>\"))\n",
    "\n",
    "# pandas formatting\n",
    "pd.set_option('display.float_format', '{:.3f}'.format)\n",
    "pd.set_option('display.max_columns', None)\n",
    "pd.set_option('display.max_rows', 200)\n",
    "pd.set_option('display.max_colwidth', 200)\n",
    "\n",
    "# Import Data From Preliminary Analysis\n",
    "df_hist = pd.read_pickle('calculations\\df_hist.pickle')\n",
    "df_spec = pd.read_pickle('calculations\\df_spec.pickle')\n",
    "df_summary = pd.read_pickle('calculations\\df_summary.pickle')"
   ]
  },
  {
   "cell_type": "code",
   "execution_count": 2,
   "id": "fe7c6661",
   "metadata": {},
   "outputs": [],
   "source": [
    "# plotting function\n",
    "\n",
    "def plot_fork_length_by_sample(df_specimen, df_historical, sample_id, feature='fork_length', bin_width=5, density=False, subtitle='', duplicate='unknown', right=False):\n",
    "    \"\"\" duplicate can be True, False, or 'unknown' \"\"\"\n",
    "    \n",
    "    figsize=(16,4)\n",
    "    offset = 0.1 if right else 0  # this is a hack - plt.hist() doesn't seem to have a right inclusive option for bins...\n",
    "    bins_plot = [x*5+offset + 20 for x in range(30)]  # centered on n%5==3 like df_spec, rounded to int%5 (could use +20.5 also to center perfectly on n%5==3)\n",
    "    \n",
    "    if duplicate == 'unknown':\n",
    "        colours = sns.color_palette()[0], sns.color_palette('pastel')[1]\n",
    "    elif duplicate: # duplicated\n",
    "        colours = sns.color_palette()[0], sns.color_palette('pastel')[2]\n",
    "    else: # not duplicated\n",
    "        colours = sns.color_palette()[0], sns.color_palette('deep')[6]\n",
    "        \n",
    "    plt.figure(figsize=figsize)\n",
    "    plt.xlim(20, 170)  # use same scale for all histograms for easy comparison\n",
    "    df_specimen.loc[df_specimen.sample_id==sample_id, feature].dropna().hist(alpha=0.6, color=colours[0], density=density, label=f'Specimen {feature}', bins=bins_plot)\n",
    "    df_historical.loc[df_historical.sample_id==sample_id, feature].dropna().hist(alpha=0.8, color=colours[1], density=density, label=f'Bioligical {feature}', bins=bins_plot, rwidth=0.7)\n",
    "    \n",
    "    feature_title = feature.title().replace(\"_\",\" \")\n",
    "    plt.legend(loc='upper right')\n",
    "    subtitle = ' - ' + subtitle if subtitle else ''\n",
    "    plt.title(f'Sample {sample_id}: {feature_title} Comparison - Specimen vs Biological Data{subtitle}')\n",
    "    plt.ylabel('Counts')\n",
    "    plt.xlabel(f'{feature_title}')\n",
    "    plt.show()\n"
   ]
  },
  {
   "cell_type": "code",
   "execution_count": 3,
   "id": "6830ba36",
   "metadata": {},
   "outputs": [],
   "source": [
    "# improved matching function\n",
    "\n",
    "def match_spec_and_bio(df_specimen, df_bio, n_sample, debug=False, right=False):\n",
    "\n",
    "    # create bins for fork lengths, create lists representing counts per bin\n",
    "    bins = [x for x in range(20, 170, 5)]\n",
    "    bin_s = df_specimen[df_specimen.sample_id==n_sample].groupby(['sample_id', pd.cut(df_specimen.fork_length, bins, right=right)]).fork_length.count().to_list()\n",
    "    bin_b = df_bio[df_bio.sample_id==n_sample].groupby(['sample_id', pd.cut(df_bio.fork_length, bins, right=right)]).fork_length.count().to_list()\n",
    "    \n",
    "    if debug:\n",
    "        print('bins')\n",
    "        print(bin_s)\n",
    "        print(bin_b)\n",
    "        print()\n",
    "    \n",
    "    # difference between two lists of fish counts\n",
    "    list_diff = []\n",
    "    for i, bin in enumerate(bin_b):\n",
    "        bin_s[i] = bin_s[i] - bin\n",
    "        list_diff += [bin_s[i]]\n",
    "        \n",
    "    # evaluate how far negative counts (unmatched fish) are from matchable entries\n",
    "    n = 0\n",
    "    i_max = len(list_diff)\n",
    "    for i, bin in enumerate(list_diff):\n",
    "        if debug:\n",
    "            print(i, 'list_diff')\n",
    "            print(list_diff)\n",
    "        if bin < 0:\n",
    "            for j in range(1, i_max):  \n",
    "                if i-j >= 0:\n",
    "                    if (subtract := list_diff[i-j]) > 0:\n",
    "                        subtract = subtract if subtract <= -bin else -bin\n",
    "                        list_diff[i-j] -= subtract\n",
    "                        bin += subtract\n",
    "                        n += j * subtract\n",
    "                        if bin == 0:\n",
    "                            break  # break the j loop   \n",
    "                if i+j < i_max:\n",
    "                    if (subtract := list_diff[i+j]) > 0:\n",
    "                        subtract = subtract if subtract <= -bin else -bin\n",
    "                        list_diff[i+j] -= subtract\n",
    "                        bin += subtract\n",
    "                        n += j * subtract\n",
    "                        if bin == 0:\n",
    "                            break\n",
    "            list_diff[i] = bin\n",
    "\n",
    "            if bin < 0:  # unmatchable penalty\n",
    "                return 9999\n",
    "\n",
    "    if debug:\n",
    "        print()\n",
    "        print(n)\n",
    "        print(list_diff)\n",
    "\n",
    "    return n * 5  # 5 is the bin width, ie, the error per fish per bin distance\n"
   ]
  },
  {
   "cell_type": "markdown",
   "id": "16b31d3d",
   "metadata": {},
   "source": [
    "# testing"
   ]
  },
  {
   "cell_type": "code",
   "execution_count": 4,
   "id": "0e2cb9f9",
   "metadata": {},
   "outputs": [
    {
     "name": "stdout",
     "output_type": "stream",
     "text": [
      "right==True ERROR: 0\n"
     ]
    },
    {
     "data": {
      "image/png": "[encoded data removed]",
      "text/plain": [
       "<Figure size 1600x400 with 1 Axes>"
      ]
     },
     "metadata": {},
     "output_type": "display_data"
    },
    {
     "name": "stdout",
     "output_type": "stream",
     "text": [
      "right==False ERROR: 115\n"
     ]
    },
    {
     "data": {
      "image/png": "[encoded data removed]",
      "text/plain": [
       "<Figure size 1600x400 with 1 Axes>"
      ]
     },
     "metadata": {},
     "output_type": "display_data"
    }
   ],
   "source": [
    "# this is surprising - it is right inclusive, plt is left inclusive, so the bins don't match\n",
    "# pd.cut defaults to right inclusive, but plt.hist only has left inclusive bins\n",
    "\n",
    "n_sample = 5613\n",
    "print('right==True ERROR:', match_spec_and_bio(df_spec, df_hist, n_sample, right=True))\n",
    "plot_fork_length_by_sample(df_spec, df_hist, n_sample, right=True)\n",
    "print('right==False ERROR:', match_spec_and_bio(df_spec, df_hist, n_sample, right=False))\n",
    "plot_fork_length_by_sample(df_spec, df_hist, n_sample, right=False)"
   ]
  },
  {
   "cell_type": "markdown",
   "id": "fb4004b9",
   "metadata": {},
   "source": [
    "# check whether right or left inclusive is better"
   ]
  },
  {
   "cell_type": "code",
   "execution_count": 5,
   "id": "fce147bc",
   "metadata": {},
   "outputs": [],
   "source": [
    "sample_ids = [x for x in df_hist.sample_id.unique() if x in df_spec.sample_id.unique()]"
   ]
  },
  {
   "cell_type": "code",
   "execution_count": 6,
   "id": "d1fefce8",
   "metadata": {},
   "outputs": [
    {
     "name": "stdout",
     "output_type": "stream",
     "text": [
      "Wall time: 21.7 s\n"
     ]
    }
   ],
   "source": [
    "%%time\n",
    "left_vs_right = []\n",
    "for i in sample_ids:\n",
    "    left_vs_right += [[i, match_spec_and_bio(df_spec, df_hist, i, right=False), match_spec_and_bio(df_spec, df_hist, i, right=True)]]"
   ]
  },
  {
   "cell_type": "code",
   "execution_count": 7,
   "id": "25a4a451",
   "metadata": {},
   "outputs": [],
   "source": [
    "df_left_vs_right = pd.DataFrame(left_vs_right, columns=['sample_id', 'left_error', 'right_error'])"
   ]
  },
  {
   "cell_type": "code",
   "execution_count": 8,
   "id": "cf024fa1",
   "metadata": {},
   "outputs": [
    {
     "data": {
      "text/html": [
       "<div>\n",
       "<style scoped>\n",
       "    .dataframe tbody tr th:only-of-type {\n",
       "        vertical-align: middle;\n",
       "    }\n",
       "\n",
       "    .dataframe tbody tr th {\n",
       "        vertical-align: top;\n",
       "    }\n",
       "\n",
       "    .dataframe thead th {\n",
       "        text-align: right;\n",
       "    }\n",
       "</style>\n",
       "<table border=\"1\" class=\"dataframe\">\n",
       "  <thead>\n",
       "    <tr style=\"text-align: right;\">\n",
       "      <th></th>\n",
       "      <th>sample_id</th>\n",
       "      <th>left_error</th>\n",
       "      <th>right_error</th>\n",
       "    </tr>\n",
       "  </thead>\n",
       "  <tbody>\n",
       "    <tr>\n",
       "      <th>count</th>\n",
       "      <td>775.000</td>\n",
       "      <td>775.000</td>\n",
       "      <td>775.000</td>\n",
       "    </tr>\n",
       "    <tr>\n",
       "      <th>mean</th>\n",
       "      <td>6398.706</td>\n",
       "      <td>191.289</td>\n",
       "      <td>159.470</td>\n",
       "    </tr>\n",
       "    <tr>\n",
       "      <th>std</th>\n",
       "      <td>1346.040</td>\n",
       "      <td>1182.737</td>\n",
       "      <td>1184.284</td>\n",
       "    </tr>\n",
       "    <tr>\n",
       "      <th>min</th>\n",
       "      <td>4404.000</td>\n",
       "      <td>0.000</td>\n",
       "      <td>0.000</td>\n",
       "    </tr>\n",
       "    <tr>\n",
       "      <th>1%</th>\n",
       "      <td>4433.480</td>\n",
       "      <td>0.000</td>\n",
       "      <td>0.000</td>\n",
       "    </tr>\n",
       "    <tr>\n",
       "      <th>10%</th>\n",
       "      <td>4548.400</td>\n",
       "      <td>0.000</td>\n",
       "      <td>0.000</td>\n",
       "    </tr>\n",
       "    <tr>\n",
       "      <th>50%</th>\n",
       "      <td>7168.000</td>\n",
       "      <td>10.000</td>\n",
       "      <td>0.000</td>\n",
       "    </tr>\n",
       "    <tr>\n",
       "      <th>90%</th>\n",
       "      <td>7811.600</td>\n",
       "      <td>150.000</td>\n",
       "      <td>35.000</td>\n",
       "    </tr>\n",
       "    <tr>\n",
       "      <th>99%</th>\n",
       "      <td>7981.260</td>\n",
       "      <td>9999.000</td>\n",
       "      <td>9999.000</td>\n",
       "    </tr>\n",
       "    <tr>\n",
       "      <th>max</th>\n",
       "      <td>8001.000</td>\n",
       "      <td>9999.000</td>\n",
       "      <td>9999.000</td>\n",
       "    </tr>\n",
       "  </tbody>\n",
       "</table>\n",
       "</div>"
      ],
      "text/plain": [
       "       sample_id  left_error  right_error\n",
       "count    775.000     775.000      775.000\n",
       "mean    6398.706     191.289      159.470\n",
       "std     1346.040    1182.737     1184.284\n",
       "min     4404.000       0.000        0.000\n",
       "1%      4433.480       0.000        0.000\n",
       "10%     4548.400       0.000        0.000\n",
       "50%     7168.000      10.000        0.000\n",
       "90%     7811.600     150.000       35.000\n",
       "99%     7981.260    9999.000     9999.000\n",
       "max     8001.000    9999.000     9999.000"
      ]
     },
     "execution_count": 8,
     "metadata": {},
     "output_type": "execute_result"
    }
   ],
   "source": [
    "df_left_vs_right.describe(percentiles=[.01, .1, .9, .99])"
   ]
  },
  {
   "cell_type": "code",
   "execution_count": 9,
   "id": "c2a8c30f",
   "metadata": {},
   "outputs": [
    {
     "data": {
      "image/png": "[encoded data removed]",
      "text/plain": [
       "<Figure size 800x800 with 1 Axes>"
      ]
     },
     "metadata": {},
     "output_type": "display_data"
    }
   ],
   "source": [
    "# Wow, right is WAAAAAYYY better!\n",
    "df_left_vs_right.plot(kind='scatter', x='left_error', y='right_error', figsize=(8,8));"
   ]
  },
  {
   "cell_type": "code",
   "execution_count": null,
   "id": "4fa68475",
   "metadata": {},
   "outputs": [],
   "source": []
  },
  {
   "cell_type": "markdown",
   "id": "393c44c5",
   "metadata": {},
   "source": [
    "# Rough Work"
   ]
  },
  {
   "cell_type": "code",
   "execution_count": 10,
   "id": "8741c57d",
   "metadata": {},
   "outputs": [
    {
     "data": {
      "text/plain": [
       "[0, 0, 0, 1, 0, 0, 0, 0, 0, 0, 0, 1, 0, 0, 0]"
      ]
     },
     "execution_count": 10,
     "metadata": {},
     "output_type": "execute_result"
    }
   ],
   "source": [
    "# how much error is in this set of bins?\n",
    "\n",
    "bin_s = [0,0,0,0,2,3,6,5,4,3,6,1,0,0,0]\n",
    "bin_b = [0,0,0,1,0,0,1,2,1,1,2,2,0,0,0]\n",
    "list_out = []\n",
    "\n",
    "for i, bin in enumerate(bin_b):\n",
    "    bin_out = bin - bin_s[i]\n",
    "    bin_out = bin_out if bin_out >= 0 else 0\n",
    "    list_out += [bin_out]\n",
    "    \n",
    "list_out"
   ]
  },
  {
   "cell_type": "code",
   "execution_count": 11,
   "id": "b9a3036b",
   "metadata": {},
   "outputs": [
    {
     "data": {
      "text/plain": [
       "[0, 0, 1, -4, 2, 3, 5, 3, 3, 2, 4, 0, -1, 0, 0]"
      ]
     },
     "execution_count": 11,
     "metadata": {},
     "output_type": "execute_result"
    }
   ],
   "source": [
    "bin_s = [0,0,1,0,2,3,6,5,4,3,6,0,0,0,0]\n",
    "bin_b = [0,0,0,4,0,0,1,2,1,1,2,0,1,0,0]\n",
    "list_diff = []\n",
    "\n",
    "for i, bin in enumerate(bin_b):\n",
    "    bin_s[i] = bin_s[i] - bin\n",
    "    list_diff += [bin_s[i]]\n",
    "    \n",
    "list_diff"
   ]
  },
  {
   "cell_type": "code",
   "execution_count": 12,
   "id": "3d330e4a",
   "metadata": {},
   "outputs": [
    {
     "name": "stdout",
     "output_type": "stream",
     "text": [
      "[0, 0, 1, -4, 2, 3, 5, 3, 3, 2, 4, 0, -1, 0, 0]\n",
      "[0, 0, 1, -4, 2, 3, 5, 3, 3, 2, 4, 0, -1, 0, 0]\n",
      "[0, 0, 1, -4, 2, 3, 5, 3, 3, 2, 4, 0, -1, 0, 0]\n",
      "[0, 0, 1, -4, 2, 3, 5, 3, 3, 2, 4, 0, -1, 0, 0]\n",
      "[0, 0, 1, -4, 2, 3, 5, 3, 3, 2, 4, 0, -1, 0, 0]\n",
      "[0, 0, 0, 0, 0, 2, 5, 3, 3, 2, 4, 0, -1, 0, 0]\n",
      "[0, 0, 0, 0, 0, 2, 5, 3, 3, 2, 4, 0, -1, 0, 0]\n",
      "[0, 0, 0, 0, 0, 2, 5, 3, 3, 2, 4, 0, -1, 0, 0]\n",
      "[0, 0, 0, 0, 0, 2, 5, 3, 3, 2, 4, 0, -1, 0, 0]\n",
      "[0, 0, 0, 0, 0, 2, 5, 3, 3, 2, 4, 0, -1, 0, 0]\n",
      "[0, 0, 0, 0, 0, 2, 5, 3, 3, 2, 4, 0, -1, 0, 0]\n",
      "[0, 0, 0, 0, 0, 2, 5, 3, 3, 2, 4, 0, -1, 0, 0]\n",
      "[0, 0, 0, 0, 0, 2, 5, 3, 3, 2, 4, 0, -1, 0, 0]\n",
      "[0, 0, 0, 0, 0, 2, 5, 3, 3, 2, 4, 0, -1, 0, 0]\n",
      "[0, 0, 0, 0, 0, 2, 5, 3, 3, 2, 3, 0, 0, 0, 0]\n",
      "[0, 0, 0, 0, 0, 2, 5, 3, 3, 2, 3, 0, 0, 0, 0]\n",
      "\n",
      "7\n",
      "[0, 0, 0, 0, 0, 2, 5, 3, 3, 2, 3, 0, 0, 0, 0]\n"
     ]
    }
   ],
   "source": [
    "list_diff = [0, 0, 1, -4, 2, 3, 5, 3, 3, 2, 4, 0, -1, 0, 0]\n",
    "n = 0\n",
    "i_max = len(list_diff)\n",
    "\n",
    "print(list_diff)\n",
    "\n",
    "\n",
    "for i, bin in enumerate(list_diff):\n",
    "    print(list_diff)\n",
    "    if bin < 0:\n",
    "        for j in range(1, i_max):  \n",
    "            if i-j >= 0:\n",
    "                if (subtract := list_diff[i-j]) > 0:\n",
    "                    subtract = subtract if subtract <= -bin else -bin\n",
    "                    list_diff[i-j] -= subtract\n",
    "                    bin += subtract\n",
    "                    n += j * subtract\n",
    "                    if bin == 0:\n",
    "                        break  # break the j loop   \n",
    "            if i+j < i_max:\n",
    "                if (subtract := list_diff[i+j]) > 0:\n",
    "                    subtract = subtract if subtract <= -bin else -bin\n",
    "                    list_diff[i+j] -= subtract\n",
    "                    bin += subtract\n",
    "                    n += j * subtract\n",
    "                    if bin == 0:\n",
    "                        break\n",
    "        list_diff[i] = bin\n",
    "            \n",
    "        if bin < 0:  # unmatchable penalty\n",
    "            n = 999\n",
    "            break  # break the i loop\n",
    "        \n",
    "print()\n",
    "print(n)\n",
    "print(list_diff)"
   ]
  },
  {
   "cell_type": "code",
   "execution_count": 13,
   "id": "44b2c20d",
   "metadata": {},
   "outputs": [
    {
     "name": "stdout",
     "output_type": "stream",
     "text": [
      "[0, -100, 1, -4, 2, 3, 5, 3, 3, 2, 4, 0, -1, 0, 0]\n",
      "[0, -100, 1, -4, 2, 3, 5, 3, 3, 2, 4, 0, -1, 0, 0]\n",
      "[0, -100, 1, -4, 2, 3, 5, 3, 3, 2, 4, 0, -1, 0, 0]\n",
      "\n",
      "9999\n",
      "[0, -77, 0, -4, 0, 0, 0, 0, 0, 0, 0, 0, -1, 0, 0]\n"
     ]
    }
   ],
   "source": [
    "list_diff = [0, -100, 1, -4, 2, 3, 5, 3, 3, 2, 4, 0, -1, 0, 0]\n",
    "n = 0\n",
    "i_max = len(list_diff)\n",
    "\n",
    "print(list_diff)\n",
    "\n",
    "\n",
    "for i, bin in enumerate(list_diff):\n",
    "    print(list_diff)\n",
    "    if bin < 0:\n",
    "        for j in range(1, i_max):  \n",
    "            if i-j >= 0:\n",
    "                if (subtract := list_diff[i-j]) > 0:\n",
    "                    subtract = subtract if subtract <= -bin else -bin\n",
    "                    list_diff[i-j] -= subtract\n",
    "                    bin += subtract\n",
    "                    n += j * subtract\n",
    "                    if bin == 0:\n",
    "                        break  # break the j loop   \n",
    "            if i+j < i_max:\n",
    "                if (subtract := list_diff[i+j]) > 0:\n",
    "                    subtract = subtract if subtract <= -bin else -bin\n",
    "                    list_diff[i+j] -= subtract\n",
    "                    bin += subtract\n",
    "                    n += j * subtract\n",
    "                    if bin == 0:\n",
    "                        break\n",
    "        list_diff[i] = bin\n",
    "            \n",
    "        if bin < 0:  # unmatchable penalty\n",
    "            n = 9999\n",
    "            break  # break the i loop\n",
    "        \n",
    "print()\n",
    "print(n)\n",
    "print(list_diff)"
   ]
  },
  {
   "cell_type": "code",
   "execution_count": null,
   "id": "79fecdee",
   "metadata": {},
   "outputs": [],
   "source": []
  }
 ],
 "metadata": {
  "kernelspec": {
   "display_name": "Python 3 (ipykernel)",
   "language": "python",
   "name": "python3"
  },
  "language_info": {
   "codemirror_mode": {
    "name": "ipython",
    "version": 3
   },
   "file_extension": ".py",
   "mimetype": "text/x-python",
   "name": "python",
   "nbconvert_exporter": "python",
   "pygments_lexer": "ipython3",
   "version": "3.9.13"
  }
 },
 "nbformat": 4,
 "nbformat_minor": 5
}
