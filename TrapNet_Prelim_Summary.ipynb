{
 "cells": [
  {
   "cell_type": "code",
   "execution_count": 1,
   "id": "56c8eb17",
   "metadata": {},
   "outputs": [
    {
     "data": {
      "text/html": [
       "<style>.container { width:100% !important; }</style>"
      ],
      "text/plain": [
       "<IPython.core.display.HTML object>"
      ]
     },
     "metadata": {},
     "output_type": "display_data"
    },
    {
     "data": {
      "text/html": [
       "<style>.dataframe td { white-space: nowrap; }</style>"
      ],
      "text/plain": [
       "<IPython.core.display.HTML object>"
      ]
     },
     "metadata": {},
     "output_type": "display_data"
    }
   ],
   "source": [
    "import numpy as np\n",
    "import pandas as pd\n",
    "import matplotlib.pyplot as plt\n",
    "import matplotlib as mpl\n",
    "import seaborn as sns\n",
    "import pickle\n",
    "sns.set_theme()\n",
    "\n",
    "# jupyter notebook full-width display\n",
    "from IPython.core.display import display, HTML\n",
    "display(HTML(\"<style>.container { width:100% !important; }</style>\"))\n",
    "\n",
    "# no text wrapping\n",
    "display(HTML(\"<style>.dataframe td { white-space: nowrap; }</style>\"))\n",
    "\n",
    "# pandas formatting\n",
    "pd.set_option('display.float_format', '{:.3f}'.format)\n",
    "pd.set_option('display.max_columns', None)\n",
    "pd.set_option('display.max_rows', 600)\n",
    "pd.set_option('display.max_colwidth', 200)"
   ]
  },
  {
   "cell_type": "code",
   "execution_count": 2,
   "id": "1ca3a5bc",
   "metadata": {},
   "outputs": [],
   "source": [
    "# base dataframes\n",
    "df_hist = pd.read_pickle('calculations\\df_hist.pickle')\n",
    "df_spec = pd.read_pickle('calculations\\df_spec.pickle')\n",
    "\n",
    "# need to recreate summary with updated calculations\n",
    "# define df_summary\n",
    "df_summary = pd.merge(\n",
    "    df_hist[['sample_id', 'id']].groupby('sample_id').count().rename({'id':'n_hist'}, axis=1),\n",
    "    df_spec[['sample_id', 'id']].groupby('sample_id').count().rename({'id':'n_spec'}, axis=1),\n",
    "    on='sample_id',\n",
    "    how='left'\n",
    ").fillna(0)\n",
    "df_summary.n_spec = df_summary.n_spec.astype(int)"
   ]
  },
  {
   "cell_type": "markdown",
   "id": "fe66925b",
   "metadata": {},
   "source": [
    "# improved bins, plotting and error checking"
   ]
  },
  {
   "cell_type": "code",
   "execution_count": 3,
   "id": "33bef660",
   "metadata": {},
   "outputs": [
    {
     "data": {
      "text/plain": [
       "3    38505\n",
       "8    34192\n",
       "0      242\n",
       "9      231\n",
       "4      228\n",
       "2      225\n",
       "5      224\n",
       "1      207\n",
       "7      206\n",
       "6      187\n",
       "Name: fork_length, dtype: Int64"
      ]
     },
     "execution_count": 3,
     "metadata": {},
     "output_type": "execute_result"
    }
   ],
   "source": [
    "# bins used by specimen table\n",
    "# looks like bio data doesn't need to end with a 3 or 8\n",
    "(df_spec.fork_length % 10).value_counts()"
   ]
  },
  {
   "cell_type": "code",
   "execution_count": 4,
   "id": "c0e0caf8",
   "metadata": {},
   "outputs": [
    {
     "data": {
      "text/plain": [
       "id                      74666\n",
       "fork_length             74447\n",
       "weight                    429\n",
       "river_age               74664\n",
       "notes                   74666\n",
       "sample_id               74666\n",
       "sex_id                      6\n",
       "status_id               74666\n",
       "age_type                74664\n",
       "sweep_id                74666\n",
       "life_stage_id           74666\n",
       "old_id                  74666\n",
       "smart_river_age         74664\n",
       "smart_river_age_type    74664\n",
       "matching_id             74666\n",
       "dtype: int64"
      ]
     },
     "execution_count": 4,
     "metadata": {},
     "output_type": "execute_result"
    }
   ],
   "source": [
    "df_spec.notna().sum()\n",
    "# note: there are only 6 sex data and they are the import error (should be bio) from the other notebook"
   ]
  },
  {
   "cell_type": "code",
   "execution_count": 5,
   "id": "0d4829a3",
   "metadata": {},
   "outputs": [
    {
     "data": {
      "text/plain": [
       "weight   0.841\n",
       "sex_id   0.000\n",
       "dtype: float64"
      ]
     },
     "execution_count": 5,
     "metadata": {},
     "output_type": "execute_result"
    }
   ],
   "source": [
    "# check: confirm that values ending in not 3/8 have more weight/sex\n",
    "\n",
    "# still no sex data, but most of the weight data is here \n",
    "# (you would expect exactly 80% if it was 100% because more detailed measurements could include n%5==3)\n",
    "\n",
    "df_spec[df_spec.fork_length % 5 != 3][['weight', 'sex_id']].notna().sum() / df_spec[['weight', 'sex_id']].notna().sum()"
   ]
  },
  {
   "cell_type": "code",
   "execution_count": 6,
   "id": "f29c9108",
   "metadata": {},
   "outputs": [
    {
     "data": {
      "text/plain": [
       "count   74447.000\n",
       "mean       57.040\n",
       "std        23.221\n",
       "min        23.000\n",
       "25%        43.000\n",
       "50%        48.000\n",
       "75%        68.000\n",
       "max       163.000\n",
       "Name: fork_length, dtype: float64"
      ]
     },
     "execution_count": 6,
     "metadata": {},
     "output_type": "execute_result"
    }
   ],
   "source": [
    "# bins go from 23 to 163\n",
    "df_spec.fork_length.describe()"
   ]
  },
  {
   "cell_type": "markdown",
   "id": "8d968c51",
   "metadata": {},
   "source": [
    "# improved matching algorithm"
   ]
  },
  {
   "cell_type": "code",
   "execution_count": 7,
   "id": "0626e089",
   "metadata": {},
   "outputs": [],
   "source": [
    "def match_spec_and_bio(df_specimen, df_bio, n_sample, debug=False, right=True):\n",
    "    \n",
    "    \"\"\" right=True means bins are right inclusive, this is the lowest error option by a significant margin (see below) \"\"\"\n",
    "\n",
    "    # create bins for fork lengths, create lists representing counts per bin\n",
    "    bins = [x for x in range(20, 170, 5)]\n",
    "    bin_s = df_specimen[df_specimen.sample_id==n_sample].groupby(['sample_id', pd.cut(df_specimen.fork_length, bins, right=right)]).fork_length.count().to_list()\n",
    "    bin_b = df_bio[df_bio.sample_id==n_sample].groupby(['sample_id', pd.cut(df_bio.fork_length, bins, right=right)]).fork_length.count().to_list()\n",
    "    \n",
    "    if debug:\n",
    "        print('bins')\n",
    "        print(bin_s)\n",
    "        print(bin_b)\n",
    "        print()\n",
    "    \n",
    "    # difference between two lists of fish counts\n",
    "    list_diff = []\n",
    "    for i, bin in enumerate(bin_b):\n",
    "        bin_s[i] = bin_s[i] - bin\n",
    "        list_diff += [bin_s[i]]\n",
    "        \n",
    "    # evaluate how far negative counts (unmatched fish) are from matchable entries\n",
    "    n = 0\n",
    "    i_max = len(list_diff)\n",
    "    for i, bin in enumerate(list_diff):\n",
    "        if debug:\n",
    "            print(i, 'list_diff')\n",
    "            print(list_diff)\n",
    "        if bin < 0:\n",
    "            for j in range(1, i_max):  \n",
    "                if i-j >= 0:\n",
    "                    if (subtract := list_diff[i-j]) > 0:\n",
    "                        subtract = subtract if subtract <= -bin else -bin\n",
    "                        list_diff[i-j] -= subtract\n",
    "                        bin += subtract\n",
    "                        n += j * subtract\n",
    "                        if bin == 0:\n",
    "                            break  # break the j loop   \n",
    "                if i+j < i_max:\n",
    "                    if (subtract := list_diff[i+j]) > 0:\n",
    "                        subtract = subtract if subtract <= -bin else -bin\n",
    "                        list_diff[i+j] -= subtract\n",
    "                        bin += subtract\n",
    "                        n += j * subtract\n",
    "                        if bin == 0:\n",
    "                            break\n",
    "            list_diff[i] = bin\n",
    "\n",
    "            if bin < 0:  # unmatchable penalty\n",
    "                return 9999\n",
    "\n",
    "    if debug:\n",
    "        print()\n",
    "        print(n)\n",
    "        print(list_diff)\n",
    "\n",
    "    return n * 5  # 5 is the bin width, ie, the error per fish per bin distance\n"
   ]
  },
  {
   "cell_type": "code",
   "execution_count": 8,
   "id": "e6ed733d",
   "metadata": {},
   "outputs": [],
   "source": [
    "# combine calculated matching errors into df_summary\n",
    "\n",
    "sample_ids = [x for x in df_hist.sample_id.unique() if x in df_spec.sample_id.unique()]\n",
    "\n",
    "error = []\n",
    "for sample_id in sample_ids:\n",
    "    error += [[sample_id, match_spec_and_bio(df_spec, df_hist, sample_id, right=True)]]\n",
    "    \n",
    "df_summary = pd.merge(\n",
    "    df_summary.reset_index(),\n",
    "    pd.DataFrame(error, columns=['sample_id', 'error']),\n",
    "    on='sample_id',\n",
    "    how='left'\n",
    ").set_index('sample_id')\n",
    "\n",
    "df_summary.loc[df_summary.error.isna(), 'error'] = 9999"
   ]
  },
  {
   "cell_type": "code",
   "execution_count": 9,
   "id": "dd6a37e0",
   "metadata": {},
   "outputs": [
    {
     "data": {
      "text/html": [
       "<div>\n",
       "<style scoped>\n",
       "    .dataframe tbody tr th:only-of-type {\n",
       "        vertical-align: middle;\n",
       "    }\n",
       "\n",
       "    .dataframe tbody tr th {\n",
       "        vertical-align: top;\n",
       "    }\n",
       "\n",
       "    .dataframe thead th {\n",
       "        text-align: right;\n",
       "    }\n",
       "</style>\n",
       "<table border=\"1\" class=\"dataframe\">\n",
       "  <thead>\n",
       "    <tr style=\"text-align: right;\">\n",
       "      <th></th>\n",
       "      <th>n_hist</th>\n",
       "      <th>n_spec</th>\n",
       "      <th>error</th>\n",
       "    </tr>\n",
       "  </thead>\n",
       "  <tbody>\n",
       "    <tr>\n",
       "      <th>count</th>\n",
       "      <td>793.000</td>\n",
       "      <td>793.000</td>\n",
       "      <td>793.000</td>\n",
       "    </tr>\n",
       "    <tr>\n",
       "      <th>mean</th>\n",
       "      <td>34.709</td>\n",
       "      <td>94.156</td>\n",
       "      <td>382.813</td>\n",
       "    </tr>\n",
       "    <tr>\n",
       "      <th>std</th>\n",
       "      <td>39.659</td>\n",
       "      <td>109.540</td>\n",
       "      <td>1876.454</td>\n",
       "    </tr>\n",
       "    <tr>\n",
       "      <th>min</th>\n",
       "      <td>1.000</td>\n",
       "      <td>0.000</td>\n",
       "      <td>0.000</td>\n",
       "    </tr>\n",
       "    <tr>\n",
       "      <th>1%</th>\n",
       "      <td>1.000</td>\n",
       "      <td>0.000</td>\n",
       "      <td>0.000</td>\n",
       "    </tr>\n",
       "    <tr>\n",
       "      <th>10%</th>\n",
       "      <td>5.000</td>\n",
       "      <td>8.000</td>\n",
       "      <td>0.000</td>\n",
       "    </tr>\n",
       "    <tr>\n",
       "      <th>50%</th>\n",
       "      <td>25.000</td>\n",
       "      <td>61.000</td>\n",
       "      <td>0.000</td>\n",
       "    </tr>\n",
       "    <tr>\n",
       "      <th>90%</th>\n",
       "      <td>78.000</td>\n",
       "      <td>209.800</td>\n",
       "      <td>49.000</td>\n",
       "    </tr>\n",
       "    <tr>\n",
       "      <th>99%</th>\n",
       "      <td>184.400</td>\n",
       "      <td>491.720</td>\n",
       "      <td>9999.000</td>\n",
       "    </tr>\n",
       "    <tr>\n",
       "      <th>max</th>\n",
       "      <td>346.000</td>\n",
       "      <td>1016.000</td>\n",
       "      <td>9999.000</td>\n",
       "    </tr>\n",
       "  </tbody>\n",
       "</table>\n",
       "</div>"
      ],
      "text/plain": [
       "       n_hist   n_spec    error\n",
       "count 793.000  793.000  793.000\n",
       "mean   34.709   94.156  382.813\n",
       "std    39.659  109.540 1876.454\n",
       "min     1.000    0.000    0.000\n",
       "1%      1.000    0.000    0.000\n",
       "10%     5.000    8.000    0.000\n",
       "50%    25.000   61.000    0.000\n",
       "90%    78.000  209.800   49.000\n",
       "99%   184.400  491.720 9999.000\n",
       "max   346.000 1016.000 9999.000"
      ]
     },
     "execution_count": 9,
     "metadata": {},
     "output_type": "execute_result"
    }
   ],
   "source": [
    "df_summary.describe(percentiles=[.01, .1, .9, .99])"
   ]
  },
  {
   "cell_type": "markdown",
   "id": "f9891a9f",
   "metadata": {},
   "source": [
    "# left vs right inclusive bins (right wins)"
   ]
  },
  {
   "cell_type": "code",
   "execution_count": 10,
   "id": "9074184d",
   "metadata": {},
   "outputs": [
    {
     "name": "stdout",
     "output_type": "stream",
     "text": [
      "Wall time: 21.2 s\n"
     ]
    }
   ],
   "source": [
    "%%time\n",
    "left_vs_right = []\n",
    "for i in sample_ids:\n",
    "    left_vs_right += [[i, match_spec_and_bio(df_spec, df_hist, i, right=False), match_spec_and_bio(df_spec, df_hist, i, right=True)]]"
   ]
  },
  {
   "cell_type": "code",
   "execution_count": 11,
   "id": "fb5918ac",
   "metadata": {},
   "outputs": [
    {
     "data": {
      "text/html": [
       "<div>\n",
       "<style scoped>\n",
       "    .dataframe tbody tr th:only-of-type {\n",
       "        vertical-align: middle;\n",
       "    }\n",
       "\n",
       "    .dataframe tbody tr th {\n",
       "        vertical-align: top;\n",
       "    }\n",
       "\n",
       "    .dataframe thead th {\n",
       "        text-align: right;\n",
       "    }\n",
       "</style>\n",
       "<table border=\"1\" class=\"dataframe\">\n",
       "  <thead>\n",
       "    <tr style=\"text-align: right;\">\n",
       "      <th></th>\n",
       "      <th>sample_id</th>\n",
       "      <th>left_error</th>\n",
       "      <th>right_error</th>\n",
       "    </tr>\n",
       "  </thead>\n",
       "  <tbody>\n",
       "    <tr>\n",
       "      <th>count</th>\n",
       "      <td>775.000</td>\n",
       "      <td>775.000</td>\n",
       "      <td>775.000</td>\n",
       "    </tr>\n",
       "    <tr>\n",
       "      <th>mean</th>\n",
       "      <td>6398.706</td>\n",
       "      <td>191.289</td>\n",
       "      <td>159.470</td>\n",
       "    </tr>\n",
       "    <tr>\n",
       "      <th>std</th>\n",
       "      <td>1346.040</td>\n",
       "      <td>1182.737</td>\n",
       "      <td>1184.284</td>\n",
       "    </tr>\n",
       "    <tr>\n",
       "      <th>min</th>\n",
       "      <td>4404.000</td>\n",
       "      <td>0.000</td>\n",
       "      <td>0.000</td>\n",
       "    </tr>\n",
       "    <tr>\n",
       "      <th>1%</th>\n",
       "      <td>4433.480</td>\n",
       "      <td>0.000</td>\n",
       "      <td>0.000</td>\n",
       "    </tr>\n",
       "    <tr>\n",
       "      <th>10%</th>\n",
       "      <td>4548.400</td>\n",
       "      <td>0.000</td>\n",
       "      <td>0.000</td>\n",
       "    </tr>\n",
       "    <tr>\n",
       "      <th>50%</th>\n",
       "      <td>7168.000</td>\n",
       "      <td>10.000</td>\n",
       "      <td>0.000</td>\n",
       "    </tr>\n",
       "    <tr>\n",
       "      <th>90%</th>\n",
       "      <td>7811.600</td>\n",
       "      <td>150.000</td>\n",
       "      <td>35.000</td>\n",
       "    </tr>\n",
       "    <tr>\n",
       "      <th>99%</th>\n",
       "      <td>7981.260</td>\n",
       "      <td>9999.000</td>\n",
       "      <td>9999.000</td>\n",
       "    </tr>\n",
       "    <tr>\n",
       "      <th>max</th>\n",
       "      <td>8001.000</td>\n",
       "      <td>9999.000</td>\n",
       "      <td>9999.000</td>\n",
       "    </tr>\n",
       "  </tbody>\n",
       "</table>\n",
       "</div>"
      ],
      "text/plain": [
       "       sample_id  left_error  right_error\n",
       "count    775.000     775.000      775.000\n",
       "mean    6398.706     191.289      159.470\n",
       "std     1346.040    1182.737     1184.284\n",
       "min     4404.000       0.000        0.000\n",
       "1%      4433.480       0.000        0.000\n",
       "10%     4548.400       0.000        0.000\n",
       "50%     7168.000      10.000        0.000\n",
       "90%     7811.600     150.000       35.000\n",
       "99%     7981.260    9999.000     9999.000\n",
       "max     8001.000    9999.000     9999.000"
      ]
     },
     "metadata": {},
     "output_type": "display_data"
    },
    {
     "data": {
      "image/png": "[encoded data removed]",
      "text/plain": [
       "<Figure size 800x800 with 1 Axes>"
      ]
     },
     "metadata": {},
     "output_type": "display_data"
    }
   ],
   "source": [
    "# confirm that right inclusive bins are the correct choice for this dataset\n",
    "df_left_vs_right = pd.DataFrame(left_vs_right, columns=['sample_id', 'left_error', 'right_error'])\n",
    "display(df_left_vs_right.describe(percentiles=[.01, .1, .9, .99]))\n",
    "df_left_vs_right.plot(kind='scatter', x='left_error', y='right_error', figsize=(8,8), xlim=(-100,1500), ylim=(-100,1500));"
   ]
  },
  {
   "cell_type": "code",
   "execution_count": 12,
   "id": "dba1ca23",
   "metadata": {},
   "outputs": [
    {
     "name": "stdout",
     "output_type": "stream",
     "text": [
      "\n",
      "right==True ERROR: 0\n"
     ]
    },
    {
     "data": {
      "image/png": "[encoded data removed]",
      "text/plain": [
       "<Figure size 1600x400 with 1 Axes>"
      ]
     },
     "metadata": {},
     "output_type": "display_data"
    },
    {
     "name": "stdout",
     "output_type": "stream",
     "text": [
      "\n",
      "right==False ERROR: 115\n"
     ]
    },
    {
     "data": {
      "image/png": "[encoded data removed]",
      "text/plain": [
       "<Figure size 1600x400 with 1 Axes>"
      ]
     },
     "metadata": {},
     "output_type": "display_data"
    }
   ],
   "source": [
    "# plotting function for an example\n",
    "\n",
    "def plot_fork_length_by_sample(df_specimen, df_historical, sample_id, feature='fork_length', bin_width=5, density=False, subtitle='', duplicate='unknown', right=False):\n",
    "    \"\"\" duplicate can be True, False, or 'unknown' \"\"\"\n",
    "    \n",
    "    figsize=(16,4)\n",
    "    offset = 0.1 if right else 0  # this is a hack - plt.hist() doesn't seem to have a right inclusive option for bins...\n",
    "    bins_plot = [x*5+offset + 20 for x in range(30)]  # centered on n%5==3 like df_spec, rounded to int%5 (could use +20.5 also to center perfectly on n%5==3)\n",
    "    \n",
    "    if duplicate == 'unknown':\n",
    "        colours = sns.color_palette()[0], sns.color_palette('pastel')[1]\n",
    "    elif duplicate: # duplicated\n",
    "        colours = sns.color_palette()[0], sns.color_palette('pastel')[2]\n",
    "    else: # not duplicated\n",
    "        colours = sns.color_palette()[0], sns.color_palette('deep')[6]\n",
    "        \n",
    "    plt.figure(figsize=figsize)\n",
    "    plt.xlim(20, 170)  # use same scale for all histograms for easy comparison\n",
    "    df_specimen.loc[df_specimen.sample_id==sample_id, feature].dropna().hist(alpha=0.6, color=colours[0], density=density, label=f'Specimen {feature}', bins=bins_plot)\n",
    "    df_historical.loc[df_historical.sample_id==sample_id, feature].dropna().hist(alpha=0.8, color=colours[1], density=density, label=f'Bioligical {feature}', bins=bins_plot, rwidth=0.7)\n",
    "    \n",
    "    feature_title = feature.title().replace(\"_\",\" \")\n",
    "    plt.legend(loc='upper right')\n",
    "    subtitle = ' - ' + subtitle if subtitle else ''\n",
    "    plt.title(f'Sample {sample_id}: {feature_title} Comparison - Specimen vs Biological Data{subtitle}')\n",
    "    plt.ylabel('Counts')\n",
    "    plt.xlabel(f'{feature_title}')\n",
    "    plt.show()\n",
    "\n",
    "\n",
    "n_sample = 5613\n",
    "print('\\nright==True ERROR:', match_spec_and_bio(df_spec, df_hist, n_sample, right=True))\n",
    "plot_fork_length_by_sample(df_spec, df_hist, n_sample, right=True)\n",
    "print('\\nright==False ERROR:', match_spec_and_bio(df_spec, df_hist, n_sample, right=False))\n",
    "plot_fork_length_by_sample(df_spec, df_hist, n_sample, right=False)"
   ]
  },
  {
   "cell_type": "markdown",
   "id": "0f96bf34",
   "metadata": {},
   "source": [
    "# Save Summary File"
   ]
  },
  {
   "cell_type": "code",
   "execution_count": 13,
   "id": "0806fde7",
   "metadata": {},
   "outputs": [],
   "source": [
    "df_summary.to_pickle('calculations\\df_summary.pickle')"
   ]
  }
 ],
 "metadata": {
  "kernelspec": {
   "display_name": "Python 3 (ipykernel)",
   "language": "python",
   "name": "python3"
  },
  "language_info": {
   "codemirror_mode": {
    "name": "ipython",
    "version": 3
   },
   "file_extension": ".py",
   "mimetype": "text/x-python",
   "name": "python",
   "nbconvert_exporter": "python",
   "pygments_lexer": "ipython3",
   "version": "3.9.13"
  }
 },
 "nbformat": 4,
 "nbformat_minor": 5
}
